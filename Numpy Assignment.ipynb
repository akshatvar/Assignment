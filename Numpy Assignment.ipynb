{
 "cells": [
  {
   "cell_type": "code",
   "execution_count": 1,
   "id": "d8615fc4-e9bd-4f34-a80c-bb09f32e4d68",
   "metadata": {},
   "outputs": [],
   "source": [
    "import numpy as np"
   ]
  },
  {
   "cell_type": "code",
   "execution_count": 10,
   "id": "46f7bbe0-a4d0-4efc-8c39-c219973d65ec",
   "metadata": {},
   "outputs": [],
   "source": [
    "list_ = ['1','2','3','4','5']\n",
    "array_list = np.array(object = list_)"
   ]
  },
  {
   "cell_type": "code",
   "execution_count": 11,
   "id": "f3398f56-d6fd-4599-b123-80e808f002d7",
   "metadata": {},
   "outputs": [
    {
     "name": "stdout",
     "output_type": "stream",
     "text": [
      "Data type of list <class 'str'>\n",
      "Data types of array <U1\n"
     ]
    }
   ],
   "source": [
    "#Q1. Is there any difference in the data type of variables list_ and array_list? If there is then write a code\n",
    "#to print the data types of both the variables.\n",
    "\n",
    "#Solution\n",
    "\"\"\"\n",
    "There is a difference in the data type of the list_ variable and the array_list variable. The elements in the\n",
    "list_ variable are strings, while the elements in the array_list variable are converted to a common data type\n",
    "by NumPy, which is likely integers.\n",
    "\"\"\"\n",
    "print(\"Data type of list\",type(list_[0]))\n",
    "print(\"Data types of array\",array_list.dtype)"
   ]
  },
  {
   "cell_type": "code",
   "execution_count": 21,
   "id": "24e47a09-9782-4c94-a673-f8f92a154752",
   "metadata": {},
   "outputs": [
    {
     "name": "stdout",
     "output_type": "stream",
     "text": [
      "Data Type of each element of list_\n",
      "<class 'str'>\n",
      "<class 'str'>\n",
      "<class 'str'>\n",
      "<class 'str'>\n",
      "<class 'str'>\n",
      "\n",
      "Data Type of each element of array_list\n",
      "<class 'numpy.int64'>\n",
      "<class 'numpy.int64'>\n",
      "<class 'numpy.int64'>\n",
      "<class 'numpy.int64'>\n",
      "<class 'numpy.int64'>\n"
     ]
    }
   ],
   "source": [
    "#Q2. Write a code to print the data type of each and every element of both the variables list_ and\n",
    "#array_list.\n",
    "print(\"Data Type of each element of list_\")\n",
    "for i in list_:\n",
    "    print(type(i))\n",
    "    \n",
    "print(\"\\nData Type of each element of array_list\")\n",
    "for i in array_list:\n",
    "    print(type(i))"
   ]
  },
  {
   "cell_type": "code",
   "execution_count": 19,
   "id": "32884bbb-befb-4d68-bd89-6e47965d2b12",
   "metadata": {},
   "outputs": [],
   "source": [
    "#Q3. Considering the following changes in the variable, array_list:\n",
    "array_list1 = np.array(object = list_, dtype = int)"
   ]
  },
  {
   "cell_type": "code",
   "execution_count": 20,
   "id": "daa59ac3-5132-4ef4-bc16-b2eb3e45644e",
   "metadata": {},
   "outputs": [
    {
     "name": "stdout",
     "output_type": "stream",
     "text": [
      "Data Type of each element of list_\n",
      "<class 'str'>\n",
      "<class 'str'>\n",
      "<class 'str'>\n",
      "<class 'str'>\n",
      "<class 'str'>\n",
      "\n",
      "Data Type of each element of array_list1\n",
      "<class 'numpy.int64'>\n",
      "<class 'numpy.int64'>\n",
      "<class 'numpy.int64'>\n",
      "<class 'numpy.int64'>\n",
      "<class 'numpy.int64'>\n"
     ]
    }
   ],
   "source": [
    "#Will there be any difference in the data type of the elements present in both the variables, list_ and\n",
    "#array_list1? If so then print the data types of each and every element present in both the variables, list_\n",
    "#and arra_list.\n",
    "\n",
    "#Solution\n",
    "\"\"\"\n",
    "There will be a difference in the data types of the elements present in the list_ variable and the array_list1 variable.\n",
    "In the list_ variable, the elements are strings (e.g., '1', '2', etc.), while in the array_list1 variable, the elements\n",
    "are integers.\n",
    "\"\"\"\n",
    "print(\"Data Type of each element of list_\")\n",
    "for i in list_:\n",
    "    print(type(i))\n",
    "\n",
    "print(\"\\nData Type of each element of array_list1\")\n",
    "for i in array_list1:\n",
    "    print(type(i))"
   ]
  },
  {
   "cell_type": "code",
   "execution_count": 22,
   "id": "b1e0f3af-26d1-446a-bfb2-4ef28488b29e",
   "metadata": {},
   "outputs": [],
   "source": [
    "#Consider the below code to answer further questions:\n",
    "num_list = [ [ 1 , 2 , 3 ] , [ 4 , 5 , 6 ] ]\n",
    "num_array = np.array(object = num_list)"
   ]
  },
  {
   "cell_type": "code",
   "execution_count": 25,
   "id": "5b2f4958-c6bc-4052-a668-327e799980c7",
   "metadata": {},
   "outputs": [
    {
     "name": "stdout",
     "output_type": "stream",
     "text": [
      "Shape of num_array (2, 3)\n",
      "Size of num_array 6\n"
     ]
    }
   ],
   "source": [
    "#Q4. Write a code to find the following characteristics of variable, num_array:\n",
    "#(i) shape\n",
    "#(ii) size\n",
    "\n",
    "#Solution\n",
    "print(\"Shape of num_array\",num_array.shape)\n",
    "print(\"Size of num_array\",num_array.size)"
   ]
  },
  {
   "cell_type": "code",
   "execution_count": 27,
   "id": "739ee7f3-d85d-4a31-b11c-db09eec62c94",
   "metadata": {},
   "outputs": [
    {
     "name": "stdout",
     "output_type": "stream",
     "text": [
      "[[0. 0. 0.]\n",
      " [0. 0. 0.]\n",
      " [0. 0. 0.]]\n"
     ]
    }
   ],
   "source": [
    "#Q5. Write a code to create numpy array of 3*3 matrix containing zeros only, using a numpy array\n",
    "#creation function.\n",
    "\n",
    "#Solution\n",
    "arr = np.zeros((3,3))\n",
    "print(arr)"
   ]
  },
  {
   "cell_type": "code",
   "execution_count": 29,
   "id": "47979fc9-780b-410d-908e-78e49ff9f903",
   "metadata": {},
   "outputs": [
    {
     "name": "stdout",
     "output_type": "stream",
     "text": [
      "[[1. 0. 0. 0. 0.]\n",
      " [0. 1. 0. 0. 0.]\n",
      " [0. 0. 1. 0. 0.]\n",
      " [0. 0. 0. 1. 0.]\n",
      " [0. 0. 0. 0. 1.]]\n"
     ]
    }
   ],
   "source": [
    "#Q6. Create an identity matrix of shape (5,5) using numpy functions?\n",
    "\n",
    "#Solution\n",
    "arr_i = np.identity((5))\n",
    "print(arr_i)"
   ]
  },
  {
   "cell_type": "code",
   "execution_count": null,
   "id": "ed70151d-40c5-4190-89b6-2ecab48a1edf",
   "metadata": {},
   "outputs": [],
   "source": []
  }
 ],
 "metadata": {
  "kernelspec": {
   "display_name": "Python 3 (ipykernel)",
   "language": "python",
   "name": "python3"
  },
  "language_info": {
   "codemirror_mode": {
    "name": "ipython",
    "version": 3
   },
   "file_extension": ".py",
   "mimetype": "text/x-python",
   "name": "python",
   "nbconvert_exporter": "python",
   "pygments_lexer": "ipython3",
   "version": "3.10.8"
  }
 },
 "nbformat": 4,
 "nbformat_minor": 5
}
