{
 "cells": [
  {
   "cell_type": "code",
   "execution_count": 1,
   "id": "dcc3f063-c0d2-4bff-9501-8fae85fc120e",
   "metadata": {},
   "outputs": [],
   "source": [
    "import pandas as pd"
   ]
  },
  {
   "cell_type": "code",
   "execution_count": 2,
   "id": "79e8afbd-a906-4009-ac20-9d00a9bfc5df",
   "metadata": {},
   "outputs": [],
   "source": [
    "course_name = ['Data Science', 'Machine Learning' , 'Big Data', 'Data Engineer']\n",
    "duration = [2,3,6,4]\n",
    "df = pd.DataFrame(data = {'course_name' : course_name, 'duration' : duration})"
   ]
  },
  {
   "cell_type": "code",
   "execution_count": 3,
   "id": "f42b628f-6d5c-4e77-80c4-ddf3bae9e595",
   "metadata": {},
   "outputs": [
    {
     "data": {
      "text/html": [
       "<div>\n",
       "<style scoped>\n",
       "    .dataframe tbody tr th:only-of-type {\n",
       "        vertical-align: middle;\n",
       "    }\n",
       "\n",
       "    .dataframe tbody tr th {\n",
       "        vertical-align: top;\n",
       "    }\n",
       "\n",
       "    .dataframe thead th {\n",
       "        text-align: right;\n",
       "    }\n",
       "</style>\n",
       "<table border=\"1\" class=\"dataframe\">\n",
       "  <thead>\n",
       "    <tr style=\"text-align: right;\">\n",
       "      <th></th>\n",
       "      <th>course_name</th>\n",
       "      <th>duration</th>\n",
       "    </tr>\n",
       "  </thead>\n",
       "  <tbody>\n",
       "    <tr>\n",
       "      <th>0</th>\n",
       "      <td>Data Science</td>\n",
       "      <td>2</td>\n",
       "    </tr>\n",
       "    <tr>\n",
       "      <th>1</th>\n",
       "      <td>Machine Learning</td>\n",
       "      <td>3</td>\n",
       "    </tr>\n",
       "    <tr>\n",
       "      <th>2</th>\n",
       "      <td>Big Data</td>\n",
       "      <td>6</td>\n",
       "    </tr>\n",
       "    <tr>\n",
       "      <th>3</th>\n",
       "      <td>Data Engineer</td>\n",
       "      <td>4</td>\n",
       "    </tr>\n",
       "  </tbody>\n",
       "</table>\n",
       "</div>"
      ],
      "text/plain": [
       "        course_name  duration\n",
       "0      Data Science         2\n",
       "1  Machine Learning         3\n",
       "2          Big Data         6\n",
       "3     Data Engineer         4"
      ]
     },
     "execution_count": 3,
     "metadata": {},
     "output_type": "execute_result"
    }
   ],
   "source": [
    "df"
   ]
  },
  {
   "cell_type": "code",
   "execution_count": 4,
   "id": "ab29ae9b-56a6-4110-a830-c49a69963ecc",
   "metadata": {},
   "outputs": [
    {
     "name": "stdout",
     "output_type": "stream",
     "text": [
      "course_name    Machine Learning\n",
      "duration                      3\n",
      "Name: 1, dtype: object\n"
     ]
    }
   ],
   "source": [
    "#Q1. Write a code to print the data present in the second row of the dataframe, df.\n",
    "\n",
    "#Solution\n",
    "print(df.iloc[1])"
   ]
  },
  {
   "cell_type": "code",
   "execution_count": 5,
   "id": "a2e089db-156a-4b39-9c45-a418875a492a",
   "metadata": {},
   "outputs": [
    {
     "name": "stdout",
     "output_type": "stream",
     "text": [
      "loc\n",
      "        course_name  duration\n",
      "0      Data Science         2\n",
      "1  Machine Learning         3\n",
      "2          Big Data         6\n",
      "\n",
      "iloc\n",
      "        course_name  duration\n",
      "0      Data Science         2\n",
      "1  Machine Learning         3\n"
     ]
    }
   ],
   "source": [
    "#Q2. What is the difference between the functions loc and iloc in pandas.DataFrame?\n",
    "\n",
    "#Solution\n",
    "\"\"\"\n",
    "\n",
    "In Pandas, loc and iloc are two important methods used to access and manipulate data in a DataFrame.\n",
    "They are used to select rows and columns based on different indexing techniques. Here's the difference\n",
    "between these two functions:\n",
    "\n",
    "loc: This method is primarily label-based indexing. It is used for selecting data by specifying row and\n",
    "column labels. You use the actual labels of rows and columns to access data.\n",
    "\n",
    "Syntax: df.loc[row_label, column_label]\n",
    "\n",
    "\"\"\"\n",
    "print(\"loc\")\n",
    "print(df.loc[0:2,['course_name','duration']])\n",
    "print('')\n",
    "\"\"\"\n",
    "iloc: This method is integer-based indexing. It is used for selecting data by specifying integer indices for\n",
    "rows and columns. You use integer positions to access data.\n",
    "\n",
    "Syntax: df.iloc[row_index, column_index]\n",
    "\"\"\"\n",
    "print('iloc')\n",
    "print(df.iloc[0:2,[0,1]])"
   ]
  },
  {
   "cell_type": "code",
   "execution_count": 6,
   "id": "ac8a104b-6e10-4f41-a076-a3142b3cf7aa",
   "metadata": {},
   "outputs": [
    {
     "name": "stdout",
     "output_type": "stream",
     "text": [
      "Data using loc\n",
      "course_name    Data Engineer\n",
      "duration                   4\n",
      "Name: 2, dtype: object\n",
      "\n",
      "Data using iloc\n",
      "course_name    Big Data\n",
      "duration              6\n",
      "Name: 1, dtype: object\n"
     ]
    }
   ],
   "source": [
    "#Q3. Reindex the given dataframe using a variable, reindex = [3,0,1,2] and store it in the variable, new_df\n",
    "#then find the output for both new_df.loc[2] and new_df.iloc[2].\n",
    "\n",
    "#Solution\n",
    "reindex = [3,0,1,2]\n",
    "new_df = df.copy()\n",
    "new_df.index = reindex\n",
    "print(\"Data using loc\")\n",
    "print(new_df.loc[2])\n",
    "print(\"\\nData using iloc\")\n",
    "print(new_df.iloc[2])"
   ]
  },
  {
   "cell_type": "code",
   "execution_count": 7,
   "id": "9b2d0cf1-356a-4f61-90b8-d3351d1fb3d1",
   "metadata": {},
   "outputs": [
    {
     "data": {
      "text/plain": [
       "'\\nYes, there will be a difference in the outputs of `new_df.loc[2]` and `new_df.iloc[2]` due to the reindexing process.\\n\\nHere\\'s the explanation:\\n\\n1. `new_df.loc[2]`:\\n    This uses label-based indexing. In the original DataFrame `df`, the label `2` corresponds to the row with the course\\n    name \"Big Data\" and duration `6`. However, after reindexing with `reindex_order = [3, 0, 1, 2]`, the label `2` now\\n    corresponds to the row with the course name \"Machine Learning\" and duration `3`. So, `new_df.loc[2]` will output the\\n    data for the row with the label/index `2` in the reindexed DataFrame, which is \"Machine Learning\" with duration `3`.\\n\\n2. `new_df.iloc[2]`:\\n    This uses integer-based indexing. After reindexing, the DataFrame `new_df` has its rows reordered according to the\\n   `reindex_order`. So, `new_df.iloc[2]` will output the data for the row at the integer index `2` in the reindexed DataFrame,\\n    which corresponds to the row with the course name \"Big Data\" and duration `6`.\\n\\nIn summary, the difference arises due to the change in the order of rows after reindexing, affecting both label-based and integer-based indexing methods.\\n'"
      ]
     },
     "execution_count": 7,
     "metadata": {},
     "output_type": "execute_result"
    }
   ],
   "source": [
    "#Did you observe any difference in both the outputs? If so then explain it.\n",
    "\"\"\"\n",
    "Yes, there will be a difference in the outputs of `new_df.loc[2]` and `new_df.iloc[2]` due to the reindexing process.\n",
    "\n",
    "Here's the explanation:\n",
    "\n",
    "1. `new_df.loc[2]`:\n",
    "    This uses label-based indexing. In the original DataFrame `df`, the label `2` corresponds to the row with the course\n",
    "    name \"Big Data\" and duration `6`. However, after reindexing with `reindex_order = [3, 0, 1, 2]`, the label `2` now\n",
    "    corresponds to the row with the course name \"Machine Learning\" and duration `3`. So, `new_df.loc[2]` will output the\n",
    "    data for the row with the label/index `2` in the reindexed DataFrame, which is \"Machine Learning\" with duration `3`.\n",
    "\n",
    "2. `new_df.iloc[2]`:\n",
    "    This uses integer-based indexing. After reindexing, the DataFrame `new_df` has its rows reordered according to the\n",
    "   `reindex_order`. So, `new_df.iloc[2]` will output the data for the row at the integer index `2` in the reindexed DataFrame,\n",
    "    which corresponds to the row with the course name \"Big Data\" and duration `6`.\n",
    "\n",
    "In summary, the difference arises due to the change in the order of rows after reindexing, affecting both label-based and integer-based indexing methods.\n",
    "\"\"\""
   ]
  },
  {
   "cell_type": "code",
   "execution_count": 8,
   "id": "49bb97d8-7c85-4b23-8a40-93b5ec0763ca",
   "metadata": {},
   "outputs": [
    {
     "data": {
      "text/html": [
       "<div>\n",
       "<style scoped>\n",
       "    .dataframe tbody tr th:only-of-type {\n",
       "        vertical-align: middle;\n",
       "    }\n",
       "\n",
       "    .dataframe tbody tr th {\n",
       "        vertical-align: top;\n",
       "    }\n",
       "\n",
       "    .dataframe thead th {\n",
       "        text-align: right;\n",
       "    }\n",
       "</style>\n",
       "<table border=\"1\" class=\"dataframe\">\n",
       "  <thead>\n",
       "    <tr style=\"text-align: right;\">\n",
       "      <th></th>\n",
       "      <th>course_name</th>\n",
       "      <th>duration</th>\n",
       "    </tr>\n",
       "  </thead>\n",
       "  <tbody>\n",
       "    <tr>\n",
       "      <th>3</th>\n",
       "      <td>Data Science</td>\n",
       "      <td>2</td>\n",
       "    </tr>\n",
       "    <tr>\n",
       "      <th>0</th>\n",
       "      <td>Machine Learning</td>\n",
       "      <td>3</td>\n",
       "    </tr>\n",
       "    <tr>\n",
       "      <th>1</th>\n",
       "      <td>Big Data</td>\n",
       "      <td>6</td>\n",
       "    </tr>\n",
       "    <tr>\n",
       "      <th>2</th>\n",
       "      <td>Data Engineer</td>\n",
       "      <td>4</td>\n",
       "    </tr>\n",
       "  </tbody>\n",
       "</table>\n",
       "</div>"
      ],
      "text/plain": [
       "        course_name  duration\n",
       "3      Data Science         2\n",
       "0  Machine Learning         3\n",
       "1          Big Data         6\n",
       "2     Data Engineer         4"
      ]
     },
     "execution_count": 8,
     "metadata": {},
     "output_type": "execute_result"
    }
   ],
   "source": [
    "new_df"
   ]
  },
  {
   "cell_type": "code",
   "execution_count": 9,
   "id": "de7e953e-fac2-49dd-b21a-11547504e265",
   "metadata": {},
   "outputs": [
    {
     "data": {
      "text/html": [
       "<div>\n",
       "<style scoped>\n",
       "    .dataframe tbody tr th:only-of-type {\n",
       "        vertical-align: middle;\n",
       "    }\n",
       "\n",
       "    .dataframe tbody tr th {\n",
       "        vertical-align: top;\n",
       "    }\n",
       "\n",
       "    .dataframe thead th {\n",
       "        text-align: right;\n",
       "    }\n",
       "</style>\n",
       "<table border=\"1\" class=\"dataframe\">\n",
       "  <thead>\n",
       "    <tr style=\"text-align: right;\">\n",
       "      <th></th>\n",
       "      <th>course_name</th>\n",
       "      <th>duration</th>\n",
       "    </tr>\n",
       "  </thead>\n",
       "  <tbody>\n",
       "    <tr>\n",
       "      <th>0</th>\n",
       "      <td>Data Science</td>\n",
       "      <td>2</td>\n",
       "    </tr>\n",
       "    <tr>\n",
       "      <th>1</th>\n",
       "      <td>Machine Learning</td>\n",
       "      <td>3</td>\n",
       "    </tr>\n",
       "    <tr>\n",
       "      <th>2</th>\n",
       "      <td>Big Data</td>\n",
       "      <td>6</td>\n",
       "    </tr>\n",
       "    <tr>\n",
       "      <th>3</th>\n",
       "      <td>Data Engineer</td>\n",
       "      <td>4</td>\n",
       "    </tr>\n",
       "  </tbody>\n",
       "</table>\n",
       "</div>"
      ],
      "text/plain": [
       "        course_name  duration\n",
       "0      Data Science         2\n",
       "1  Machine Learning         3\n",
       "2          Big Data         6\n",
       "3     Data Engineer         4"
      ]
     },
     "execution_count": 9,
     "metadata": {},
     "output_type": "execute_result"
    }
   ],
   "source": [
    "df"
   ]
  },
  {
   "cell_type": "code",
   "execution_count": 10,
   "id": "17b719fb-d3a7-465c-ace3-c3b1ac417d15",
   "metadata": {},
   "outputs": [],
   "source": [
    "#Consider the below code to answer further questions:\n",
    "import numpy as np\n",
    "columns = ['column_1', 'column_2', 'column_3', 'column_4', 'column_5', 'column_6']\n",
    "indices = [1,2,3,4,5,6]\n",
    "#Creating a dataframe:\n",
    "df1 = pd.DataFrame(np.random.rand(6,6), columns = columns, index = indices)"
   ]
  },
  {
   "cell_type": "code",
   "execution_count": 11,
   "id": "38dae304-4c87-4672-9b8d-77cf057a111f",
   "metadata": {},
   "outputs": [
    {
     "data": {
      "text/html": [
       "<div>\n",
       "<style scoped>\n",
       "    .dataframe tbody tr th:only-of-type {\n",
       "        vertical-align: middle;\n",
       "    }\n",
       "\n",
       "    .dataframe tbody tr th {\n",
       "        vertical-align: top;\n",
       "    }\n",
       "\n",
       "    .dataframe thead th {\n",
       "        text-align: right;\n",
       "    }\n",
       "</style>\n",
       "<table border=\"1\" class=\"dataframe\">\n",
       "  <thead>\n",
       "    <tr style=\"text-align: right;\">\n",
       "      <th></th>\n",
       "      <th>column_1</th>\n",
       "      <th>column_2</th>\n",
       "      <th>column_3</th>\n",
       "      <th>column_4</th>\n",
       "      <th>column_5</th>\n",
       "      <th>column_6</th>\n",
       "    </tr>\n",
       "  </thead>\n",
       "  <tbody>\n",
       "    <tr>\n",
       "      <th>1</th>\n",
       "      <td>0.954588</td>\n",
       "      <td>0.649020</td>\n",
       "      <td>0.912757</td>\n",
       "      <td>0.426726</td>\n",
       "      <td>0.514254</td>\n",
       "      <td>0.524582</td>\n",
       "    </tr>\n",
       "    <tr>\n",
       "      <th>2</th>\n",
       "      <td>0.226555</td>\n",
       "      <td>0.436653</td>\n",
       "      <td>0.299619</td>\n",
       "      <td>0.767575</td>\n",
       "      <td>0.208832</td>\n",
       "      <td>0.891503</td>\n",
       "    </tr>\n",
       "    <tr>\n",
       "      <th>3</th>\n",
       "      <td>0.110122</td>\n",
       "      <td>0.749600</td>\n",
       "      <td>0.513656</td>\n",
       "      <td>0.896610</td>\n",
       "      <td>0.915637</td>\n",
       "      <td>0.509446</td>\n",
       "    </tr>\n",
       "    <tr>\n",
       "      <th>4</th>\n",
       "      <td>0.307312</td>\n",
       "      <td>0.066490</td>\n",
       "      <td>0.053604</td>\n",
       "      <td>0.007906</td>\n",
       "      <td>0.143957</td>\n",
       "      <td>0.334641</td>\n",
       "    </tr>\n",
       "    <tr>\n",
       "      <th>5</th>\n",
       "      <td>0.312098</td>\n",
       "      <td>0.028926</td>\n",
       "      <td>0.147978</td>\n",
       "      <td>0.542963</td>\n",
       "      <td>0.372496</td>\n",
       "      <td>0.758663</td>\n",
       "    </tr>\n",
       "    <tr>\n",
       "      <th>6</th>\n",
       "      <td>0.147238</td>\n",
       "      <td>0.820051</td>\n",
       "      <td>0.401525</td>\n",
       "      <td>0.780051</td>\n",
       "      <td>0.472153</td>\n",
       "      <td>0.870482</td>\n",
       "    </tr>\n",
       "  </tbody>\n",
       "</table>\n",
       "</div>"
      ],
      "text/plain": [
       "   column_1  column_2  column_3  column_4  column_5  column_6\n",
       "1  0.954588  0.649020  0.912757  0.426726  0.514254  0.524582\n",
       "2  0.226555  0.436653  0.299619  0.767575  0.208832  0.891503\n",
       "3  0.110122  0.749600  0.513656  0.896610  0.915637  0.509446\n",
       "4  0.307312  0.066490  0.053604  0.007906  0.143957  0.334641\n",
       "5  0.312098  0.028926  0.147978  0.542963  0.372496  0.758663\n",
       "6  0.147238  0.820051  0.401525  0.780051  0.472153  0.870482"
      ]
     },
     "execution_count": 11,
     "metadata": {},
     "output_type": "execute_result"
    }
   ],
   "source": [
    "df1"
   ]
  },
  {
   "cell_type": "code",
   "execution_count": 12,
   "id": "d9b53d6b-0a6f-4fdd-92ca-050306c07813",
   "metadata": {},
   "outputs": [
    {
     "name": "stdout",
     "output_type": "stream",
     "text": [
      "Mean of Each Column\n",
      "column_1    0.342985\n",
      "column_2    0.458457\n",
      "column_3    0.388190\n",
      "column_4    0.570305\n",
      "column_5    0.437888\n",
      "column_6    0.648220\n",
      "dtype: float64\n",
      "\n",
      "Standard deviation of column 2\n",
      "0.34363907158745954\n"
     ]
    }
   ],
   "source": [
    "#Q4. Write a code to find the following statistical measurements for the above dataframe df1:\n",
    "#(i) mean of each and every column present in the dataframe.\n",
    "#(ii) standard deviation of column, ‘column_2’\n",
    "\n",
    "#Solution\n",
    "column_mean = df1.mean()\n",
    "print(\"Mean of Each Column\")\n",
    "print(column_mean)\n",
    "\n",
    "std_col2 = df1['column_2'].std()\n",
    "print(\"\\nStandard deviation of column 2\")\n",
    "print(std_col2)"
   ]
  },
  {
   "cell_type": "code",
   "execution_count": 13,
   "id": "5d0e7fc9-2269-456b-8d81-169dc43c266c",
   "metadata": {},
   "outputs": [
    {
     "data": {
      "text/plain": [
       "\"\\nthe above line occure an error because, Executing the code above will result in a DataConversionWarning and the mean\\ncalculation will likely fail. The warning and error occur because you're trying to mix data types within a column,\\nwhich is not allowed in numerical arrays.\\n\\n\""
      ]
     },
     "execution_count": 13,
     "metadata": {},
     "output_type": "execute_result"
    }
   ],
   "source": [
    "#Q5. Replace the data present in the second row of column, ‘column_2’ by a string variable then find the\n",
    "#mean of column, column_2.\n",
    "#If you are getting errors in executing it then explain why.\n",
    "\n",
    "#Solution\n",
    "df1.loc[2,['column_2']] = 'Bhaishab'\n",
    "#print(df1['column_2'].mean())\n",
    "\"\"\"\n",
    "the above line occure an error because, Executing the code above will result in a DataConversionWarning and the mean\n",
    "calculation will likely fail. The warning and error occur because you're trying to mix data types within a column,\n",
    "which is not allowed in numerical arrays.\n",
    "\n",
    "\"\"\""
   ]
  },
  {
   "cell_type": "code",
   "execution_count": 14,
   "id": "cbbc4d67-82d0-41b2-9721-2f6cab806b9d",
   "metadata": {},
   "outputs": [
    {
     "name": "stdout",
     "output_type": "stream",
     "text": [
      "   column_1  rolling_mean  expanding_sum\n",
      "0         9           NaN            NaN\n",
      "1         6           NaN       0.954588\n",
      "2         8           NaN       1.181143\n",
      "3         7      0.430421       1.291264\n",
      "4         3      0.214663       1.598576\n",
      "5         6      0.243177       1.910674\n",
      "6         3      0.255549       2.057912\n",
      "7         6           NaN            NaN\n",
      "8         6           NaN            NaN\n",
      "9         5           NaN            NaN\n"
     ]
    }
   ],
   "source": [
    "#Q6. What do you understand about the windows function in pandas and list the types of windows\n",
    "#functions?\n",
    "\n",
    "#Solution\n",
    "\"\"\"\n",
    "In Pandas, window functions are a powerful feature that allows you to perform calculations over a specified window of\n",
    "data in a DataFrame or Series. A window function takes a set of rows and performs an operation on them, typically producing\n",
    "a new value for each row in the window. This is especially useful for calculating rolling statistics, moving averages, cumulative sums, and more.\n",
    "\n",
    "Window functions are often used to analyze time series data or other types of sequential data, where the order of the data points matters.\n",
    "They provide a flexible way to compute aggregate values that depend on a subset of rows relative to the current row being processed.\n",
    "\n",
    "There are various types of window functions in Pandas:\n",
    "\n",
    "Rolling Window Functions:\n",
    "rolling() method is used to create a rolling window view on a Series or DataFrame.\n",
    "Common rolling window operations include calculating rolling mean, rolling sum, rolling standard deviation, etc.\n",
    "\n",
    "Expanding Window Functions:\n",
    "expanding() method is used to create an expanding window view on a Series or DataFrame.\n",
    "Expanding windows grow with each data point and include all previous rows.\n",
    "Useful for calculating cumulative sums, cumulative averages, etc.\n",
    "\n",
    "Exponential Moving Window Functions:\n",
    "ewm() method is used for exponential moving window calculations.\n",
    "Exponential moving windows assign more weight to recent data points and less weight to older data points.\n",
    "\"\"\"\n",
    "data2 = {'column_1': np.random.randint(1, 10, 10)}\n",
    "df2 = pd.DataFrame(data2)\n",
    "\n",
    "df2['rolling_mean'] = df1['column_1'].rolling(window=3).mean()\n",
    "\n",
    "df2['expanding_sum'] = df1['column_1'].expanding().sum()\n",
    "\n",
    "print(df2)\n"
   ]
  },
  {
   "cell_type": "code",
   "execution_count": 15,
   "id": "d9740057-d878-4e82-9efe-8863a75f62b6",
   "metadata": {},
   "outputs": [
    {
     "name": "stdout",
     "output_type": "stream",
     "text": [
      "Current Day: 11\n",
      "Current Month: 8\n",
      "Current year: 2023\n",
      "Current Time 11:13:18.002795\n"
     ]
    }
   ],
   "source": [
    "#Q7. Write a code to print only the current month and year at the time of answering this question.\n",
    "#Solution\n",
    "from datetime import timedelta\n",
    "current_date = pd.to_datetime('now',utc = True)\n",
    "print(\"Current Day:\",current_date.day)\n",
    "print(\"Current Month:\",current_date.month)\n",
    "print(\"Current year:\",current_date.year)\n",
    "ist = timedelta(hours = 5,minutes = 30)\n",
    "current_time_in_ist = current_date+ist\n",
    "print(\"Current Time\",current_time_in_ist.time())"
   ]
  },
  {
   "cell_type": "code",
   "execution_count": 29,
   "id": "72ebe267-a184-4020-ad53-329caf16ee36",
   "metadata": {},
   "outputs": [
    {
     "name": "stdin",
     "output_type": "stream",
     "text": [
      "Enter first Date (yyyy-mm-dd) 20120912\n",
      "Enter second Date (yyyy-mm-dd) 20341201\n"
     ]
    },
    {
     "name": "stdout",
     "output_type": "stream",
     "text": [
      "Year Difference 22\n",
      "Month Difference 3\n",
      "Day Differnece 8115\n",
      "Hours Difference 0\n",
      "Minutes Difference 0\n"
     ]
    }
   ],
   "source": [
    "#Q8. Write a Python program that takes in two dates as input (in the format YYYY-MM-DD) and\n",
    "#calculates the difference between them in days, hours, and minutes using Pandas time delta. The\n",
    "#program should prompt the user to enter the dates and display the result.\n",
    "\n",
    "#Solution\n",
    "time1 = input('Enter first Date (yyyy-mm-dd)')\n",
    "time2 = input('Enter second Date (yyyy-mm-dd)')\n",
    "\n",
    "Date1 = pd.Timestamp(time1)\n",
    "Date2 = pd.Timestamp(time2)\n",
    "\n",
    "time_difference = Date1 - Date2\n",
    "\n",
    "day_difference = time_difference.days\n",
    "year_difference = Date1.year - Date2.year\n",
    "month_difference = Date1.month - Date2.month\n",
    "hours_difference = time_difference.seconds//3600\n",
    "minutes_difference = (time_difference.seconds%3600)//60\n",
    "\n",
    "print(\"Year Difference\",abs(year_difference))\n",
    "print(\"Month Difference\",abs(month_difference))\n",
    "print(\"Day Differnece\",abs(day_difference))\n",
    "print(\"Hours Difference\",abs(hours_difference))\n",
    "print(\"Minutes Difference\",abs(minutes_difference))"
   ]
  },
  {
   "cell_type": "code",
   "execution_count": 35,
   "id": "7c8ea267-0d44-445d-b37b-26f95f4af245",
   "metadata": {},
   "outputs": [
    {
     "name": "stdout",
     "output_type": "stream",
     "text": [
      "Sorted Data:\n",
      "     total_bill    tip     sex smoker   day    time  size\n",
      "67         3.07   1.00  Female    Yes   Sat  Dinner     1\n",
      "92         5.75   1.00  Female    Yes   Fri  Dinner     2\n",
      "111        7.25   1.00  Female     No   Sat  Dinner     1\n",
      "172        7.25   5.15    Male    Yes   Sun  Dinner     2\n",
      "149        7.51   2.00    Male     No  Thur   Lunch     2\n",
      "..          ...    ...     ...    ...   ...     ...   ...\n",
      "182       45.35   3.50    Male    Yes   Sun  Dinner     3\n",
      "156       48.17   5.00    Male     No   Sun  Dinner     6\n",
      "59        48.27   6.73    Male     No   Sat  Dinner     4\n",
      "212       48.33   9.00    Male     No   Sat  Dinner     4\n",
      "170       50.81  10.00    Male    Yes   Sat  Dinner     3\n",
      "\n",
      "[244 rows x 7 columns]\n"
     ]
    }
   ],
   "source": [
    "#Q9. Write a Python program that reads a CSV file containing categorical data and converts a specified\n",
    "#column to a categorical data type. The program should prompt the user to enter the file path, column\n",
    "#name, and category order, and then display the sorted data.\n",
    "\n",
    "#Solution\n",
    "csv_data = \"https://raw.githubusercontent.com/pandas-dev/pandas/main/pandas/tests/io/data/csv/tips.csv\"\n",
    "df_csv = pd.read_csv(csv_data)\n",
    "sorted_data = df_csv.sort_values(by='total_bill')\n",
    "print(\"Sorted Data:\")\n",
    "print(sorted_data)"
   ]
  },
  {
   "cell_type": "code",
   "execution_count": 56,
   "id": "d1769254-e9de-41b5-90af-51456dd2d4b9",
   "metadata": {},
   "outputs": [
    {
     "data": {
      "text/plain": [
       "<AxesSubplot: xlabel='day'>"
      ]
     },
     "execution_count": 56,
     "metadata": {},
     "output_type": "execute_result"
    },
    {
     "data": {
      "image/png": "[encoded data removed]",
      "text/plain": [
       "<Figure size 500x600 with 1 Axes>"
      ]
     },
     "metadata": {},
     "output_type": "display_data"
    }
   ],
   "source": [
    "#Q10. Write a Python program that reads a CSV file containing sales data for different products and\n",
    "#visualizes the data using a stacked bar chart to show the sales of each product category over time. The\n",
    "#program should prompt the user to enter the file path and display the chart.\n",
    "\n",
    "#Solution\n",
    "table = df_csv.pivot_table(values='total_bill',index='day',aggfunc='sum',columns='time')\n",
    "table.plot(kind='bar', stacked=True, figsize=(5, 6))"
   ]
  },
  {
   "cell_type": "code",
   "execution_count": 57,
   "id": "55c445cd-a982-4d92-bfc7-a888b4466d74",
   "metadata": {},
   "outputs": [],
   "source": [
    "#Q11. You are given a CSV file containing student data that includes the student ID and their test score. Write\n",
    "#a Python program that reads the CSV file, calculates the mean, median, and mode of the test scores, and\n",
    "#displays the results in a table.\n",
    "\n",
    "#Solution\n",
    "stu_data = {\"Student_id\":[1,2,3,4,5,6,7,8,9,10],\n",
    "           \"test_score\":[85,90,80,75,85,82,78,85,90,85]}\n",
    "df_stu = pd.DataFrame(stu_data)"
   ]
  },
  {
   "cell_type": "code",
   "execution_count": 58,
   "id": "dc83b46f-f493-4612-a264-cd1d2a97737f",
   "metadata": {},
   "outputs": [
    {
     "data": {
      "text/html": [
       "<div>\n",
       "<style scoped>\n",
       "    .dataframe tbody tr th:only-of-type {\n",
       "        vertical-align: middle;\n",
       "    }\n",
       "\n",
       "    .dataframe tbody tr th {\n",
       "        vertical-align: top;\n",
       "    }\n",
       "\n",
       "    .dataframe thead th {\n",
       "        text-align: right;\n",
       "    }\n",
       "</style>\n",
       "<table border=\"1\" class=\"dataframe\">\n",
       "  <thead>\n",
       "    <tr style=\"text-align: right;\">\n",
       "      <th></th>\n",
       "      <th>Student_id</th>\n",
       "      <th>test_score</th>\n",
       "    </tr>\n",
       "  </thead>\n",
       "  <tbody>\n",
       "    <tr>\n",
       "      <th>0</th>\n",
       "      <td>1</td>\n",
       "      <td>85</td>\n",
       "    </tr>\n",
       "    <tr>\n",
       "      <th>1</th>\n",
       "      <td>2</td>\n",
       "      <td>90</td>\n",
       "    </tr>\n",
       "    <tr>\n",
       "      <th>2</th>\n",
       "      <td>3</td>\n",
       "      <td>80</td>\n",
       "    </tr>\n",
       "    <tr>\n",
       "      <th>3</th>\n",
       "      <td>4</td>\n",
       "      <td>75</td>\n",
       "    </tr>\n",
       "    <tr>\n",
       "      <th>4</th>\n",
       "      <td>5</td>\n",
       "      <td>85</td>\n",
       "    </tr>\n",
       "    <tr>\n",
       "      <th>5</th>\n",
       "      <td>6</td>\n",
       "      <td>82</td>\n",
       "    </tr>\n",
       "    <tr>\n",
       "      <th>6</th>\n",
       "      <td>7</td>\n",
       "      <td>78</td>\n",
       "    </tr>\n",
       "    <tr>\n",
       "      <th>7</th>\n",
       "      <td>8</td>\n",
       "      <td>85</td>\n",
       "    </tr>\n",
       "    <tr>\n",
       "      <th>8</th>\n",
       "      <td>9</td>\n",
       "      <td>90</td>\n",
       "    </tr>\n",
       "    <tr>\n",
       "      <th>9</th>\n",
       "      <td>10</td>\n",
       "      <td>85</td>\n",
       "    </tr>\n",
       "  </tbody>\n",
       "</table>\n",
       "</div>"
      ],
      "text/plain": [
       "   Student_id  test_score\n",
       "0           1          85\n",
       "1           2          90\n",
       "2           3          80\n",
       "3           4          75\n",
       "4           5          85\n",
       "5           6          82\n",
       "6           7          78\n",
       "7           8          85\n",
       "8           9          90\n",
       "9          10          85"
      ]
     },
     "execution_count": 58,
     "metadata": {},
     "output_type": "execute_result"
    }
   ],
   "source": [
    "df_stu"
   ]
  },
  {
   "cell_type": "code",
   "execution_count": 67,
   "id": "92b57561-8acc-495e-8800-f40ec0df3c17",
   "metadata": {},
   "outputs": [
    {
     "name": "stdout",
     "output_type": "stream",
     "text": [
      "Mean: 83.5\n",
      "Median: 85.0\n",
      "Mode 85\n"
     ]
    }
   ],
   "source": [
    "print(\"Mean:\",df_stu['test_score'].mean())\n",
    "print(\"Median:\",df_stu['test_score'].median())\n",
    "print(\"Mode\",df_stu['test_score'].mode()[0])"
   ]
  },
  {
   "cell_type": "code",
   "execution_count": null,
   "id": "cc05ba5e-f0d8-48be-9e9c-865cca651aba",
   "metadata": {},
   "outputs": [],
   "source": []
  }
 ],
 "metadata": {
  "kernelspec": {
   "display_name": "Python 3 (ipykernel)",
   "language": "python",
   "name": "python3"
  },
  "language_info": {
   "codemirror_mode": {
    "name": "ipython",
    "version": 3
   },
   "file_extension": ".py",
   "mimetype": "text/x-python",
   "name": "python",
   "nbconvert_exporter": "python",
   "pygments_lexer": "ipython3",
   "version": "3.10.8"
  }
 },
 "nbformat": 4,
 "nbformat_minor": 5
}
