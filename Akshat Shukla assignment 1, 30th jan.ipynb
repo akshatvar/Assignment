{
 "cells": [
  {
   "cell_type": "code",
   "execution_count": 2,
   "id": "9e1c4678-29a4-4aba-83a5-d1170686d19e",
   "metadata": {},
   "outputs": [
    {
     "name": "stdin",
     "output_type": "stream",
     "text": [
      "Enter your percentage 90\n"
     ]
    },
    {
     "name": "stdout",
     "output_type": "stream",
     "text": [
      "Your grade is B\n"
     ]
    }
   ],
   "source": [
    "#  Write a program to accept percentage from the user and display the grade according to the following \n",
    "#  criteria: \n",
    "#   marks              grade\n",
    "#    >90                 A\n",
    "#    >80 and <=90         B\n",
    "#    >=60 and <=80       C\n",
    "#    below 60            D\n",
    "\n",
    "# solution\n",
    "\n",
    "marks = int(input(\"Enter your percentage\"))\n",
    "if marks > 90:\n",
    "    print(\"Your grade is\",'A')\n",
    "elif marks > 80 and marks <= 90:\n",
    "    print(\"Your grade is\",'B')\n",
    "elif marks >= 60 and marks <= 80:\n",
    "    print(\"Your grade is\",'C')\n",
    "else:\n",
    "    print(\"Your grade is\"'D')\n",
    "\n"
   ]
  },
  {
   "cell_type": "code",
   "execution_count": 3,
   "id": "106e06d0-81cf-4113-963d-b70a5ef967fd",
   "metadata": {},
   "outputs": [
    {
     "name": "stdin",
     "output_type": "stream",
     "text": [
      "Enter the cost price of the bike 78665\n"
     ]
    },
    {
     "name": "stdout",
     "output_type": "stream",
     "text": [
      "Road Tax to be paid\n",
      "10%\n"
     ]
    }
   ],
   "source": [
    "#  Write a program to accept the cost price of a bike and display the road tax to be paid according to the \n",
    "#  following criteria: \n",
    "#         tax               Cost price(in Rs)\n",
    "#         15%                 > 100000 \n",
    "#         10%                 > 50000 and <= 100000\n",
    "#         5%                  <= 50000 \n",
    "        \n",
    "# solution\n",
    "\n",
    "costPrice = int(input(\"Enter the cost price of the bike\"))\n",
    "print(\"Road Tax to be paid\")\n",
    "\n",
    "if costPrice > 100000:\n",
    "    print(\"15%\")\n",
    "elif costPrice > 50000 and costPrice <= 100000:\n",
    "    print(\"10%\")\n",
    "else:\n",
    "    print(\"5%\")"
   ]
  },
  {
   "cell_type": "code",
   "execution_count": 8,
   "id": "0f4b276d-6a08-4e8b-8c7e-37456481ba25",
   "metadata": {},
   "outputs": [
    {
     "name": "stdin",
     "output_type": "stream",
     "text": [
      "Enter the name of city varanasi\n"
     ]
    },
    {
     "name": "stdout",
     "output_type": "stream",
     "text": [
      "Dear User,\n",
      "Sorry for the inconvenience the data of the city that you want is currently unavailable\n",
      "Please select the city among 'Delhi','Agra','Jaipur'\n"
     ]
    }
   ],
   "source": [
    "# Accept any city from the user and display monument of the city\n",
    "        # city                   monument\n",
    "        # Delhi                  Red fort\n",
    "        # Agra                   Taj Mahal\n",
    "        # Jaipur                 Jal Mahal\n",
    "# Solution\n",
    "\n",
    "City = {\"delhi\":('Red Fort'),\"agra\":('Taj Mahal'),\"jaipur\":('Jal Mahal')}\n",
    "\n",
    "name = input(\"Enter the name of city\")\n",
    "name = name.lower()\n",
    "for i in City:\n",
    "    if i == name:\n",
    "        print(\"Monument of the City\",City[name])\n",
    "        break\n",
    "else:\n",
    "    print(\"Dear User,\")\n",
    "    print(\"Sorry for the inconvenience the data of the city that you want is currently unavailable\")\n",
    "    print(\"Please select the city among 'Delhi','Agra','Jaipur'\")"
   ]
  },
  {
   "cell_type": "code",
   "execution_count": 18,
   "id": "061af941-9b0f-45d3-a1c5-af738336aa03",
   "metadata": {},
   "outputs": [
    {
     "name": "stdin",
     "output_type": "stream",
     "text": [
      "Enter the number 7\n"
     ]
    },
    {
     "name": "stdout",
     "output_type": "stream",
     "text": [
      "The given number is divisible by three in 0 times\n"
     ]
    }
   ],
   "source": [
    "# Check how many times the given number is divisible by 3 before it is less than or equal to 10\n",
    "\n",
    "# solution\n",
    "\n",
    "n = int(input(\"Enter the number\"))\n",
    "count = 0\n",
    "while n >= 0:\n",
    "    if n%3 == 0:\n",
    "        count = count + 1\n",
    "    else:\n",
    "        break\n",
    "    n = n/3\n",
    "print(\"The given number is divisible by three in\",count,\"times\")\n"
   ]
  },
  {
   "cell_type": "code",
   "execution_count": 2,
   "id": "420f0836-88a0-4548-b70c-3601d001ad29",
   "metadata": {},
   "outputs": [
    {
     "name": "stdout",
     "output_type": "stream",
     "text": [
      "0\n",
      "1\n",
      "2\n",
      "3\n"
     ]
    }
   ],
   "source": [
    "# Why and when to use while loop in python give a detailed description with example\n",
    "\n",
    "# solution\n",
    "\"\"\"While Loop is used to execute a block of statements repeatedly until a given condition is satisfied.\n",
    "In simple words:\n",
    "With the while loop, we can execute a set of statements as long as a condition is true and when the condition becomes false,\n",
    "the line immediately after the loop in the program is executed.\n",
    "\n",
    "Example: Print i as long as i is less than 4:\n",
    "The while loop requires relevant variables to be ready, in this example, we need to define an indexing variable, i, which we set to 1.\"\"\"\n",
    "\n",
    "i = 0\n",
    "while i<4:\n",
    "    print(i)\n",
    "    i = i+1"
   ]
  },
  {
   "cell_type": "code",
   "execution_count": 11,
   "id": "5a23ed15-15da-4852-9ca1-158153af0249",
   "metadata": {},
   "outputs": [
    {
     "name": "stdin",
     "output_type": "stream",
     "text": [
      "Enter the number 5\n"
     ]
    },
    {
     "name": "stdout",
     "output_type": "stream",
     "text": [
      "First Pattern\n",
      "*\n",
      "**\n",
      "***\n",
      "****\n",
      "*****\n",
      "Second Pattern\n",
      "1\n",
      "12\n",
      "123\n",
      "1234\n",
      "12345\n",
      "Third pattern\n",
      "    1\n",
      "   12\n",
      "  123\n",
      " 1234\n",
      "12345\n"
     ]
    }
   ],
   "source": [
    "# use nested while loop to print three different pattern\n",
    "\n",
    "# solution\n",
    "\n",
    "n = int(input(\"Enter the number\"))\n",
    "\n",
    "print(\"First Pattern\")\n",
    "i = 0\n",
    "while i < n:\n",
    "    j = 0\n",
    "    while j <= i:\n",
    "        print('*',end='')\n",
    "        j = j+1\n",
    "    print('\\r')\n",
    "    i = i+1\n",
    "\n",
    "print(\"Second Pattern\")\n",
    "i = 1\n",
    "while i <= n:\n",
    "    j = 1\n",
    "    while j <= i:\n",
    "        print(j,end='')\n",
    "        j = j+1\n",
    "    print('\\r')\n",
    "    i = i+1\n",
    "\n",
    "print(\"Third pattern\")\n",
    "i = 1\n",
    "while i <= n:\n",
    "    j = 0\n",
    "    while j < n-i:\n",
    "        print(' ',end='')\n",
    "        j = j+1\n",
    "    k = 1\n",
    "    while k <= i:\n",
    "        print(k,end='')\n",
    "        k = k+1\n",
    "    print('\\r')\n",
    "    i = i+1"
   ]
  },
  {
   "cell_type": "code",
   "execution_count": 15,
   "id": "d94f973b-35e8-4d20-87dc-1f0f79dcfd4f",
   "metadata": {},
   "outputs": [
    {
     "name": "stdout",
     "output_type": "stream",
     "text": [
      "10\n",
      "9\n",
      "8\n",
      "7\n",
      "6\n",
      "5\n",
      "4\n",
      "3\n",
      "2\n",
      "1\n"
     ]
    }
   ],
   "source": [
    "# reverse a while to display a number from 10 to 1\n",
    "\n",
    "# solution\n",
    "n = 10\n",
    "while n > 0:\n",
    "    print(n)\n",
    "    n = n-1"
   ]
  },
  {
   "cell_type": "code",
   "execution_count": null,
   "id": "33c480fb-41d8-435b-ad47-92ee04662786",
   "metadata": {},
   "outputs": [],
   "source": []
  }
 ],
 "metadata": {
  "kernelspec": {
   "display_name": "Python 3 (ipykernel)",
   "language": "python",
   "name": "python3"
  },
  "language_info": {
   "codemirror_mode": {
    "name": "ipython",
    "version": 3
   },
   "file_extension": ".py",
   "mimetype": "text/x-python",
   "name": "python",
   "nbconvert_exporter": "python",
   "pygments_lexer": "ipython3",
   "version": "3.10.8"
  }
 },
 "nbformat": 4,
 "nbformat_minor": 5
}
