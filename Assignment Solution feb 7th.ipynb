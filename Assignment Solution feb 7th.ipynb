{
 "cells": [
  {
   "cell_type": "code",
   "execution_count": 12,
   "id": "33f62c98-9893-4dad-8014-70fcf7d2fa52",
   "metadata": {},
   "outputs": [
    {
     "name": "stdin",
     "output_type": "stream",
     "text": [
      "Create Your password ADFGaghhdh1345673\n"
     ]
    },
    {
     "name": "stdout",
     "output_type": "stream",
     "text": [
      "Invalid Password\n"
     ]
    }
   ],
   "source": [
    "#You are writing code for a company. The requirement of the company is that you create a python \n",
    "# function that will check whether the password entered by the user is correct or not. The function should \n",
    "# take the password as input and return the string “Valid Password” if the entered password follows the \n",
    "# below-given password guidelines else it should return “Invalid Password”.\n",
    "# Note:\n",
    "#1. The Password should contain at least two uppercase letters and at least two lowercase letters.\n",
    "# 2. The Password should contain at least a number and three special characters.\n",
    "# 3. The length of the password should be 10 characters long\n",
    "\n",
    "def checkpassword(password):\n",
    "    if len(password) < 10:\n",
    "        return \"Invalid Password\"\n",
    "    numlist = ['0','1','2','3','4','5','6','7','8','9']\n",
    "    upper,lower,num,special = 0,0,0,0\n",
    "    for letter in password:\n",
    "        if letter.isupper():\n",
    "            upper=upper+1\n",
    "        elif letter.islower():\n",
    "            lower=lower+1\n",
    "        elif letter in numlist:\n",
    "            num=num+1\n",
    "        else:\n",
    "            special=special+1\n",
    "    if upper < 2 or lower < 2 or num < 1 or special < 3:\n",
    "        return \"Invalid Password\"\n",
    "    return \"Valid Password\"\n",
    "        \n",
    "password = input(\"Create Your password\")\n",
    "print(checkpassword(password))"
   ]
  },
  {
   "cell_type": "code",
   "execution_count": 20,
   "id": "5c92f04e-6c68-4dc5-88ec-450f9d11a013",
   "metadata": {},
   "outputs": [
    {
     "name": "stdin",
     "output_type": "stream",
     "text": [
      "Enter your string Don is back\n",
      "Enter your first letter which to checked D\n"
     ]
    },
    {
     "data": {
      "text/plain": [
       "True"
      ]
     },
     "execution_count": 20,
     "metadata": {},
     "output_type": "execute_result"
    }
   ],
   "source": [
    "#Check if the string starts with a particular letter\n",
    "\n",
    "#solution\n",
    "string = lambda x:x[0]==input(\"Enter your first letter which to checked\")\n",
    "string(input(\"Enter your string\"))"
   ]
  },
  {
   "cell_type": "code",
   "execution_count": 29,
   "id": "ea3c7f99-ba27-4fa8-8dd0-55e89c2f678e",
   "metadata": {},
   "outputs": [
    {
     "name": "stdin",
     "output_type": "stream",
     "text": [
      "Enter your string 12343\n"
     ]
    },
    {
     "data": {
      "text/plain": [
       "True"
      ]
     },
     "execution_count": 29,
     "metadata": {},
     "output_type": "execute_result"
    }
   ],
   "source": [
    "#Check if the string is numeric\n",
    "\n",
    "#Solution\n",
    "string = lambda x: x.isnumeric()\n",
    "string(input(\"Enter your string\"))"
   ]
  },
  {
   "cell_type": "code",
   "execution_count": 37,
   "id": "adb82aad-53cc-4b61-b929-8962360bd0fc",
   "metadata": {},
   "outputs": [
    {
     "name": "stdout",
     "output_type": "stream",
     "text": [
      "Sorted list based on their quantity\n",
      "[('orange', 80), ('mango', 99), ('grapes', 1000)]\n",
      "sorted list based on their names\n",
      "[('grapes', 1000), ('mango', 99), ('orange', 80)]\n"
     ]
    }
   ],
   "source": [
    "#Sort a list of tuples having fruit names and their quantity. [(\"mango\",99),(\"orange\",80), (\"grapes\", 1000)]\n",
    "\n",
    "#solution\n",
    "fruit = [(\"mango\",99),(\"orange\",80), (\"grapes\", 1000)]\n",
    "fruit.sort(key = lambda x:x[1])\n",
    "print(\"Sorted list based on their quantity\")\n",
    "print(fruit)\n",
    "fruit.sort(key = lambda x:x[0])\n",
    "print(\"sorted list based on their names\")\n",
    "print(fruit)"
   ]
  },
  {
   "cell_type": "code",
   "execution_count": 42,
   "id": "a6d5de2e-41a6-421c-b225-41b97a1e244e",
   "metadata": {},
   "outputs": [
    {
     "name": "stdout",
     "output_type": "stream",
     "text": [
      "[1, 2, 3, 4, 5, 6, 7, 8, 9, 10]\n"
     ]
    },
    {
     "data": {
      "text/plain": [
       "[1, 4, 9, 16, 25, 36, 49, 64, 81, 100]"
      ]
     },
     "execution_count": 42,
     "metadata": {},
     "output_type": "execute_result"
    }
   ],
   "source": [
    "#Find the squares of numbers from 1 to 10\n",
    "\n",
    "#solution\n",
    "l = []\n",
    "for i in range(1,11):\n",
    "    l.append(i)\n",
    "print(l)\n",
    "\n",
    "list(map(lambda x:x**2,l))"
   ]
  },
  {
   "cell_type": "code",
   "execution_count": 47,
   "id": "efa0649f-4443-43b1-a213-bffaed313000",
   "metadata": {},
   "outputs": [
    {
     "name": "stdout",
     "output_type": "stream",
     "text": [
      "[1, 2, 3, 4, 5, 6, 7, 8, 9, 10]\n"
     ]
    },
    {
     "data": {
      "text/plain": [
       "[1.0,\n",
       " 1.2599210498948732,\n",
       " 1.4422495703074083,\n",
       " 1.5874010519681994,\n",
       " 1.7099759466766968,\n",
       " 1.8171205928321397,\n",
       " 1.912931182772389,\n",
       " 2.0,\n",
       " 2.080083823051904,\n",
       " 2.154434690031884]"
      ]
     },
     "execution_count": 47,
     "metadata": {},
     "output_type": "execute_result"
    }
   ],
   "source": [
    "# Find the cube root of numbers from 1 to 10\n",
    "\n",
    "#solution\n",
    "l = []\n",
    "for i in range(1,11):\n",
    "    l.append(i)\n",
    "print(l)\n",
    "\n",
    "list(map(lambda x:x**(1/3),l))"
   ]
  },
  {
   "cell_type": "code",
   "execution_count": 54,
   "id": "34ee0017-1bd4-4f99-9c4d-58c7dd2bb84d",
   "metadata": {},
   "outputs": [
    {
     "name": "stdin",
     "output_type": "stream",
     "text": [
      "Enter the number 62\n"
     ]
    },
    {
     "data": {
      "text/plain": [
       "True"
      ]
     },
     "execution_count": 54,
     "metadata": {},
     "output_type": "execute_result"
    }
   ],
   "source": [
    "# Check if a given number is even\n",
    "\n",
    "#solution\n",
    "\n",
    "num = (lambda x:x%2==0)\n",
    "num(int(input(\"Enter the number\")))"
   ]
  },
  {
   "cell_type": "code",
   "execution_count": 55,
   "id": "ae6213ba-73f3-491e-9d4e-dfc1fde64916",
   "metadata": {},
   "outputs": [
    {
     "data": {
      "text/plain": [
       "[1, 3, 5, 7, 9]"
      ]
     },
     "execution_count": 55,
     "metadata": {},
     "output_type": "execute_result"
    }
   ],
   "source": [
    "#Filter odd numbers from the given list.[1,2,3,4,5,6,7,8,9,10]\n",
    "\n",
    "#solution\n",
    "l = [1,2,3,4,5,6,7,8,9,10]\n",
    "list(filter(lambda x:x%2!=0,l))"
   ]
  },
  {
   "cell_type": "code",
   "execution_count": 61,
   "id": "4ea64fd5-06c6-4ed1-a140-3926293c8b2c",
   "metadata": {},
   "outputs": [
    {
     "name": "stdout",
     "output_type": "stream",
     "text": [
      "List of positive integer\n",
      "[1, 2, 3, 4, 5, 6]\n",
      "List of Negative integer\n",
      "[-1, -2, -3, -4, -5]\n"
     ]
    }
   ],
   "source": [
    "#Sort a list of integers into positive and negative integers lists. [1,2,3,4,5,6,-1,-2,-3,-4,-5,0]\n",
    "\n",
    "#solution\n",
    "l = [1,2,3,4,5,6,-1,-2,-3,-4,-5,0]\n",
    "print(\"List of positive integer\")\n",
    "print(list(filter(lambda x:x>0,l)))\n",
    "print(\"List of Negative integer\")\n",
    "print(list(filter(lambda x:x<0,l)))\n"
   ]
  },
  {
   "cell_type": "code",
   "execution_count": null,
   "id": "3a72a74d-28fe-4d0f-aec0-3a98ebcd7c55",
   "metadata": {},
   "outputs": [],
   "source": []
  }
 ],
 "metadata": {
  "kernelspec": {
   "display_name": "Python 3 (ipykernel)",
   "language": "python",
   "name": "python3"
  },
  "language_info": {
   "codemirror_mode": {
    "name": "ipython",
    "version": 3
   },
   "file_extension": ".py",
   "mimetype": "text/x-python",
   "name": "python",
   "nbconvert_exporter": "python",
   "pygments_lexer": "ipython3",
   "version": "3.10.8"
  }
 },
 "nbformat": 4,
 "nbformat_minor": 5
}
