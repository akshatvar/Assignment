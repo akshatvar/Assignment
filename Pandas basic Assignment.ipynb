{
 "cells": [
  {
   "cell_type": "code",
   "execution_count": 1,
   "id": "68c9b433-1080-47a2-940a-fb3f07e70a80",
   "metadata": {},
   "outputs": [],
   "source": [
    "import pandas as pd"
   ]
  },
  {
   "cell_type": "code",
   "execution_count": 2,
   "id": "3088a255-962f-472f-a7aa-1033d7e88607",
   "metadata": {},
   "outputs": [
    {
     "name": "stdout",
     "output_type": "stream",
     "text": [
      "Requirement already satisfied: pandas in /opt/conda/lib/python3.10/site-packages (1.5.2)\n",
      "Requirement already satisfied: python-dateutil>=2.8.1 in /opt/conda/lib/python3.10/site-packages (from pandas) (2.8.2)\n",
      "Requirement already satisfied: pytz>=2020.1 in /opt/conda/lib/python3.10/site-packages (from pandas) (2022.6)\n",
      "Requirement already satisfied: numpy>=1.21.0 in /opt/conda/lib/python3.10/site-packages (from pandas) (1.23.5)\n",
      "Requirement already satisfied: six>=1.5 in /opt/conda/lib/python3.10/site-packages (from python-dateutil>=2.8.1->pandas) (1.16.0)\n",
      "Note: you may need to restart the kernel to use updated packages.\n"
     ]
    }
   ],
   "source": [
    "pip install pandas"
   ]
  },
  {
   "cell_type": "code",
   "execution_count": 3,
   "id": "40ce3d6c-c8b5-4bf3-9fc8-cdfe295a0ab5",
   "metadata": {},
   "outputs": [],
   "source": [
    "#Q1. Create a Pandas Series that contains the following data: 4, 8, 15, 16, 23, and 42. Then, print the series.\n",
    "d = [4,8,15,16,23,42]\n",
    "sr = pd.Series(d)"
   ]
  },
  {
   "cell_type": "code",
   "execution_count": 4,
   "id": "44469061-30dc-4a91-a3c4-f3994188642a",
   "metadata": {},
   "outputs": [
    {
     "data": {
      "text/plain": [
       "0     4\n",
       "1     8\n",
       "2    15\n",
       "3    16\n",
       "4    23\n",
       "5    42\n",
       "dtype: int64"
      ]
     },
     "execution_count": 4,
     "metadata": {},
     "output_type": "execute_result"
    }
   ],
   "source": [
    "sr"
   ]
  },
  {
   "cell_type": "code",
   "execution_count": 5,
   "id": "cc275b5e-d3b6-45eb-b86e-dde152a6ccda",
   "metadata": {},
   "outputs": [
    {
     "data": {
      "text/plain": [
       "pandas.core.series.Series"
      ]
     },
     "execution_count": 5,
     "metadata": {},
     "output_type": "execute_result"
    }
   ],
   "source": [
    "type(sr)"
   ]
  },
  {
   "cell_type": "code",
   "execution_count": 6,
   "id": "e19bcf06-6e47-4139-aed6-9bdc77f553f2",
   "metadata": {},
   "outputs": [],
   "source": [
    "#Q2. Create a variable of list type containing 10 elements in it, and apply pandas.Series function on the variable print it.\n",
    "l = ['Don','Boss','Legend','Bhau','Bai','Systemmm','Carli','Boto','Dada','Heronin']\n",
    "sl = pd.Series(l)"
   ]
  },
  {
   "cell_type": "code",
   "execution_count": 7,
   "id": "938a34aa-0e9d-4b7f-aa49-2262e31e3599",
   "metadata": {},
   "outputs": [
    {
     "data": {
      "text/plain": [
       "0         Don\n",
       "1        Boss\n",
       "2      Legend\n",
       "3        Bhau\n",
       "4         Bai\n",
       "5    Systemmm\n",
       "6       Carli\n",
       "7        Boto\n",
       "8        Dada\n",
       "9     Heronin\n",
       "dtype: object"
      ]
     },
     "execution_count": 7,
     "metadata": {},
     "output_type": "execute_result"
    }
   ],
   "source": [
    "sl"
   ]
  },
  {
   "cell_type": "code",
   "execution_count": 8,
   "id": "260f042e-c16b-4aa0-8030-8f34570baebc",
   "metadata": {},
   "outputs": [],
   "source": [
    "#Q3. Create a Pandas DataFrame that contains the following data:\n",
    "d1 = {\"Name\":[\"Alice\",\"Bob\",\"Claire\"],\n",
    "     \"Age\":[25,30,27],\n",
    "     \"Gender\":[\"Female\",\"Male\",\"female\"]}\n",
    "df1 = pd.DataFrame(d1)"
   ]
  },
  {
   "cell_type": "code",
   "execution_count": 9,
   "id": "d2fd9fd2-8082-471a-b8d0-bac11d88b78a",
   "metadata": {},
   "outputs": [
    {
     "name": "stdout",
     "output_type": "stream",
     "text": [
      "     Name  Age  Gender\n",
      "0   Alice   25  Female\n",
      "1     Bob   30    Male\n",
      "2  Claire   27  female\n"
     ]
    }
   ],
   "source": [
    "print(df1)"
   ]
  },
  {
   "cell_type": "code",
   "execution_count": 10,
   "id": "070e8a15-c9ea-419a-8d52-e3f9137df92a",
   "metadata": {},
   "outputs": [
    {
     "data": {
      "text/plain": [
       "'\\nIn Pandas, a `DataFrame` is a two-dimensional tabular data structure, similar to a spreadsheet or a SQL table. It consists of\\nrows and columns, where each column can contain different data types. It is one of the most commonly used data structures in\\nPandas and provides powerful methods for data manipulation, analysis, and cleaning.\\n\\nOn the other hand, a `Series` is a one-dimensional labeled array in Pandas, similar to a Python list but with additional functionalities\\nand built-in labeling. It represents a single column of data with an associated index.\\n\\n'"
      ]
     },
     "execution_count": 10,
     "metadata": {},
     "output_type": "execute_result"
    }
   ],
   "source": [
    "#Q4.What is ‘DataFrame’ in pandas and how is it different from pandas.series? Explain with example\n",
    "\n",
    "#Solution\n",
    "\"\"\"\n",
    "In Pandas, a `DataFrame` is a two-dimensional tabular data structure, similar to a spreadsheet or a SQL table. It consists of\n",
    "rows and columns, where each column can contain different data types. It is one of the most commonly used data structures in\n",
    "Pandas and provides powerful methods for data manipulation, analysis, and cleaning.\n",
    "\n",
    "On the other hand, a `Series` is a one-dimensional labeled array in Pandas, similar to a Python list but with additional functionalities\n",
    "and built-in labeling. It represents a single column of data with an associated index.\n",
    "\n",
    "\"\"\""
   ]
  },
  {
   "cell_type": "code",
   "execution_count": 11,
   "id": "ab7cb3b5-332d-4adf-a59a-4939432bb752",
   "metadata": {},
   "outputs": [],
   "source": [
    "\"\"\"\n",
    "DataFrame Example\n",
    "\"\"\"\n",
    "d2 = {\"Name\":[\"Don\",\"Boss\",\"Bhau\"],\n",
    "     \"Age\":[25,30,27],\n",
    "     \"City\":[\"Bombay\",\"NYC\",\"Kanpur\"]}\n",
    "df2 = pd.DataFrame(d2)"
   ]
  },
  {
   "cell_type": "code",
   "execution_count": 12,
   "id": "8feb749f-4adb-4238-82a2-70e6b94882f8",
   "metadata": {},
   "outputs": [
    {
     "data": {
      "text/html": [
       "<div>\n",
       "<style scoped>\n",
       "    .dataframe tbody tr th:only-of-type {\n",
       "        vertical-align: middle;\n",
       "    }\n",
       "\n",
       "    .dataframe tbody tr th {\n",
       "        vertical-align: top;\n",
       "    }\n",
       "\n",
       "    .dataframe thead th {\n",
       "        text-align: right;\n",
       "    }\n",
       "</style>\n",
       "<table border=\"1\" class=\"dataframe\">\n",
       "  <thead>\n",
       "    <tr style=\"text-align: right;\">\n",
       "      <th></th>\n",
       "      <th>Name</th>\n",
       "      <th>Age</th>\n",
       "      <th>City</th>\n",
       "    </tr>\n",
       "  </thead>\n",
       "  <tbody>\n",
       "    <tr>\n",
       "      <th>0</th>\n",
       "      <td>Don</td>\n",
       "      <td>25</td>\n",
       "      <td>Bombay</td>\n",
       "    </tr>\n",
       "    <tr>\n",
       "      <th>1</th>\n",
       "      <td>Boss</td>\n",
       "      <td>30</td>\n",
       "      <td>NYC</td>\n",
       "    </tr>\n",
       "    <tr>\n",
       "      <th>2</th>\n",
       "      <td>Bhau</td>\n",
       "      <td>27</td>\n",
       "      <td>Kanpur</td>\n",
       "    </tr>\n",
       "  </tbody>\n",
       "</table>\n",
       "</div>"
      ],
      "text/plain": [
       "   Name  Age    City\n",
       "0   Don   25  Bombay\n",
       "1  Boss   30     NYC\n",
       "2  Bhau   27  Kanpur"
      ]
     },
     "execution_count": 12,
     "metadata": {},
     "output_type": "execute_result"
    }
   ],
   "source": [
    "df2"
   ]
  },
  {
   "cell_type": "code",
   "execution_count": 13,
   "id": "d3fca270-7764-4e0c-82d7-81e03b30094b",
   "metadata": {},
   "outputs": [
    {
     "data": {
      "text/plain": [
       "pandas.core.frame.DataFrame"
      ]
     },
     "execution_count": 13,
     "metadata": {},
     "output_type": "execute_result"
    }
   ],
   "source": [
    "type(df2)"
   ]
  },
  {
   "cell_type": "code",
   "execution_count": 14,
   "id": "2a49741b-58e3-4223-a791-d3778a373ab3",
   "metadata": {},
   "outputs": [],
   "source": [
    "\"\"\"\n",
    "Series Example\n",
    "\"\"\"\n",
    "l2 = ['Don','Boss','Legend','Bhau','Bai','Systemmm','Carli','Boto','Dada','Heronin']\n",
    "sl2 = pd.Series(l2)"
   ]
  },
  {
   "cell_type": "code",
   "execution_count": 15,
   "id": "0230cc09-38ec-41cd-9e1f-853207ac033b",
   "metadata": {},
   "outputs": [
    {
     "data": {
      "text/plain": [
       "0         Don\n",
       "1        Boss\n",
       "2      Legend\n",
       "3        Bhau\n",
       "4         Bai\n",
       "5    Systemmm\n",
       "6       Carli\n",
       "7        Boto\n",
       "8        Dada\n",
       "9     Heronin\n",
       "dtype: object"
      ]
     },
     "execution_count": 15,
     "metadata": {},
     "output_type": "execute_result"
    }
   ],
   "source": [
    "sl2"
   ]
  },
  {
   "cell_type": "code",
   "execution_count": 16,
   "id": "5484ed4f-10f4-4592-81ca-d999aabd0313",
   "metadata": {},
   "outputs": [
    {
     "data": {
      "text/plain": [
       "pandas.core.series.Series"
      ]
     },
     "execution_count": 16,
     "metadata": {},
     "output_type": "execute_result"
    }
   ],
   "source": [
    "type(sl2)"
   ]
  },
  {
   "cell_type": "code",
   "execution_count": 17,
   "id": "132b9c55-a18a-4592-bf10-8cdc1aeb19d9",
   "metadata": {},
   "outputs": [],
   "source": [
    "#Q5. What are some common functions you can use to manipulate data in a Pandas DataFrame? Can you give an example of\n",
    "# when you might use one of these functions?\n",
    "\n",
    "#Solution\n",
    "#let's take a dataframe df2\n",
    "\n",
    "#add Coloum in df2\n",
    "df2['Girlfriend'] = [8,5,9]\n",
    "df2['Wealth in 100M'] = [2,3,1]\n",
    "\n",
    "#Assign Index\n",
    "index = [101,102,103]\n",
    "df2.index = index\n",
    "\n",
    "#add row\n",
    "d3 = {'Name':['Boto','dada','Charlie'],\n",
    "     'Age':[26,52,21],\n",
    "     'Girlfriend':[6,17,1],\n",
    "     'Wealth in 100M':[3,10,8],\n",
    "     'City':['Delhi','Bangolore','Pune']}\n",
    "df3 = pd.concat([df2,pd.DataFrame(d3)],ignore_index = True)"
   ]
  },
  {
   "cell_type": "code",
   "execution_count": 18,
   "id": "bf6dce4d-b380-44a4-a459-14cc2f653856",
   "metadata": {},
   "outputs": [
    {
     "data": {
      "text/html": [
       "<div>\n",
       "<style scoped>\n",
       "    .dataframe tbody tr th:only-of-type {\n",
       "        vertical-align: middle;\n",
       "    }\n",
       "\n",
       "    .dataframe tbody tr th {\n",
       "        vertical-align: top;\n",
       "    }\n",
       "\n",
       "    .dataframe thead th {\n",
       "        text-align: right;\n",
       "    }\n",
       "</style>\n",
       "<table border=\"1\" class=\"dataframe\">\n",
       "  <thead>\n",
       "    <tr style=\"text-align: right;\">\n",
       "      <th></th>\n",
       "      <th>Name</th>\n",
       "      <th>Age</th>\n",
       "      <th>City</th>\n",
       "      <th>Girlfriend</th>\n",
       "      <th>Wealth in 100M</th>\n",
       "    </tr>\n",
       "  </thead>\n",
       "  <tbody>\n",
       "    <tr>\n",
       "      <th>0</th>\n",
       "      <td>Don</td>\n",
       "      <td>25</td>\n",
       "      <td>Bombay</td>\n",
       "      <td>8</td>\n",
       "      <td>2</td>\n",
       "    </tr>\n",
       "    <tr>\n",
       "      <th>1</th>\n",
       "      <td>Boss</td>\n",
       "      <td>30</td>\n",
       "      <td>NYC</td>\n",
       "      <td>5</td>\n",
       "      <td>3</td>\n",
       "    </tr>\n",
       "    <tr>\n",
       "      <th>2</th>\n",
       "      <td>Bhau</td>\n",
       "      <td>27</td>\n",
       "      <td>Kanpur</td>\n",
       "      <td>9</td>\n",
       "      <td>1</td>\n",
       "    </tr>\n",
       "    <tr>\n",
       "      <th>3</th>\n",
       "      <td>Boto</td>\n",
       "      <td>26</td>\n",
       "      <td>Delhi</td>\n",
       "      <td>6</td>\n",
       "      <td>3</td>\n",
       "    </tr>\n",
       "    <tr>\n",
       "      <th>4</th>\n",
       "      <td>dada</td>\n",
       "      <td>52</td>\n",
       "      <td>Bangolore</td>\n",
       "      <td>17</td>\n",
       "      <td>10</td>\n",
       "    </tr>\n",
       "    <tr>\n",
       "      <th>5</th>\n",
       "      <td>Charlie</td>\n",
       "      <td>21</td>\n",
       "      <td>Pune</td>\n",
       "      <td>1</td>\n",
       "      <td>8</td>\n",
       "    </tr>\n",
       "  </tbody>\n",
       "</table>\n",
       "</div>"
      ],
      "text/plain": [
       "      Name  Age       City  Girlfriend  Wealth in 100M\n",
       "0      Don   25     Bombay           8               2\n",
       "1     Boss   30        NYC           5               3\n",
       "2     Bhau   27     Kanpur           9               1\n",
       "3     Boto   26      Delhi           6               3\n",
       "4     dada   52  Bangolore          17              10\n",
       "5  Charlie   21       Pune           1               8"
      ]
     },
     "execution_count": 18,
     "metadata": {},
     "output_type": "execute_result"
    }
   ],
   "source": [
    "df3"
   ]
  },
  {
   "cell_type": "code",
   "execution_count": 19,
   "id": "8f93006a-a0a6-4fef-bbed-7c5ddc5a507d",
   "metadata": {},
   "outputs": [
    {
     "data": {
      "text/html": [
       "<div>\n",
       "<style scoped>\n",
       "    .dataframe tbody tr th:only-of-type {\n",
       "        vertical-align: middle;\n",
       "    }\n",
       "\n",
       "    .dataframe tbody tr th {\n",
       "        vertical-align: top;\n",
       "    }\n",
       "\n",
       "    .dataframe thead th {\n",
       "        text-align: right;\n",
       "    }\n",
       "</style>\n",
       "<table border=\"1\" class=\"dataframe\">\n",
       "  <thead>\n",
       "    <tr style=\"text-align: right;\">\n",
       "      <th></th>\n",
       "      <th>Age</th>\n",
       "      <th>Girlfriend</th>\n",
       "      <th>Wealth in 100M</th>\n",
       "    </tr>\n",
       "  </thead>\n",
       "  <tbody>\n",
       "    <tr>\n",
       "      <th>count</th>\n",
       "      <td>6.000000</td>\n",
       "      <td>6.000000</td>\n",
       "      <td>6.000000</td>\n",
       "    </tr>\n",
       "    <tr>\n",
       "      <th>mean</th>\n",
       "      <td>30.166667</td>\n",
       "      <td>7.666667</td>\n",
       "      <td>4.500000</td>\n",
       "    </tr>\n",
       "    <tr>\n",
       "      <th>std</th>\n",
       "      <td>11.089034</td>\n",
       "      <td>5.354126</td>\n",
       "      <td>3.619392</td>\n",
       "    </tr>\n",
       "    <tr>\n",
       "      <th>min</th>\n",
       "      <td>21.000000</td>\n",
       "      <td>1.000000</td>\n",
       "      <td>1.000000</td>\n",
       "    </tr>\n",
       "    <tr>\n",
       "      <th>25%</th>\n",
       "      <td>25.250000</td>\n",
       "      <td>5.250000</td>\n",
       "      <td>2.250000</td>\n",
       "    </tr>\n",
       "    <tr>\n",
       "      <th>50%</th>\n",
       "      <td>26.500000</td>\n",
       "      <td>7.000000</td>\n",
       "      <td>3.000000</td>\n",
       "    </tr>\n",
       "    <tr>\n",
       "      <th>75%</th>\n",
       "      <td>29.250000</td>\n",
       "      <td>8.750000</td>\n",
       "      <td>6.750000</td>\n",
       "    </tr>\n",
       "    <tr>\n",
       "      <th>max</th>\n",
       "      <td>52.000000</td>\n",
       "      <td>17.000000</td>\n",
       "      <td>10.000000</td>\n",
       "    </tr>\n",
       "  </tbody>\n",
       "</table>\n",
       "</div>"
      ],
      "text/plain": [
       "             Age  Girlfriend  Wealth in 100M\n",
       "count   6.000000    6.000000        6.000000\n",
       "mean   30.166667    7.666667        4.500000\n",
       "std    11.089034    5.354126        3.619392\n",
       "min    21.000000    1.000000        1.000000\n",
       "25%    25.250000    5.250000        2.250000\n",
       "50%    26.500000    7.000000        3.000000\n",
       "75%    29.250000    8.750000        6.750000\n",
       "max    52.000000   17.000000       10.000000"
      ]
     },
     "execution_count": 19,
     "metadata": {},
     "output_type": "execute_result"
    }
   ],
   "source": [
    "#describe in pandes\n",
    "df3.describe()"
   ]
  },
  {
   "cell_type": "code",
   "execution_count": 20,
   "id": "110835cb-bba8-4dea-b832-47ab1bde9b74",
   "metadata": {},
   "outputs": [
    {
     "data": {
      "text/html": [
       "<div>\n",
       "<style scoped>\n",
       "    .dataframe tbody tr th:only-of-type {\n",
       "        vertical-align: middle;\n",
       "    }\n",
       "\n",
       "    .dataframe tbody tr th {\n",
       "        vertical-align: top;\n",
       "    }\n",
       "\n",
       "    .dataframe thead th {\n",
       "        text-align: right;\n",
       "    }\n",
       "</style>\n",
       "<table border=\"1\" class=\"dataframe\">\n",
       "  <thead>\n",
       "    <tr style=\"text-align: right;\">\n",
       "      <th></th>\n",
       "      <th>Name</th>\n",
       "      <th>Age</th>\n",
       "      <th>City</th>\n",
       "      <th>Girlfriend</th>\n",
       "      <th>Wealth in 100M</th>\n",
       "    </tr>\n",
       "  </thead>\n",
       "  <tbody>\n",
       "    <tr>\n",
       "      <th>0</th>\n",
       "      <td>Don</td>\n",
       "      <td>25</td>\n",
       "      <td>Bombay</td>\n",
       "      <td>8</td>\n",
       "      <td>2</td>\n",
       "    </tr>\n",
       "    <tr>\n",
       "      <th>1</th>\n",
       "      <td>Boss</td>\n",
       "      <td>30</td>\n",
       "      <td>NYC</td>\n",
       "      <td>5</td>\n",
       "      <td>3</td>\n",
       "    </tr>\n",
       "    <tr>\n",
       "      <th>2</th>\n",
       "      <td>Bhau</td>\n",
       "      <td>27</td>\n",
       "      <td>Kanpur</td>\n",
       "      <td>9</td>\n",
       "      <td>1</td>\n",
       "    </tr>\n",
       "    <tr>\n",
       "      <th>3</th>\n",
       "      <td>Boto</td>\n",
       "      <td>26</td>\n",
       "      <td>Delhi</td>\n",
       "      <td>6</td>\n",
       "      <td>3</td>\n",
       "    </tr>\n",
       "    <tr>\n",
       "      <th>4</th>\n",
       "      <td>dada</td>\n",
       "      <td>52</td>\n",
       "      <td>Bangolore</td>\n",
       "      <td>17</td>\n",
       "      <td>10</td>\n",
       "    </tr>\n",
       "  </tbody>\n",
       "</table>\n",
       "</div>"
      ],
      "text/plain": [
       "   Name  Age       City  Girlfriend  Wealth in 100M\n",
       "0   Don   25     Bombay           8               2\n",
       "1  Boss   30        NYC           5               3\n",
       "2  Bhau   27     Kanpur           9               1\n",
       "3  Boto   26      Delhi           6               3\n",
       "4  dada   52  Bangolore          17              10"
      ]
     },
     "execution_count": 20,
     "metadata": {},
     "output_type": "execute_result"
    }
   ],
   "source": [
    "#head in pandas\n",
    "df3.head()"
   ]
  },
  {
   "cell_type": "code",
   "execution_count": 21,
   "id": "19b62f1d-1db2-4311-8dd9-e08ef98083be",
   "metadata": {},
   "outputs": [
    {
     "data": {
      "text/html": [
       "<div>\n",
       "<style scoped>\n",
       "    .dataframe tbody tr th:only-of-type {\n",
       "        vertical-align: middle;\n",
       "    }\n",
       "\n",
       "    .dataframe tbody tr th {\n",
       "        vertical-align: top;\n",
       "    }\n",
       "\n",
       "    .dataframe thead th {\n",
       "        text-align: right;\n",
       "    }\n",
       "</style>\n",
       "<table border=\"1\" class=\"dataframe\">\n",
       "  <thead>\n",
       "    <tr style=\"text-align: right;\">\n",
       "      <th></th>\n",
       "      <th>Name</th>\n",
       "      <th>Age</th>\n",
       "      <th>City</th>\n",
       "      <th>Girlfriend</th>\n",
       "      <th>Wealth in 100M</th>\n",
       "    </tr>\n",
       "  </thead>\n",
       "  <tbody>\n",
       "    <tr>\n",
       "      <th>1</th>\n",
       "      <td>Boss</td>\n",
       "      <td>30</td>\n",
       "      <td>NYC</td>\n",
       "      <td>5</td>\n",
       "      <td>3</td>\n",
       "    </tr>\n",
       "    <tr>\n",
       "      <th>2</th>\n",
       "      <td>Bhau</td>\n",
       "      <td>27</td>\n",
       "      <td>Kanpur</td>\n",
       "      <td>9</td>\n",
       "      <td>1</td>\n",
       "    </tr>\n",
       "    <tr>\n",
       "      <th>3</th>\n",
       "      <td>Boto</td>\n",
       "      <td>26</td>\n",
       "      <td>Delhi</td>\n",
       "      <td>6</td>\n",
       "      <td>3</td>\n",
       "    </tr>\n",
       "    <tr>\n",
       "      <th>4</th>\n",
       "      <td>dada</td>\n",
       "      <td>52</td>\n",
       "      <td>Bangolore</td>\n",
       "      <td>17</td>\n",
       "      <td>10</td>\n",
       "    </tr>\n",
       "    <tr>\n",
       "      <th>5</th>\n",
       "      <td>Charlie</td>\n",
       "      <td>21</td>\n",
       "      <td>Pune</td>\n",
       "      <td>1</td>\n",
       "      <td>8</td>\n",
       "    </tr>\n",
       "  </tbody>\n",
       "</table>\n",
       "</div>"
      ],
      "text/plain": [
       "      Name  Age       City  Girlfriend  Wealth in 100M\n",
       "1     Boss   30        NYC           5               3\n",
       "2     Bhau   27     Kanpur           9               1\n",
       "3     Boto   26      Delhi           6               3\n",
       "4     dada   52  Bangolore          17              10\n",
       "5  Charlie   21       Pune           1               8"
      ]
     },
     "execution_count": 21,
     "metadata": {},
     "output_type": "execute_result"
    }
   ],
   "source": [
    "#tail in pandas\n",
    "df3.tail()"
   ]
  },
  {
   "cell_type": "code",
   "execution_count": null,
   "id": "0d2b0d3f-e821-4fb0-9ce1-657dad4bb748",
   "metadata": {},
   "outputs": [],
   "source": [
    "#Q6. Which of the following is mutable in nature Series, DataFrame, Panel?\n",
    "#Solution\n",
    "\"\"\"\n",
    "In Pandas, both Series and DataFrame are mutable data structures, meaning you can modify their values, add or remove\n",
    "elements, and change their content after they are created. On the other hand, the Panel data structure has been deprecated\n",
    "since Pandas version 0.25.0 and is no longer considered part of the recommended API.\n",
    "\"\"\"\n"
   ]
  },
  {
   "cell_type": "code",
   "execution_count": 23,
   "id": "6454ccc0-6aac-44e7-98c6-086698632349",
   "metadata": {},
   "outputs": [],
   "source": [
    "#Q7. Create a DataFrame using multiple Series. Explain with an example.\n",
    "\n",
    "#Solution\n",
    "names = pd.Series(['Don','Boss','Legend','Bhau','Bai','Systemmm','Carli','Boto','Dada','Heronin'])\n",
    "ages = pd.Series([25,30,22,27,23,45,23,59,32,35])\n",
    "cities = pd.Series(['New York','San Francisco','Bombay','Chicago','Delhi','Los Angeles','Kanpur','Pune','Praygraj','London'])\n",
    "\n",
    "df4 = pd.DataFrame({'Names':names,\n",
    "                  'Age':ages,\n",
    "                  'City':cities})"
   ]
  },
  {
   "cell_type": "code",
   "execution_count": 24,
   "id": "d8f6b5e6-036a-4c7a-8b59-ebb8cab6e5e3",
   "metadata": {},
   "outputs": [
    {
     "data": {
      "text/html": [
       "<div>\n",
       "<style scoped>\n",
       "    .dataframe tbody tr th:only-of-type {\n",
       "        vertical-align: middle;\n",
       "    }\n",
       "\n",
       "    .dataframe tbody tr th {\n",
       "        vertical-align: top;\n",
       "    }\n",
       "\n",
       "    .dataframe thead th {\n",
       "        text-align: right;\n",
       "    }\n",
       "</style>\n",
       "<table border=\"1\" class=\"dataframe\">\n",
       "  <thead>\n",
       "    <tr style=\"text-align: right;\">\n",
       "      <th></th>\n",
       "      <th>Names</th>\n",
       "      <th>Age</th>\n",
       "      <th>City</th>\n",
       "    </tr>\n",
       "  </thead>\n",
       "  <tbody>\n",
       "    <tr>\n",
       "      <th>0</th>\n",
       "      <td>Don</td>\n",
       "      <td>25</td>\n",
       "      <td>New York</td>\n",
       "    </tr>\n",
       "    <tr>\n",
       "      <th>1</th>\n",
       "      <td>Boss</td>\n",
       "      <td>30</td>\n",
       "      <td>San Francisco</td>\n",
       "    </tr>\n",
       "    <tr>\n",
       "      <th>2</th>\n",
       "      <td>Legend</td>\n",
       "      <td>22</td>\n",
       "      <td>Bombay</td>\n",
       "    </tr>\n",
       "    <tr>\n",
       "      <th>3</th>\n",
       "      <td>Bhau</td>\n",
       "      <td>27</td>\n",
       "      <td>Chicago</td>\n",
       "    </tr>\n",
       "    <tr>\n",
       "      <th>4</th>\n",
       "      <td>Bai</td>\n",
       "      <td>23</td>\n",
       "      <td>Delhi</td>\n",
       "    </tr>\n",
       "    <tr>\n",
       "      <th>5</th>\n",
       "      <td>Systemmm</td>\n",
       "      <td>45</td>\n",
       "      <td>Los Angeles</td>\n",
       "    </tr>\n",
       "    <tr>\n",
       "      <th>6</th>\n",
       "      <td>Carli</td>\n",
       "      <td>23</td>\n",
       "      <td>Kanpur</td>\n",
       "    </tr>\n",
       "    <tr>\n",
       "      <th>7</th>\n",
       "      <td>Boto</td>\n",
       "      <td>59</td>\n",
       "      <td>Pune</td>\n",
       "    </tr>\n",
       "    <tr>\n",
       "      <th>8</th>\n",
       "      <td>Dada</td>\n",
       "      <td>32</td>\n",
       "      <td>Praygraj</td>\n",
       "    </tr>\n",
       "    <tr>\n",
       "      <th>9</th>\n",
       "      <td>Heronin</td>\n",
       "      <td>35</td>\n",
       "      <td>London</td>\n",
       "    </tr>\n",
       "  </tbody>\n",
       "</table>\n",
       "</div>"
      ],
      "text/plain": [
       "      Names  Age           City\n",
       "0       Don   25       New York\n",
       "1      Boss   30  San Francisco\n",
       "2    Legend   22         Bombay\n",
       "3      Bhau   27        Chicago\n",
       "4       Bai   23          Delhi\n",
       "5  Systemmm   45    Los Angeles\n",
       "6     Carli   23         Kanpur\n",
       "7      Boto   59           Pune\n",
       "8      Dada   32       Praygraj\n",
       "9   Heronin   35         London"
      ]
     },
     "execution_count": 24,
     "metadata": {},
     "output_type": "execute_result"
    }
   ],
   "source": [
    "df4"
   ]
  },
  {
   "cell_type": "code",
   "execution_count": null,
   "id": "7504955f-f0a1-4102-9d13-355eb5e123d4",
   "metadata": {},
   "outputs": [],
   "source": []
  }
 ],
 "metadata": {
  "kernelspec": {
   "display_name": "Python 3 (ipykernel)",
   "language": "python",
   "name": "python3"
  },
  "language_info": {
   "codemirror_mode": {
    "name": "ipython",
    "version": 3
   },
   "file_extension": ".py",
   "mimetype": "text/x-python",
   "name": "python",
   "nbconvert_exporter": "python",
   "pygments_lexer": "ipython3",
   "version": "3.10.8"
  }
 },
 "nbformat": 4,
 "nbformat_minor": 5
}
