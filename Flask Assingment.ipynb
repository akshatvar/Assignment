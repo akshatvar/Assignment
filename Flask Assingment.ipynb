{
 "cells": [
  {
   "cell_type": "code",
   "execution_count": null,
   "id": "3e16b351-b867-4d2f-b874-5a5a9939c049",
   "metadata": {},
   "outputs": [],
   "source": [
    "#Q1. Explain GET and POST methods\n",
    "\n",
    "#solution\n",
    "\"\"\"\n",
    "GET Method:\n",
    "The GET method is used to retrieve data from a server. When a client sends a GET request, it appends the\n",
    "data as parameters in the URL of the request. These parameters are visible in the URL itself, making it\n",
    "easy to bookmark, share, or see the data being requested. However, it also means that sensitive information\n",
    "should not be passed through a GET request since it can be easily seen in the URL.\n",
    "\n",
    "POST Method:\n",
    "The POST method is used to submit data to be processed to a specified resource on the server. Unlike GET,\n",
    "the data is sent in the request body rather than appended to the URL. This makes it more suitable for transmitting\n",
    "larger amounts of data and for sending sensitive information since the data is not directly visible in the URL.\n",
    "\"\"\""
   ]
  },
  {
   "cell_type": "code",
   "execution_count": null,
   "id": "1ff24956-f89f-4555-8379-454b73c5fb85",
   "metadata": {},
   "outputs": [],
   "source": [
    "# Why is request used in Flask\n",
    "\n",
    "#Solution\n",
    "\"\"\"\n",
    "The primary reason why \"request\" is used in Flask and other web frameworks is to provide a convenient way for\n",
    "developers to access and handle the data sent by clients. By accessing the request object, developers can easily\n",
    "retrieve the data sent in the request and use it to generate appropriate responses.\n",
    "\n",
    "Accessing form data: When a client submits an HTML form to a Flask server, the form data is sent in the request.\n",
    "The \"request\" object allows developers to access this data and process it accordingly.\n",
    "\n",
    "Query parameters: When clients make requests to a Flask server with query parameters (e.g., through URL parameters in a GET request),\n",
    "the \"request\" object enables developers to extract and use these parameters in their code.\n",
    "\n",
    "Handling file uploads: If a client is uploading files to the Flask server, the \"request\" object helps in accessing the uploaded\n",
    "files and handling them appropriately.\n",
    "\n",
    "Handling HTTP headers: The \"request\" object provides access to HTTP headers sent by the client, which can be useful for\n",
    "uthentication, caching, and other purposes.\n",
    "\n",
    "Cookies: The \"request\" object allows developers to access and manipulate cookies sent by the client, enabling session\n",
    "management and user tracking.\n",
    "\"\"\""
   ]
  },
  {
   "cell_type": "code",
   "execution_count": null,
   "id": "9cc1bd4f-79e3-4d8d-83c0-69ac19a48317",
   "metadata": {},
   "outputs": [],
   "source": [
    "# Why is redirect() used in Flask?\n",
    "\n",
    "#Solution\n",
    "\"\"\"\n",
    "In Flask, the redirect() function is used to redirect the client (usually a web browser) to a different URL.\n",
    "It is a convenient way to instruct the client to make a new request to a different endpoint or web page after\n",
    "processing a particular request.\n",
    "\n",
    "The primary reasons for using redirect() in Flask are:\n",
    "\n",
    "Navigation: Redirecting the client to a different URL allows developers to implement navigation and control the flow\n",
    "of the application. For example, after a successful form submission, you might want to redirect the user to a \"thank you\"\n",
    "page or a dashboard.\n",
    "\n",
    "Handling POST-Redirect-GET pattern: The POST-Redirect-GET (PRG) pattern is a common design pattern used in web applications\n",
    "to prevent data from being resubmitted when the user refreshes the page after submitting a form. After handling a POST request\n",
    "(e.g., form submission) on the server side, it is a good practice to redirect the user to a different URL using redirect().\n",
    "This way, if the user refreshes the new page, the browser will send a GET request instead of resubmitting the original POST request.\n",
    "\n",
    "User authentication and authorization: Redirecting is often used in the context of user authentication and authorization.\n",
    "For example, if a user attempts to access a restricted page without being logged in, the application might redirect them\n",
    "to a login page. After successful authentication, the user is redirected back to the original restricted page.\n",
    "\n",
    "Handling error conditions: In case of errors or exceptions, instead of showing a detailed error message directly to the\n",
    "user, the application can redirect the user to a more user-friendly error page using redirect().\n",
    "\"\"\"\n"
   ]
  },
  {
   "cell_type": "code",
   "execution_count": null,
   "id": "6f449271-96aa-4f4e-a2a6-4bd1508e0293",
   "metadata": {},
   "outputs": [],
   "source": [
    "#What are templates in Flask? Why is the render_template() function used?\n",
    "\n",
    "#Solution\n",
    "\"\"\"\n",
    "\n",
    "In Flask, templates are files that contain dynamic content and HTML code with placeholders (variables) for data that will\n",
    "be provided by the application. These templates help in separating the presentation (HTML) from the business logic (Python code)\n",
    "in a web application, making the code more maintainable and easier to manage.\n",
    "\n",
    "Templates in Flask are typically written using a template engine, with Jinja2 being the default template engine used by Flask.\n",
    "Jinja2 allows developers to embed dynamic content and logic into the templates using special syntax, such as {{ ... }} for\n",
    "expressions and {% ... %} for control structures like loops and conditionals.\n",
    "\n",
    "The render_template() function is used to render these templates and generate the final HTML that will be sent to the client's\n",
    "browser as part of the response. It takes the name of the template file as its argument, along with any data that needs to be\n",
    "passed to the template for rendering.\n",
    "\"\"\""
   ]
  },
  {
   "cell_type": "code",
   "execution_count": null,
   "id": "af257339-f6cd-40a9-bb06-4b58835e857c",
   "metadata": {},
   "outputs": [],
   "source": [
    "#Create a simple API. Use Postman to test it. Attach the screenshot of the output in the Jupyter Notebook.\n",
    "\n",
    "#Solution\n",
    "\"\"\"\n",
    "https://drive.google.com/file/d/10J2F6qgchR9FXg_Hv-B3X99EsTJ1wpl4/view?usp=drive_link\n",
    "\"\"\""
   ]
  }
 ],
 "metadata": {
  "kernelspec": {
   "display_name": "Python 3 (ipykernel)",
   "language": "python",
   "name": "python3"
  },
  "language_info": {
   "codemirror_mode": {
    "name": "ipython",
    "version": 3
   },
   "file_extension": ".py",
   "mimetype": "text/x-python",
   "name": "python",
   "nbconvert_exporter": "python",
   "pygments_lexer": "ipython3",
   "version": "3.10.8"
  }
 },
 "nbformat": 4,
 "nbformat_minor": 5
}
