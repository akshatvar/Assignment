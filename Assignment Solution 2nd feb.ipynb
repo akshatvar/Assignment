{
 "cells": [
  {
   "cell_type": "code",
   "execution_count": 1,
   "id": "b1a0cd02-2e36-4a48-91bf-4c76694c45fd",
   "metadata": {},
   "outputs": [
    {
     "name": "stdout",
     "output_type": "stream",
     "text": [
      "Sum of 10 natural number using while loop 55\n",
      "Product of 10 natural number using while loop 3628800\n",
      "Sum of 10 natural number using for loop 55\n",
      "Product of 10 natural number using for loop 3628800\n"
     ]
    }
   ],
   "source": [
    "# Write a python program to print the sum and product of the first 10 natural number\n",
    "# using for and while loop.\n",
    "\n",
    "#solution\n",
    "\n",
    "#using while loop sum of 10 natural number\n",
    "sum = 0\n",
    "counter = 0\n",
    "while counter <= 10:\n",
    "    sum = sum + counter\n",
    "    counter = counter + 1\n",
    "print(\"Sum of 10 natural number using while loop\",sum)\n",
    "\n",
    "#using while loop product of 10 natural number\n",
    "product = 1\n",
    "counter = 1\n",
    "while counter <= 10:\n",
    "    product = product*counter\n",
    "    counter = counter + 1\n",
    "print(\"Product of 10 natural number using while loop\",product)\n",
    "\n",
    "#using for loop sum of 10 natural number\n",
    "sum1 = 0\n",
    "for i in range(1,11):\n",
    "    sum1 = sum1 + i\n",
    "print(\"Sum of 10 natural number using for loop\",sum1)\n",
    "\n",
    "#using for loop product of 10 natural number\n",
    "product1 = 1\n",
    "for i in range(1,11):\n",
    "    product1 = product1*i\n",
    "print(\"Product of 10 natural number using for loop\",product1)"
   ]
  },
  {
   "cell_type": "code",
   "execution_count": 2,
   "id": "a2d016ac-07b7-4701-93c2-f1a793a8e573",
   "metadata": {},
   "outputs": [
    {
     "name": "stdin",
     "output_type": "stream",
     "text": [
      "Enter the Electric unit of consumer 310\n"
     ]
    },
    {
     "name": "stdout",
     "output_type": "stream",
     "text": [
      "Electric bill of the consumer 2250.0\n"
     ]
    }
   ],
   "source": [
    "# Create a python program to compute the electricity bill for a household\n",
    "# The per-unit charges in rupees are as follows:\n",
    "# For the first 100 units, the user will be charged Rs. 4.5 per unit,\n",
    "# for the next 100 units, the user will be charged Rs. 6 per unit,\n",
    "# and for the next 100 units, the user will be charged Rs. 10 per unit,\n",
    "# After 300 units and above the user will be charged Rs. 20 per unit.\n",
    "\n",
    "#solution\n",
    "\n",
    "def electricbill(unit):\n",
    "    bill = 0\n",
    "    if unit > 0 and unit <= 100:\n",
    "        return unit*4.5\n",
    "    elif unit > 100 and unit <=200:\n",
    "        return 100*4.5 + (unit-100)*6\n",
    "    elif unit > 200 and unit <= 300:\n",
    "        return 100*4.5 + 100*6 + (unit-200)*10\n",
    "    elif unit > 300:\n",
    "        return 100*4.5 + 100*6 + 100*10 + (unit-300)*20 \n",
    "\n",
    "unit = int(input(\"Enter the Electric unit of consumer\"))\n",
    "print(\"Electric bill of the consumer\",electricbill(unit))\n"
   ]
  },
  {
   "cell_type": "code",
   "execution_count": 3,
   "id": "3b154790-a841-48c0-82bd-d26496d3d21b",
   "metadata": {},
   "outputs": [
    {
     "name": "stdout",
     "output_type": "stream",
     "text": [
      "[2, 4, 5, 6, 8, 10, 12, 14, 15, 16, 18, 20, 22, 24, 25, 26, 28, 30, 32, 34, 35, 36, 38, 40, 42, 44, 45, 46, 48, 50, 52, 54, 55, 56, 58, 60, 62, 64, 65, 66, 68, 70, 72, 74, 75, 76, 78, 80, 82, 84, 85, 86, 88, 90, 92, 94, 95, 96, 98, 100]\n"
     ]
    }
   ],
   "source": [
    "# Create a list of numbers from 1 to 100. Use for loop and while loop to calculate the cube of each \n",
    "# number and if the cube of that number is divisible by 4 or 5 then append that number in a list and print \n",
    "# that list.\n",
    "\n",
    "l = []\n",
    "\n",
    "for i in range(1,101):\n",
    "    if (i**3)%4==0 or (i**3)%5==0:\n",
    "        l.append(i)\n",
    "print(l)"
   ]
  },
  {
   "cell_type": "code",
   "execution_count": 4,
   "id": "f16ea1b3-9b55-4b08-a8f5-160a7612261a",
   "metadata": {},
   "outputs": [
    {
     "name": "stdout",
     "output_type": "stream",
     "text": [
      "No. of vowels 12\n"
     ]
    }
   ],
   "source": [
    "#Write a program to filter count vowels in the below-given string.\n",
    "#string = \"I want to become a data scientist\"\n",
    "\n",
    "def countvowels(s):\n",
    "    count = 0\n",
    "    vowels = 'aeiouAEIOU'\n",
    "    for alphabet in s:\n",
    "        if alphabet in vowels:\n",
    "            count = count + 1\n",
    "    return count\n",
    "\n",
    "string = \"I want to become a data scientist\"\n",
    "print(\"No. of vowels\",countvowels(string))"
   ]
  },
  {
   "cell_type": "code",
   "execution_count": 5,
   "id": "530820c3-0147-4e71-95a5-0b2359ddc5b8",
   "metadata": {},
   "outputs": [
    {
     "name": "stdout",
     "output_type": "stream",
     "text": [
      "1 4 9 16 25 36 49 64 81 100 \n",
      "\n",
      "1 4 9 16 25 36 49 64 81 100 "
     ]
    }
   ],
   "source": [
    "# Explain with an example each when to use a for loop and a while loop\n",
    "\n",
    "#solution\n",
    "\n",
    "\"\"\"while loop: It is also called as Indefinite Loop. The while loop keeps iterating until certain conditions are met.\n",
    "If the number of iterations are not known, then the while loop is used.\n",
    "Lets take an example print the value of i sqaure until value of i is less than or equal to 10 \n",
    "after each print increment the value of i by 1\"\"\"\n",
    "i = 1\n",
    "while i<=10:\n",
    "    print(i**2,end=' ')\n",
    "    i = i+1\n",
    "print('\\n')\n",
    "\n",
    "\"\"\"for loop: If initial value and end value, i.e. if the number of iterations are known, then for loop is used.\n",
    "Let's take an example take list of size 10 print the square of each element present in the list\"\"\"\n",
    "\n",
    "l = [1,2,3,4,5,6,7,8,9,10]\n",
    "for i in l:\n",
    "    print(i**2,end=' ')\n",
    "    \n",
    "#in the above example for 'for loop' i is pre-defined but for 'while loop' i is run until condition become false"
   ]
  },
  {
   "cell_type": "code",
   "execution_count": null,
   "id": "3455adb2-c0b6-4cf3-8cc1-cd947d7adedf",
   "metadata": {},
   "outputs": [],
   "source": []
  }
 ],
 "metadata": {
  "kernelspec": {
   "display_name": "Python 3 (ipykernel)",
   "language": "python",
   "name": "python3"
  },
  "language_info": {
   "codemirror_mode": {
    "name": "ipython",
    "version": 3
   },
   "file_extension": ".py",
   "mimetype": "text/x-python",
   "name": "python",
   "nbconvert_exporter": "python",
   "pygments_lexer": "ipython3",
   "version": "3.10.8"
  }
 },
 "nbformat": 4,
 "nbformat_minor": 5
}
