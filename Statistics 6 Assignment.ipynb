{
 "cells": [
  {
   "cell_type": "markdown",
   "id": "053891d5-9fc0-4828-b02c-f6bdd856b13b",
   "metadata": {},
   "source": [
    "Q1: What is the difference between a t-test and a z-test? Provide an example scenario where you would \n",
    "use each type of test\n",
    "\n",
    "Solution\n",
    "T-Test: A t-test is used when you are working with a small sample size (typically less than 30) and when the population\n",
    "standard deviation is unknown. It is used to compare the means of two groups to determine if there is a significant difference\n",
    "between them. For example, you might use a t-test to compare the average test scores of students who used two different study\n",
    "methods.\n",
    "\n",
    "Z-Test: A z-test, on the other hand, is used when you have a larger sample size (typically greater than 30) and when the population\n",
    "standard deviation is known or can be reasonably estimated. It is used to test hypotheses about population means. For example, you\n",
    "might use a z-test to determine if the average height of a sample of people is significantly different from the known average height\n",
    "of the population"
   ]
  },
  {
   "cell_type": "markdown",
   "id": "70e8a538-af8f-435c-b63b-7b3c6310c561",
   "metadata": {},
   "source": [
    "Q2: Differentiate between one-tailed and two-tailed tests.\n",
    "\n",
    "Solution\n",
    "One-Tailed Test: In a one-tailed test, you are interested in determining if a parameter is either significantly greater than\n",
    "or significantly less than a specific value. You choose a one-tailed test when you have a specific hypothesis about the direction\n",
    "of the effect. For example, you might use a one-tailed test to check if a new drug increases, but not decreases, the average\n",
    "lifespan.\n",
    "\n",
    "Two-Tailed Test: In a two-tailed test, you are interested in determining if a parameter is significantly different from a specific\n",
    "value without specifying the direction of the difference. This is used when you want to detect any significant difference, whether\n",
    "it's an increase or a decrease. For example, you might use a two-tailed test to check if a coin is biased (i.e., not fair), which\n",
    "could result in either more heads or more tails than expected."
   ]
  },
  {
   "cell_type": "markdown",
   "id": "2088c204-411e-4e0a-b72c-b81ff9783c19",
   "metadata": {},
   "source": [
    "Q3: Explain the concept of Type 1 and Type 2 errors in hypothesis testing. Provide an example scenario for \n",
    "each type of error.\n",
    "\n",
    "Solution\n",
    "Type 1 Error (False Positive): This occurs when you reject a null hypothesis when it is actually true. In other words, you conclude\n",
    "that there is a significant effect when there isn't one. For example, in a medical test, a Type 1 error would be telling a healthy\n",
    "person that they have a disease.\n",
    "\n",
    "Type 2 Error (False Negative): This occurs when you fail to reject a null hypothesis when it is actually false. In other words, you\n",
    "conclude that there is no significant effect when there is one. For example, in a medical test, a Type 2 error would be telling a\n",
    "person with a disease that they are healthy"
   ]
  },
  {
   "cell_type": "markdown",
   "id": "0ebe06b4-6e2b-4da9-91ee-15a088fdf06f",
   "metadata": {},
   "source": [
    "Q4:  Explain Bayes's theorem with an example.\n",
    "\n",
    "Solution\n",
    "Bayes's Theorem is a mathematical formula used in probability and statistics to update the probability for a hypothesis as new evidence\n",
    "becomes available. It is especially useful in situations where you want to calculate the probability of a hypothesis given some observed\n",
    "evidence. The formula is\n",
    "\n",
    "P(A∣B)= p(B|A)*P(A)/P(B)\n",
    "\n",
    "P(A∣B): The probability of hypothesis A given the evidence B.\n",
    "P(B∣A): The probability of evidence B given hypothesis A.\n",
    "P(A): The prior probability of hypothesis A.\n",
    "P(B): The total probability of evidence B.\n",
    "\n",
    "Example: Suppose you want to find the probability that a person has a particular disease given a positive test result.\n",
    "\n",
    "P(A): The prior probability of having the disease.\n",
    "P(B∣A): The probability of getting a positive test result if you have the disease.\n",
    "P(B): The total probability of getting a positive test result.\n",
    "\n",
    "Bayes's Theorem allows you to update the probability of having the disease (A) based on the likelihood of getting a positive test result\n",
    "(B|A) and the prior probability of having the disease (P(A))."
   ]
  },
  {
   "cell_type": "markdown",
   "id": "e025b480-ab5a-4bf1-a6b3-d9e503a56741",
   "metadata": {},
   "source": [
    "Q5: What is a confidence interval? How to calculate the confidence interval, explain with an example\n",
    "\n",
    "Solution\n",
    "A confidence interval is a range of values that is likely to contain a population parameter, such as the mean, with a certain level\n",
    "of confidence. It provides a measure of the uncertainty associated with estimating a parameter from a sample of data.\n",
    "\n",
    "To calculate a confidence interval, follow these general steps:\n",
    "\n",
    "Select a confidence level, often denoted as 1−α, where α represents the significance level (e.g., 0.05 for a 95% confidence interval).\n",
    "\n",
    "Calculate the sample mean and sample standard deviation\n",
    "\n",
    "Determine the critical value from the appropriate probability distribution (e.g., the z-table for a z-confidence interval or the\n",
    "t-table for a t-confidence interval) based on the chosen confidence level and the sample size.\n",
    "\n",
    "Use the formula to calculate the confidence interval:\n",
    "    For a z-confidence interval: sample mean +- Z* Std.deviation/sq.root(number of samples)\n",
    "    For a t-confidence interval: sample mean +- T* Std.deviation/sq.root(number of samples)"
   ]
  },
  {
   "cell_type": "markdown",
   "id": "fa8c3efd-8189-4973-a1f9-ccf2caa6e017",
   "metadata": {},
   "source": [
    "Q6. Use Bayes' Theorem to calculate the probability of an event occurring given prior knowledge of the \n",
    "event's probability and new evidence. Provide a sample problem and solution.\n",
    "\n",
    "Solution\n",
    "Bayes's Theorem is a mathematical formula used in probability and statistics to update the probability for a hypothesis as new\n",
    "evidence becomes available. It is especially useful in situations where you want to calculate the probability of a hypothesis\n",
    "given some observed evidence. The formula is:\n",
    "\n",
    "P(A∣B)= p(B|A)*P(A)/P(B)\n",
    "\n",
    "P(A∣B): The probability of hypothesis A given the evidence B.\n",
    "P(B∣A): The probability of evidence B given hypothesis A.\n",
    "P(A): The prior probability of hypothesis A.\n",
    "P(B): The total probability of evidence B.\n",
    "\n",
    "Sample problem\n",
    "Three boxes B1,B2,B3 contain a ball \n",
    "    B1 -> 1W, 2B, 3R\n",
    "    B2 -> 2W, 4B, 3R\n",
    "    B3 -> 3W, 5B, 4R\n",
    "without replacement , if 2 balls are drawn from randomly selected box. Find the probabiity one of the ball is drawn is white and other is red \n",
    "from the box 2\n",
    "p((w U R)|B2) = (1/3*2/9*3/8)/(1/3*1/6*3/5+1/3*2/9*3/8+1/3*3/12*4/11)\n",
    "              = 55/181\n"
   ]
  },
  {
   "cell_type": "markdown",
   "id": "ed5de330-bc27-4052-8339-6bddd6447a6e",
   "metadata": {},
   "source": [
    "Q7. Calculate the 95% confidence interval for a sample of data with a mean of 50 and a standard deviation \n",
    "of 5. Interpret the results\n",
    "\n",
    "Solution\n",
    "confidence Interval = sample mean +- Z* Std.deviation/sq.root(number of samples)\n",
    "where sample mean = 50\n",
    "standard deviation = 5\n",
    "CI = 95%\n",
    "Therefore, significance value = 0.05\n",
    "Z = 1.96\n",
    "let assume n = 100\n",
    "put all this value in formula we get\n",
    "confidence interval = 50 + 0.98 to 50 - 0.98\n",
    "                    = 50.98 to 49.02"
   ]
  },
  {
   "cell_type": "code",
   "execution_count": 1,
   "id": "f53e087f-3295-4027-88ea-2bbfd4d87122",
   "metadata": {},
   "outputs": [
    {
     "name": "stdout",
     "output_type": "stream",
     "text": [
      "t statistic for significance level 0.05, sample size of 100\n",
      "The 95% confidence interval is (49.01, 50.99)\n"
     ]
    }
   ],
   "source": [
    "import scipy.stats as stats\n",
    "import math\n",
    "sample_mean = 50\n",
    "sample_std = 5\n",
    "confidence_level = 0.95\n",
    "sample_size = 100\n",
    "alpha = 0.05\n",
    "\n",
    "#calculate critical value for 95% confidence level\n",
    "t_crit = stats.t.ppf(1-alpha/2,df = sample_size-1)\n",
    "print(f't statistic for significance level {alpha}, sample size of {sample_size}')\n",
    "\n",
    "#calulate the standard error\n",
    "std_error = sample_std/math.sqrt(sample_size)\n",
    "\n",
    "#calulate the lower and upper bounds of CI\n",
    "lower_bound = sample_mean - t_crit*std_error\n",
    "upper_bound = sample_mean + t_crit*std_error\n",
    "      \n",
    "print(f\"The 95% confidence interval is ({lower_bound:.2f}, {upper_bound:.2f})\")"
   ]
  },
  {
   "cell_type": "markdown",
   "id": "8c6a0f23-84f1-4a01-847b-47331d81a5b0",
   "metadata": {},
   "source": [
    "Q8. What is the margin of error in a confidence interval? How does sample size affect the margin of error? \n",
    "Provide an example of a scenario where a larger sample size would result in a smaller margin of error\n",
    "\n",
    "Solution\n",
    "Margin of Error (MOE): The margin of error is a measure of the uncertainty or precision associated with a confidence interval (CI).\n",
    "It represents the range around a sample statistic (such as a sample mean) within which the true population parameter (such as the\n",
    "population mean) is likely to fall with a certain level of confidence. In other words, it's a measure of how much the sample statistic\n",
    "is likely to vary from the true population parameter.\n",
    "\n",
    "Margin of Error = Z* Std.deviation/sq.root(number of samples)\n",
    "\n",
    "Example\n",
    "Calculate the 95% confidence interval for a sample of data with a mean of 50 and a standard deviation \n",
    "of 5. Interpret the results\n",
    "\n",
    "Margin of Error = Z* Std.deviation/sq.root(number of samples)\n",
    "where sample mean = 50\n",
    "standard deviation = 5\n",
    "CI = 95%\n",
    "Therefore, significance value = 0.05\n",
    "Z = 1.96\n",
    "let assume n = 100\n",
    "put all this value in formula we get\n",
    "Margin of Error = 0.98"
   ]
  },
  {
   "cell_type": "markdown",
   "id": "1c75f316-536f-4404-8fd7-ee09e8023eb9",
   "metadata": {},
   "source": [
    "Q9. Calculate the z-score for a data point with a value of 75, a population mean of 70, and a population \n",
    "standard deviation of 5. Interpret the results"
   ]
  },
  {
   "cell_type": "code",
   "execution_count": 4,
   "id": "7926819f-8481-4e8d-8a3a-bfe9a62343d6",
   "metadata": {},
   "outputs": [
    {
     "name": "stdout",
     "output_type": "stream",
     "text": [
      "The z-score is: 1.0\n"
     ]
    }
   ],
   "source": [
    "#Solution\n",
    "xi = 75\n",
    "u = 70\n",
    "sigma = 5\n",
    "\n",
    "z_score = (xi - u)/sigma\n",
    "\n",
    "print(f\"The z-score is: {z_score}\")"
   ]
  },
  {
   "cell_type": "markdown",
   "id": "ee5cc6e8-e1c7-40b4-acd3-406241d6ed8d",
   "metadata": {},
   "source": [
    "Q10. In a study of the effectiveness of a new weight loss drug, a sample of 50 participants lost an average \n",
    "of 6 pounds with a standard deviation of 2.5 pounds. Conduct a hypothesis test to determine if the drug is \n",
    "significantly effective at a 95% confidence level using a t-test.\n",
    "\n",
    "Solution\n",
    "Null HypoThesis(H0): The drug is not work efficiently and the population mean weight loss u<=0 pound\n",
    "Alternate Hypothsis(H1): The drug is work efficiently and the population mean weight loss u>0 pound\n",
    "\n",
    "confidence level = 95%\n",
    "significance level = 0.05 because it is a one tailed test\n",
    "\n",
    "here we use z test because we have std deviation and n>30\n",
    "\n",
    "z = (mean - u0)/sigma/sq.root(n)\n",
    "here u0 = hypothesized population mean under the null hypothesis\n",
    "z = (6 - 0)/2.5/sq.root(50)\n",
    "z = 10.61\n",
    "critical value = 1.645\n",
    "If z > 1.645 reject the null hypothesis.\n",
    "else accept it\n",
    "here The calculated z-statistic (10.61) is much greater than the critical z-value (1.645). Therefore, you should reject the null hypothesis"
   ]
  },
  {
   "cell_type": "code",
   "execution_count": 7,
   "id": "fc13d294-3766-4012-b710-8d48c081b539",
   "metadata": {},
   "outputs": [
    {
     "name": "stdout",
     "output_type": "stream",
     "text": [
      "t-statistic: 16.9706\n",
      "p-value: 0.0\n",
      "Reject the null hypothesis. The drug is work efficiently and the population mean weight loss u>0 pound.\n"
     ]
    }
   ],
   "source": [
    "import numpy as np\n",
    "from scipy.stats import t\n",
    "\n",
    "Null_HypoThesis = \"The drug is not work efficiently and the population mean weight loss u<=0 pound\"\n",
    "Alternate_Hypothesis = \"The drug is work efficiently and the population mean weight loss u>0 pound\"\n",
    "\n",
    "mu = 0\n",
    "sample_mean = 6\n",
    "sample_std = 2.5\n",
    "n = 50\n",
    "df = n - 1\n",
    "\n",
    "t_score = (sample_mean - mu) / (sample_std / np.sqrt(n))\n",
    "p_value = 2*(1-t.cdf(abs(abs(t_score)),df))\n",
    "print(f\"t-statistic: {t_score:.4f}\")\n",
    "print(f\"p-value: {p_value}\")\n",
    "if p_value < alpha:\n",
    "    print(f\"Reject the null hypothesis. {Alternate_Hypothesis}.\")\n",
    "else:\n",
    "    print(f\"Fail to reject the null hypothesis. {Null_Hypothesis}.\")"
   ]
  },
  {
   "cell_type": "markdown",
   "id": "6cbff5ad-9b9e-4b9f-8c9b-182e605497b1",
   "metadata": {},
   "source": [
    "Q11. In a survey of 500 people, 65% reported being satisfied with their current job. Calculate the 95% \n",
    "confidence interval for the true proportion of people who are satisfied with their job.\n",
    "\n",
    "# Solution"
   ]
  },
  {
   "cell_type": "code",
   "execution_count": 11,
   "id": "63c974e5-e7d1-47ac-8075-c5a66ebfa2f6",
   "metadata": {},
   "outputs": [
    {
     "name": "stdout",
     "output_type": "stream",
     "text": [
      "The 95% confidence interval for the proportion of people who are satisfied with the job is 0.61,0.69\n"
     ]
    }
   ],
   "source": [
    "import math\n",
    "\n",
    "n = 500\n",
    "p = 0.65\n",
    "z = 1.96 #for 95% confidence level\n",
    "\n",
    "se = math.sqrt((p * (1 - p)) / n)\n",
    "\n",
    "# Calculate the margin of error\n",
    "me = z * se\n",
    "\n",
    "# Calculate the confidence interval\n",
    "lower_bound = p - me\n",
    "upper_bound = p + me\n",
    "\n",
    "# Print the results\n",
    "print(f\"The 95% confidence interval for the proportion of people who are satisfied with the job is {lower_bound:.2f},{upper_bound:.2f}\")"
   ]
  },
  {
   "cell_type": "markdown",
   "id": "822867a1-a39d-404a-964d-b3d00a0bc297",
   "metadata": {},
   "source": [
    "Q12. A researcher is testing the effectiveness of two different teaching methods on student performance. \n",
    "Sample A has a mean score of 85 with a standard deviation of 6, while sample B has a mean score of 82 \n",
    "with a standard deviation of 5. Conduct a hypothesis test to determine if the two teaching methods have a \n",
    "significant difference in student performance using a t-test with a significance level of 0.01.\n",
    "\n",
    "#Solution"
   ]
  },
  {
   "cell_type": "code",
   "execution_count": 12,
   "id": "225fa5a7-5345-4273-9ee4-57ded8f313c9",
   "metadata": {},
   "outputs": [
    {
     "name": "stdout",
     "output_type": "stream",
     "text": [
      "t-statistic: 2.104\n",
      "Degrees of freedom: 58\n",
      "Critical t-value: 2.663\n",
      "p-value: 0.040\n",
      "Fail to reject null hypothesis.\n",
      "mu1 = mu2 (the means are equal)\n"
     ]
    }
   ],
   "source": [
    "import numpy as np\n",
    "from scipy.stats import t\n",
    "\n",
    "# Sample A\n",
    "x1 = 85\n",
    "s1 = 6\n",
    "n1 = 30\n",
    "\n",
    "# Sample B\n",
    "x2 = 82\n",
    "s2 = 5\n",
    "n2 = 30\n",
    "\n",
    "# Set up null and alternative hypotheses\n",
    "# H0: mu1 = mu2 (the means are equal)\n",
    "# Ha: mu1 != mu2 (the means are not equal)\n",
    "alpha = 0.01\n",
    "null_hypothesis = \"mu1 = mu2 (the means are equal)\"\n",
    "alternative_hypothesis = \"mu1 != mu2 (the means are not equal)\"\n",
    "\n",
    "# Calculate pooled standard deviation\n",
    "sp = np.sqrt(((n1 - 1) * s1 ** 2 + (n2 - 1) * s2 ** 2) / (n1 + n2 - 2))\n",
    "\n",
    "# Calculate t-statistic\n",
    "t_stat = (x1 - x2) / (sp * np.sqrt(1 / n1 + 1 / n2))\n",
    "\n",
    "# Calculate degrees of freedom\n",
    "df = n1 + n2 - 2\n",
    "\n",
    "# Calculate critical t-value\n",
    "t_crit = t.ppf(1-alpha / 2, df)\n",
    "\n",
    "# Calculate p-value\n",
    "p_value = 2 * (1 - t.cdf(abs(t_stat), df))\n",
    "\n",
    "# Print results\n",
    "print(f\"t-statistic: {t_stat:.3f}\")\n",
    "print(f\"Degrees of freedom: {df}\")\n",
    "print(f\"Critical t-value: {t_crit:.3f}\")\n",
    "print(f\"p-value: {p_value:.3f}\")\n",
    "\n",
    "if abs(t_stat) > t_crit:\n",
    "    print(\"Reject null hypothesis.\")\n",
    "    print(alternative_hypothesis)\n",
    "else:\n",
    "    print(\"Fail to reject null hypothesis.\")\n",
    "    print(null_hypothesis)"
   ]
  },
  {
   "cell_type": "markdown",
   "id": "ba53da03-2cbd-401b-a398-887b0889c1d2",
   "metadata": {},
   "source": [
    "Q13 : A population has a mean of 60 and a standard deviation of 8. A sample of 50 observations has a mean of 65. Calculate the 90% confidence interval for the true population mean.\n",
    "\n",
    "#Solution"
   ]
  },
  {
   "cell_type": "code",
   "execution_count": 14,
   "id": "600fe5ed-e162-4a43-ad33-4967a5751959",
   "metadata": {},
   "outputs": [
    {
     "name": "stdout",
     "output_type": "stream",
     "text": [
      "t statistic for 50 samples with 90% confidence is : 1.6766\n",
      "The 90% confidence interval for the true population mean is 63.10,66.90\n"
     ]
    }
   ],
   "source": [
    "import math\n",
    "from scipy.stats import t\n",
    "\n",
    "pop_mean = 60\n",
    "pop_std = 8\n",
    "n = 50\n",
    "sample_mean = 65\n",
    "confidence_level = 0.90\n",
    "\n",
    "# Calculate the t-score\n",
    "t_score = (sample_mean - pop_mean) / (pop_std / math.sqrt(n))\n",
    "\n",
    "# Find the critical t-value\n",
    "df = n - 1\n",
    "t_crit = t.ppf((1+confidence_level)/2, df)\n",
    "print(f't statistic for {n} samples with {confidence_level*100:.0f}% confidence is : {t_crit:.4f}')\n",
    "\n",
    "# Calculate the margin of error\n",
    "margin_of_error = t_crit * (pop_std / math.sqrt(n))\n",
    "\n",
    "# Calculate the confidence interval\n",
    "lower_bound = sample_mean - margin_of_error\n",
    "upper_bound = sample_mean + margin_of_error\n",
    "\n",
    "# Print the results\n",
    "print(f\"The {confidence_level*100:.0f}% confidence interval for the true population mean is {lower_bound:.2f},{upper_bound:.2f}\")"
   ]
  },
  {
   "cell_type": "markdown",
   "id": "f85fe224-f8fd-4cb0-a5f1-f4dc3e1b4af5",
   "metadata": {},
   "source": [
    "Q14 : In a study of the effects of caffeine on reaction time, a sample of 30 participants had an average reaction time of 0.25 seconds with a standard deviation of 0.05 seconds. Conduct a hypothesis test to determine if the caffeine has a significant effect on reaction time at a 90% confidence level using a t-test.\n",
    "\n",
    "#Solution"
   ]
  },
  {
   "cell_type": "code",
   "execution_count": 13,
   "id": "00d70a60-670f-482a-950f-e6f7b485c9f2",
   "metadata": {},
   "outputs": [
    {
     "name": "stdout",
     "output_type": "stream",
     "text": [
      "t-statistic: -5.477\n",
      "t-critical value: 1.699\n",
      "90% Confidence Interval: (0.234, 0.266)\n",
      "Reject the null hypothesis\n",
      "Caffeine has a significant effect on reaction time\n"
     ]
    }
   ],
   "source": [
    "import math\n",
    "import scipy.stats as stats\n",
    "#Let as assume the population mean as 300ms or 0.3 seconds\n",
    "# Null Hypothesis: Caffeine has no significant effect on reaction time\n",
    "# Alternative Hypothesis: Caffeine has a significant effect on reaction time\n",
    "null_hypothesis = \"Caffeine has no significant effect on reaction time\"\n",
    "alternative_hypothesis = \"Caffeine has a significant effect on reaction time\"\n",
    "\n",
    "sample_mean = 0.25  # sample mean\n",
    "sample_std_dev = 0.05  # sample standard deviation\n",
    "n = 30  # sample size\n",
    "pop_mean = 0.3  # population mean under null hypothesis\n",
    "alpha = 0.1  # significance level\n",
    "\n",
    "# Calculate the t-statistic\n",
    "t_stat = (sample_mean - pop_mean) / (sample_std_dev / math.sqrt(n))\n",
    "\n",
    "# Calculate the critical t-value\n",
    "t_crit = stats.t.ppf(1-alpha/2, n-1)\n",
    "\n",
    "# Calculate the confidence interval\n",
    "margin_of_error = t_crit * (sample_std_dev / math.sqrt(n))\n",
    "lower_ci = sample_mean - margin_of_error\n",
    "upper_ci = sample_mean + margin_of_error\n",
    "\n",
    "# Print the results\n",
    "print(f\"t-statistic: {t_stat:.3f}\")\n",
    "print(f\"t-critical value: {t_crit:.3f}\")\n",
    "print(f\"90% Confidence Interval: ({lower_ci:.3f}, {upper_ci:.3f})\")\n",
    "\n",
    "# Determine if the null hypothesis should be rejected or not\n",
    "if abs(t_stat) > t_crit:\n",
    "    print(\"Reject the null hypothesis\")\n",
    "    print(alternative_hypothesis)\n",
    "else:\n",
    "    print(\"Fail to reject the null hypothesis\")\n",
    "    print(null_hypothesis)"
   ]
  },
  {
   "cell_type": "code",
   "execution_count": null,
   "id": "b7a5cfc8-e447-4c2e-ac78-8612fc4e57d1",
   "metadata": {},
   "outputs": [],
   "source": []
  }
 ],
 "metadata": {
  "kernelspec": {
   "display_name": "Python 3 (ipykernel)",
   "language": "python",
   "name": "python3"
  },
  "language_info": {
   "codemirror_mode": {
    "name": "ipython",
    "version": 3
   },
   "file_extension": ".py",
   "mimetype": "text/x-python",
   "name": "python",
   "nbconvert_exporter": "python",
   "pygments_lexer": "ipython3",
   "version": "3.10.8"
  }
 },
 "nbformat": 4,
 "nbformat_minor": 5
}
