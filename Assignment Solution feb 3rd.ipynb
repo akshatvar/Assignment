{
 "cells": [
  {
   "cell_type": "code",
   "execution_count": 1,
   "id": "781293de-2715-4938-8f4f-e5a57acabf33",
   "metadata": {},
   "outputs": [
    {
     "data": {
      "text/plain": [
       "[1, 3, 5, 7, 9, 11, 13, 15, 17, 19, 21, 23, 25]"
      ]
     },
     "execution_count": 1,
     "metadata": {},
     "output_type": "execute_result"
    }
   ],
   "source": [
    "#Which keyword is used to create a function? Create a function to return a list of odd numbers in the \n",
    "#range of 1 to 25\n",
    "\n",
    "#solution\n",
    "\n",
    "\"\"\"def keyword is used to create a function\"\"\"\n",
    "\n",
    "def odd_numbers(l):\n",
    "    l1=[]\n",
    "    for i in range(1,l):\n",
    "        if i%2!=0:\n",
    "            l1.append(i)\n",
    "    return l1\n",
    "\n",
    "odd_numbers(26)"
   ]
  },
  {
   "cell_type": "code",
   "execution_count": 2,
   "id": "8c5f5cb5-d362-4ac6-b217-645cd36abe35",
   "metadata": {},
   "outputs": [
    {
     "name": "stdout",
     "output_type": "stream",
     "text": [
      "0 1 1 2 3 5 8 13 21 34 "
     ]
    }
   ],
   "source": [
    "#Write a python program to print the first 10 Fibonacci numbers using a while loop\n",
    "\n",
    "#solution\n",
    "def fibonacci(n):\n",
    "    a,b = 0,1\n",
    "    i=0\n",
    "    while(i<n):\n",
    "        print(a,end=' ')\n",
    "        a,b = b,a+b\n",
    "        i = i+1\n",
    "        \n",
    "fibonacci(10)"
   ]
  },
  {
   "cell_type": "code",
   "execution_count": 3,
   "id": "5446e677-7ca0-4a4a-a8ed-f708021e3f26",
   "metadata": {},
   "outputs": [
    {
     "name": "stdout",
     "output_type": "stream",
     "text": [
      "Sum : 6\n",
      "Sum : 20\n",
      "\n",
      "Student Detail\n",
      "Firstname = Akshat\n",
      "lastname = Shukla\n",
      "Age = 18\n",
      "Hobby = Badminton\n",
      "\n",
      "Student Detail\n",
      "Firstname = Lavina\n",
      "lastname = Chimnani\n",
      "Age = 18\n",
      "Hobby = Photography\n"
     ]
    }
   ],
   "source": [
    "# Why *args and **kwargs is used in some functions? Create a function each for *args and **kwargs \n",
    "# to demonstrate their use.\n",
    "\n",
    "#Solution\n",
    "# *args\n",
    "\"\"\"*args is called ‘arbitrary arguments’. It is useful in the cases where you don’t know how many arguments\n",
    "    you need for your function. This way, you will have a tuple (not a list) of arguments.\"\"\"\n",
    "\n",
    "def test_args(*args):\n",
    "    \"\"\" print sum of numbers\"\"\"\n",
    "    sum = 0\n",
    "    for i in args:\n",
    "        sum = sum + i\n",
    "    print(\"Sum :\",sum)\n",
    "\n",
    "test_args(1,2,3)\n",
    "test_args(2,3,4,5,6)\n",
    "    \n",
    "    \n",
    "# **kwargs\n",
    "\"\"\"**kwargs is called ‘arbitrary keyword arguments’. It is the same thing speaking about not knowing the number\n",
    "    of arguments needed etc. But the difference here is that you will have a dictionary of arguments instead of a tuple.\n",
    "    So, we are using the key = value syntax, then, inside the function, you might use kwargs[key].\"\"\"\n",
    "\n",
    "def test_kwargs(**kwargs):\n",
    "    \"\"\"print student detail\"\"\"\n",
    "    print(\"\\nStudent Detail\")\n",
    "    for key,value in kwargs.items():\n",
    "        print(key,'=',value)\n",
    "        \n",
    "test_kwargs(Firstname = \"Akshat\",lastname = \"Shukla\",Age = \"18\",Hobby = \"Badminton\")\n",
    "test_kwargs(Firstname = \"Lavina\",lastname = \"Chimnani\",Age = \"18\",Hobby = \"Photography\")"
   ]
  },
  {
   "cell_type": "code",
   "execution_count": 4,
   "id": "cdd9e787-735e-46a5-b56c-0c2d73625f7c",
   "metadata": {},
   "outputs": [
    {
     "name": "stdout",
     "output_type": "stream",
     "text": [
      "2\n",
      "4\n",
      "6\n",
      "8\n",
      "10\n"
     ]
    }
   ],
   "source": [
    "# What is an iterator in python? Name the method used to initialise the iterator object and the method \n",
    "# used for iteration. Use these methods to print the first five elements of the given list [2, 4, 6, 8, 10, 12, 14, 16, 18, 20].\n",
    "\n",
    "#solution\n",
    "\"\"\"Iterator is a class which is returns one value at a time and it can’t be re-used multiple times (since it is an object), retains its state.\n",
    "    we use iter() function to make datatypes iterable\"\"\"\n",
    "\n",
    "l = [2, 4, 6, 8, 10, 12, 14, 16, 18, 20]\n",
    "l = iter(l)\n",
    "\n",
    "for i in range(0,5):\n",
    "    print(next(l))\n"
   ]
  },
  {
   "cell_type": "code",
   "execution_count": 5,
   "id": "50fd0929-bd59-44c1-9bad-194ec40159cf",
   "metadata": {},
   "outputs": [
    {
     "name": "stdout",
     "output_type": "stream",
     "text": [
      "0\n",
      "2\n",
      "4\n",
      "6\n",
      "8\n"
     ]
    }
   ],
   "source": [
    "# What is a generator function in python? Why yield keyword is used? Give an example of a generator function.\n",
    "\n",
    "#solution\n",
    "\"\"\"Generators are iterators, but you can only iterate over them once. Its because they do not store all the values in memory,\n",
    "    they generate the values on the fly. A python generator look like a function but the yield statement makes the difference.\n",
    "    The yield statement turns a function to generator.\"\"\"\n",
    "\n",
    "def test_generator(value):\n",
    "    i = 0\n",
    "    while i<value:\n",
    "        yield i*2\n",
    "        i = i+1\n",
    "\n",
    "\"\"\"Above Function generate the value of i*2 for every iteration and return it doesn't store it\"\"\"\n",
    "\n",
    "for i in test_generator(5):\n",
    "    print(i)\n",
    "    \n"
   ]
  },
  {
   "cell_type": "code",
   "execution_count": 6,
   "id": "aacdc52b-daed-4d19-b039-b6f514fb8f3d",
   "metadata": {},
   "outputs": [
    {
     "name": "stdout",
     "output_type": "stream",
     "text": [
      "2 3 5 7 11 13 17 19 23 29 31 37 41 43 47 53 59 61 67 71 "
     ]
    }
   ],
   "source": [
    "# Create a generator function for prime numbers less than 1000. Use the next() method to print the first 20 prime numbers\n",
    "\n",
    "#solution\n",
    "def isPrime(num):\n",
    "    for i in range(2,num):\n",
    "        if num%i==0:\n",
    "            return False\n",
    "    return True\n",
    "\n",
    "def primeGenerator(n):\n",
    "    num = 2\n",
    "    while n>0:\n",
    "        if isPrime(num):\n",
    "            yield num\n",
    "            n = n - 1\n",
    "        if num < 1000:\n",
    "            num = num + 1\n",
    "        else:\n",
    "            return\n",
    "    return\n",
    "l = []\n",
    "for i in primeGenerator(200):\n",
    "    l.append(i)\n",
    "    \n",
    "l = iter(l)\n",
    "for i in range(0,20):\n",
    "    print(next(l),end=' ')"
   ]
  },
  {
   "cell_type": "code",
   "execution_count": 7,
   "id": "b5532be0-3e81-4e35-ad85-2a882afd1e7b",
   "metadata": {},
   "outputs": [
    {
     "name": "stdout",
     "output_type": "stream",
     "text": [
      "['p', 'w', 's', 'k', 'i', 'l', 'l', 's']\n"
     ]
    }
   ],
   "source": [
    "# Write a List Comprehension to iterate through the given string: ‘pwskills’.\n",
    "# Expected output: ['p', 'w', 's', 'k', 'i', 'l', 'l', 's']\n",
    "\n",
    "#solution\n",
    "print([letter for letter in 'pwskills'])"
   ]
  },
  {
   "cell_type": "code",
   "execution_count": 9,
   "id": "d26ca4a7-8b05-4ce5-aca4-b1280d22856d",
   "metadata": {},
   "outputs": [
    {
     "name": "stdin",
     "output_type": "stream",
     "text": [
      "Enter the string malayalam\n"
     ]
    },
    {
     "data": {
      "text/plain": [
       "True"
      ]
     },
     "execution_count": 9,
     "metadata": {},
     "output_type": "execute_result"
    }
   ],
   "source": [
    "# Write a python program to check whether a given number is Palindrome or not using a while loop\n",
    "\n",
    "#solution\n",
    "def checkPalindrome(string):\n",
    "    reversestring = ''\n",
    "    for i in range(len(string)-1,-1,-1):\n",
    "        helperstring = string[i]\n",
    "        reversestring = reversestring+helperstring\n",
    "    if(reversestring==string):\n",
    "        return True\n",
    "    else:\n",
    "        return False\n",
    "string = input(\"Enter the string\")\n",
    "checkPalindrome(string)"
   ]
  },
  {
   "cell_type": "code",
   "execution_count": 10,
   "id": "24941a33-c983-4cd3-b81e-1635c2b35a19",
   "metadata": {},
   "outputs": [
    {
     "name": "stdout",
     "output_type": "stream",
     "text": [
      "[1, 3, 5, 7, 9, 11, 13, 15, 17, 19, 21, 23, 25, 27, 29, 31, 33, 35, 37, 39, 41, 43, 45, 47, 49, 51, 53, 55, 57, 59, 61, 63, 65, 67, 69, 71, 73, 75, 77, 79, 81, 83, 85, 87, 89, 91, 93, 95, 97, 99]\n"
     ]
    }
   ],
   "source": [
    "# Write a code to print odd numbers from 1 to 100 using list comprehension.\n",
    "\n",
    "#solution\n",
    "print([num for num in range(1,101) if num%2!=0])"
   ]
  },
  {
   "cell_type": "code",
   "execution_count": null,
   "id": "9b2aea59-f861-4e4b-a193-37f0f2450a8a",
   "metadata": {},
   "outputs": [],
   "source": []
  }
 ],
 "metadata": {
  "kernelspec": {
   "display_name": "Python 3 (ipykernel)",
   "language": "python",
   "name": "python3"
  },
  "language_info": {
   "codemirror_mode": {
    "name": "ipython",
    "version": 3
   },
   "file_extension": ".py",
   "mimetype": "text/x-python",
   "name": "python",
   "nbconvert_exporter": "python",
   "pygments_lexer": "ipython3",
   "version": "3.10.8"
  }
 },
 "nbformat": 4,
 "nbformat_minor": 5
}
