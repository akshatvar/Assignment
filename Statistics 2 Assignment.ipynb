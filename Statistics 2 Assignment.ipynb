{
 "cells": [
  {
   "cell_type": "code",
   "execution_count": null,
   "id": "23d3145d-ad62-4d02-921c-fd4bc3c89ae9",
   "metadata": {},
   "outputs": [],
   "source": [
    "#Q1. What are the three measures of central tendency\n",
    "\n",
    "#Solution\n",
    "\"\"\"\n",
    "The three measures of central tendency are:\n",
    "\n",
    "Mean: The mean is calculated by summing up all the values in a dataset and then dividing by the total number\n",
    "of values. It represents the average value of the data.\n",
    "\n",
    "Median: The median is the middle value in a dataset when it is arranged in ascending or descending order.\n",
    "If there's an odd number of values, the median is the middle value. If there's an even number of values,\n",
    "the median is the average of the two middle values.\n",
    "\n",
    "Mode: The mode is the value that appears most frequently in a dataset. A dataset can have one mode (unimodal)\n",
    "or more than one mode (multimodal) if multiple values occur with the highest frequency.\n",
    "\"\"\""
   ]
  },
  {
   "cell_type": "code",
   "execution_count": null,
   "id": "55dfbcc5-c239-47bc-87a0-1217aa3e2afb",
   "metadata": {},
   "outputs": [],
   "source": [
    "# Q2. What is the difference between the mean, median, and mode? How are they used to measure the \n",
    "# central tendency of a dataset\n",
    "\n",
    "# Solution\n",
    "\"\"\"\n",
    "Mean:\n",
    "The mean is the arithmetic average of all the values in a dataset.\n",
    "It is calculated by summing up all the values and then dividing by the total number of values.\n",
    "The mean can be sensitive to outliers (extreme values), as these values can disproportionately affect its value.\n",
    "It is commonly used when the data is approximately normally distributed and doesn't have extreme outliers.\n",
    "\n",
    "Median:\n",
    "The median is the middle value in a dataset when the values are arranged in order (either ascending or descending).\n",
    "If there's an odd number of values, the median is the middle value itself.\n",
    "If there's an even number of values, the median is the average of the two middle values.\n",
    "The median is robust to outliers, as it is not heavily influenced by extreme values.\n",
    "It is often used when the data contains outliers or is skewed (not symmetrically distributed).\n",
    "\n",
    "Mode:\n",
    "The mode is the value that appears most frequently in a dataset.\n",
    "A dataset can have no mode (if all values are unique), one mode (unimodal), or more than one mode (multimodal)\n",
    "if multiple values occur with the same highest frequency.\n",
    "The mode can be useful for identifying the most common value in a dataset, especially in categorical or discrete data.\n",
    "Unlike the mean and median, the mode is not affected by the actual values of the data but only by their frequency.\n",
    "\"\"\""
   ]
  },
  {
   "cell_type": "code",
   "execution_count": 10,
   "id": "f51123e8-e4c6-47b4-8063-5a66a186a660",
   "metadata": {},
   "outputs": [],
   "source": [
    "import statistics as stats"
   ]
  },
  {
   "cell_type": "code",
   "execution_count": 11,
   "id": "bb6aa58b-6358-4300-801d-cb16394b138d",
   "metadata": {},
   "outputs": [
    {
     "name": "stdout",
     "output_type": "stream",
     "text": [
      "mean of Height 177.01875\n",
      "median of Height 177.0\n",
      "mode of Height 178\n"
     ]
    }
   ],
   "source": [
    "# Q3. Measure the three measures of central tendency for the given height data:\n",
    "# [178,177,176,177,178.2,178,175,179,180,175,178.9,176.2,177,172.5,178,176.5]\n",
    "\n",
    "# Solution\n",
    "height = [178,177,176,177,178.2,178,175,179,180,175,178.9,176.2,177,172.5,178,176.5]\n",
    "height_mean = stats.mean(height)\n",
    "height_median = stats.median(height)\n",
    "height_mode = stats.mode(height)\n",
    "print(\"mean of Height\",height_mean)\n",
    "print(\"median of Height\",height_median)\n",
    "print(\"mode of Height\",height_mode)"
   ]
  },
  {
   "cell_type": "code",
   "execution_count": 12,
   "id": "acae4910-b2f0-4ff7-9a38-f8d1db853acb",
   "metadata": {},
   "outputs": [
    {
     "name": "stdout",
     "output_type": "stream",
     "text": [
      "Standard Deviation of Height 1.8472389305844188\n"
     ]
    }
   ],
   "source": [
    "# Q4. Find the standard deviation for the given data:\n",
    "# [178,177,176,177,178.2,178,175,179,180,175,178.9,176.2,177,172.5,178,176.5]\n",
    "\n",
    "#Solution\n",
    "height_std = stats.stdev(height)\n",
    "print(\"Standard Deviation of Height\",height_std)"
   ]
  },
  {
   "cell_type": "code",
   "execution_count": 13,
   "id": "84b65b5c-6a00-43f9-a96b-45565e362f8b",
   "metadata": {},
   "outputs": [
    {
     "name": "stdout",
     "output_type": "stream",
     "text": [
      "range of Height 7.5\n",
      "variance of Height 3.4122916666666674\n",
      "Standard Deviation of Height 1.8472389305844188\n"
     ]
    }
   ],
   "source": [
    "#Q5. How are measures of dispersion such as range, variance, and standard deviation used to describe \n",
    "#the spread of a dataset? Provide an example.\n",
    "\n",
    "#Solution\n",
    "height_range = max(height)-min(height)\n",
    "height_var = stats.variance(height)\n",
    "height_std = stats.stdev(height)\n",
    "print(\"range of Height\",height_range)\n",
    "print(\"variance of Height\",height_var)\n",
    "print(\"Standard Deviation of Height\",height_std)"
   ]
  },
  {
   "cell_type": "code",
   "execution_count": null,
   "id": "c3631a63-ecb4-4d82-899d-cf6f70aee943",
   "metadata": {},
   "outputs": [],
   "source": [
    "#Q6. What is a Venn diagram?\n",
    "\n",
    "#Solution\n",
    "\"\"\"\n",
    "A Venn diagram is a graphical representation used to show the relationships between sets of elements. It consists of\n",
    "overlapping circles or other shapes, where each circle represents a set and the overlap between circles represents the\n",
    "intersection of those sets. Venn diagrams are commonly used to illustrate the similarities and differences between\n",
    "different groups or concepts.\n",
    "\"\"\""
   ]
  },
  {
   "cell_type": "code",
   "execution_count": 14,
   "id": "851df04d-7654-4a05-aebc-49a1d478c8fd",
   "metadata": {},
   "outputs": [
    {
     "name": "stdout",
     "output_type": "stream",
     "text": [
      "Union of set_A and set_B {0, 2, 3, 4, 5, 6, 7, 8, 10}\n",
      "Intersection of set_A and set_B {2, 6}\n"
     ]
    }
   ],
   "source": [
    "# Q7. For the two given sets A = (2,3,4,5,6,7) & B = (0,2,6,8,10). Find:\n",
    "\n",
    "# (i) \tA ^ B\n",
    "\n",
    "# (ii)\tA u B\n",
    "# ^ = Intersection, u = Union\n",
    "#Solution\n",
    "set_A = {2, 3, 4, 5, 6, 7}\n",
    "set_B = {0, 2, 6, 8, 10}\n",
    "\n",
    "unionAB = set_A.union(set_B)\n",
    "intersectionAB = set_A.intersection(set_B)\n",
    "print(\"Union of set_A and set_B\",unionAB)\n",
    "print(\"Intersection of set_A and set_B\",intersectionAB)"
   ]
  },
  {
   "cell_type": "code",
   "execution_count": null,
   "id": "f8ebf209-f5ba-46f2-b91b-cda2aed8ff07",
   "metadata": {},
   "outputs": [],
   "source": [
    "#Q8. What do you understand about skewness in data?\n",
    "\n",
    "#Solution\n",
    "\"\"\"\n",
    "Skewness in data refers to the asymmetry in the distribution of data points in a dataset. It indicates whether\n",
    "the data is skewed (lopsided) to the left or right of the central point, which is often the mean or median.\n",
    "Skewness is an essential concept in statistics and data analysis because it helps us understand the shape and\n",
    "characteristics of a data distribution.\n",
    "\"\"\""
   ]
  },
  {
   "cell_type": "code",
   "execution_count": null,
   "id": "4883edbf-85c6-44b8-8fd2-c9fca7913a5c",
   "metadata": {},
   "outputs": [],
   "source": [
    "#Q9. If a data is right skewed then what will be the position of median with respect to mean\n",
    "\n",
    "#Solution\n",
    "\"\"\"\n",
    "In a positively skewed distribution, the tail of the distribution is longer on the right-hand side.The majority of\n",
    "data points are concentrated on the left side of the distribution, and a few higher values extend the tail on the right.\n",
    "The mean is usually greater than the median in a positively skewed distribution because the larger values in the right\n",
    "tail pull the mean to the right.\n",
    "\n",
    "mean > median > mode\n",
    "\"\"\""
   ]
  },
  {
   "cell_type": "code",
   "execution_count": null,
   "id": "a616050f-0794-447c-bada-998ef23007dd",
   "metadata": {},
   "outputs": [],
   "source": [
    "# Q10. Explain the difference between covariance and correlation. How are these measures used in \n",
    "# statistical analysis?\n",
    "\n",
    "# solution\n",
    "\"\"\"\n",
    "Covariance and correlation are both measures used in statistics to quantify the relationship between two variables.\n",
    "While they are related concepts, they have distinct interpretations and uses.\n",
    "\n",
    "Covariance:\n",
    "Covariance measures the degree to which two variables change together.\n",
    "It indicates the direction of the linear relationship between two variables (positive or negative), but it doesn't\n",
    "provide information about the strength or magnitude of the relationship.\n",
    "The formula for covariance between two variables X and Y is:\n",
    "cov(X, Y) = Σ[(Xᵢ - X̄) * (Yᵢ - Ȳ)] / (n - 1)\n",
    "where Xᵢ and Yᵢ are individual data points, X̄ and Ȳ are the means of X and Y respectively, and n is the number of data points.\n",
    "\n",
    "Correlation:\n",
    "Correlation measures the strength and direction of the linear relationship between two variables.\n",
    "It provides a standardized value between -1 and 1, where -1 indicates a perfect negative linear relationship, 1 indicates a\n",
    "perfect positive linear relationship, and 0 indicates no linear relationship.\n",
    "Correlation takes into account both the strength and direction of the relationship, making it a more interpretable measure\n",
    "compared to covariance.\n",
    "The most common form of correlation used is the Pearson correlation coefficient.\n",
    "The formula for the Pearson correlation coefficient between two variables X and Y is:\n",
    "cor(X, Y) = cov(X, Y) / (σₓ * σᵧ)\n",
    "where cov(X, Y) is the covariance between X and Y, and σₓ and σᵧ are the standard deviations of X and Y respectively.\n",
    "\n",
    "Use in Statistical Analysis:\n",
    "Covariance and correlation are used to understand the relationship between two variables and how they tend to vary together.\n",
    "They are used in fields like finance, economics, social sciences, and many other areas to analyze the interaction between variables.\n",
    "Correlation, due to its standardized nature, is often preferred when comparing the strength and direction of relationships between different pairs of variables.\n",
    "Both measures can help identify patterns, trends, and dependencies between variables, aiding in decision-making, forecasting, and modeling.\n",
    "\"\"\""
   ]
  },
  {
   "cell_type": "code",
   "execution_count": 15,
   "id": "599e4af3-4a61-4c67-acc2-593a2872f099",
   "metadata": {},
   "outputs": [
    {
     "name": "stdout",
     "output_type": "stream",
     "text": [
      "Sample mean 78.4\n"
     ]
    }
   ],
   "source": [
    "#Q11. What is the formula for calculating the sample mean? Provide an example calculation for a \n",
    "#dataset.\n",
    "\n",
    "#Solution\n",
    "\"\"\"\n",
    "The formula for calculating the sample mean (average) of a dataset is as follows:\n",
    "\n",
    "Sample Mean (x̄) = (Sum of all data points) / (Number of data points)\n",
    "\n",
    "In mathematical terms:\n",
    "x̄ = (Σx) / n\n",
    "\n",
    "Where:\n",
    "\n",
    "x̄ is the sample mean.\n",
    "Σx represents the sum of all the individual data points.\n",
    "n is the number of data points in the dataset.\n",
    "Example Calculation:\n",
    "Let's say we have a dataset of exam scores: [85, 92, 78, 65, 72].\n",
    "To calculate the sample mean:\n",
    "\n",
    "Add up all the exam scores: 85 + 92 + 78 + 65 + 72 = 392.\n",
    "Count the number of exam scores: n = 5 (there are 5 scores in the dataset).\n",
    "Use the formula: x̄ = Σx / n = 392 / 5 = 78.4.\n",
    "So, the sample mean of the exam scores is 78.4.\n",
    "\"\"\"\n",
    "exam_score = [85, 92, 78, 65, 72]\n",
    "print(\"Sample mean\",stats.mean(exam_score))"
   ]
  },
  {
   "cell_type": "code",
   "execution_count": null,
   "id": "6e555366-5a3b-4c22-967f-ca103b2fa640",
   "metadata": {},
   "outputs": [],
   "source": [
    "#Q12. For a normal distribution data what is the relationship between its measure of central tendency?\n",
    "\n",
    "#Solution\n",
    "\"\"\"\n",
    "For a normal distribution, which is also known as a Gaussian distribution or a bell-shaped curve, the three main measures\n",
    "of central tendency (mean, median, and mode) are all located at the same point within the distribution. This is one of the\n",
    "defining characteristics of a symmetrical normal distribution.\n",
    "\n",
    "In a normal distribution:\n",
    "\n",
    "Mean: The mean is located at the center of the distribution. It coincides with the point where the distribution is\n",
    "balanced and symmetric.\n",
    "\n",
    "Median: The median is also located at the center of the distribution, just like the mean. In a perfectly symmetrical\n",
    "normal distribution, the mean and median are the same.\n",
    "\n",
    "Mode: The mode is also located at the center of the distribution, right where the peak (highest point) of the curve is.\n",
    "In a normal distribution, there's only one mode, which is located at the same point as the mean and median.\n",
    "\n",
    "This alignment of the mean, median, and mode at the center of the distribution is a characteristic feature of a perfectly\n",
    "symmetrical normal distribution. However, in real-world data, distributions may deviate slightly from perfect symmetry,\n",
    "leading to small differences between the mean, median, and mode. Nonetheless, for approximately symmetrical normal distributions,\n",
    "these measures of central tendency will be very close to each other and clustered around the center of the distribution.\n",
    "\n",
    "mean = median = mode \n",
    "\"\"\""
   ]
  },
  {
   "cell_type": "code",
   "execution_count": null,
   "id": "c8550b70-3731-4297-935e-cd6e8b7c0549",
   "metadata": {},
   "outputs": [],
   "source": [
    "#Q13. How is covariance different from correlation?\n",
    "\n",
    "#Solution\n",
    "\"\"\"\n",
    "Differences between covariance and correlation are:\n",
    "\n",
    "Interpretation: Covariance doesn't have a standardized interpretation. It only indicates whether two variables change\n",
    "together or not. Correlation, on the other hand, provides a standardized measure of the strength and direction of the\n",
    "linear relationship.\n",
    "\n",
    "Range: Covariance can take any real value, positive or negative. Correlation is restricted to the range between -1 and 1.\n",
    "\n",
    "Standardization: Correlation is a standardized measure, meaning it's unitless and can be easily compared across different\n",
    "datasets. Covariance is not standardized and its value is affected by the units of the variables.\n",
    "\n",
    "Direction: Covariance doesn't indicate whether the relationship is positive or negative; it simply indicates whether the\n",
    "variables tend to change together. Correlation includes the direction of the relationship (positive or negative).\n",
    "\n",
    "Strength: Correlation provides information about the strength of the linear relationship, whereas covariance alone doesn't\n",
    "give a clear indication of the strength.\n",
    "\"\"\""
   ]
  },
  {
   "cell_type": "code",
   "execution_count": null,
   "id": "4b348e4f-06b3-43b7-8556-8b88c21f6dd4",
   "metadata": {},
   "outputs": [],
   "source": [
    "# Q14. How do outliers affect measures of central tendency and dispersion? Provide an example\n",
    "\n",
    "# Solution\n",
    "\"\"\"\n",
    "Outliers are data points that deviate significantly from the rest of the data in a dataset. They can have a substantial\n",
    "impact on measures of central tendency (mean, median, and mode) and measures of dispersion (variance, standard deviation,\n",
    "range) in various ways:\n",
    "\n",
    "Central Tendency:\n",
    "\n",
    "Mean: Outliers can heavily influence the mean, as it involves summing up all values and dividing by the total number.\n",
    "Even a single extreme outlier can pull the mean towards itself, making it unrepresentative of the majority of the data.\n",
    "\n",
    "Median: The median is less affected by outliers because it is not influenced by the actual values of outliers, only their\n",
    "position relative to the rest of the data. Thus, it provides a more robust measure of central tendency when outliers are present.\n",
    "\n",
    "Mode: The mode is not usually affected by outliers since it only represents the most frequent value(s) in the dataset.\n",
    "\n",
    "Dispersion:\n",
    "\n",
    "Variance and Standard Deviation: Outliers can increase the variance and standard deviation significantly because they introduce\n",
    "large deviations from the mean. Variance and standard deviation are sensitive to the magnitude of these deviations.\n",
    "\n",
    "Range: The range can be greatly influenced by outliers, especially when they are distant from the rest of the data. The range\n",
    "will be wider to accommodate the extreme values.\n",
    "\n",
    "Example:\n",
    "\n",
    "Consider a dataset of exam scores: [65, 72, 78, 85, 92, 120]. The score 120 is an outlier. Let's examine how outliers affect\n",
    "central tendency and dispersion:\n",
    "\n",
    "Mean: Without the outlier: (65 + 72 + 78 + 85 + 92) / 5 = 78.4. With the outlier: (65 + 72 + 78 + 85 + 92 + 120) / 6 = 86.3.\n",
    "The mean is significantly influenced by the outlier.\n",
    "\n",
    "Median: Without the outlier: Median = 78. With the outlier: Median = 81.5. The median is less affected.\n",
    "\n",
    "Variance and Standard Deviation: Without the outlier: Variance = 89.3, Standard Deviation ≈ 9.45. With the outlier: Variance = 893.5, \n",
    "Standard Deviation ≈ 29.9. Both variance and standard deviation are greatly affected.\n",
    "\n",
    "Range: Without the outlier: Range = 92 - 65 = 27. With the outlier: Range = 120 - 65 = 55. The range is significantly affected.\n",
    "\n",
    "In this example, the presence of an outlier drastically influenced the mean, variance, standard deviation, and range, highlighting\n",
    "the importance of identifying and handling outliers appropriately in data analysis.\n",
    "\"\"\""
   ]
  }
 ],
 "metadata": {
  "kernelspec": {
   "display_name": "Python 3 (ipykernel)",
   "language": "python",
   "name": "python3"
  },
  "language_info": {
   "codemirror_mode": {
    "name": "ipython",
    "version": 3
   },
   "file_extension": ".py",
   "mimetype": "text/x-python",
   "name": "python",
   "nbconvert_exporter": "python",
   "pygments_lexer": "ipython3",
   "version": "3.10.8"
  }
 },
 "nbformat": 4,
 "nbformat_minor": 5
}
