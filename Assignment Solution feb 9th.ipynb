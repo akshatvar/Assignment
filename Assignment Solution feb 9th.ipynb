{
 "cells": [
  {
   "cell_type": "code",
   "execution_count": 28,
   "id": "63587d8f-7b0a-450c-8418-fbe16c870873",
   "metadata": {},
   "outputs": [],
   "source": [
    "#Q1, Create a vehicle class with an init method having instance variables as name_of_vehicle, max_speed \n",
    "#and average_of_vehicle.\n",
    "\n",
    "#solution\n",
    "\n",
    "class vehicle:\n",
    "    def __init__(self,name_of_vehicle,max_speed,average_of_vehicle):\n",
    "        self.model = name_of_vehicle\n",
    "        self.max_speed = max_speed\n",
    "        self.average = average_of_vehicle\n",
    "    def seating_capacity(self,capacity):\n",
    "        self.capacity = capacity\n",
    "        return f\"{self.model} has a seating capacity of {capacity} passengers.\""
   ]
  },
  {
   "cell_type": "code",
   "execution_count": 29,
   "id": "0e8b35c4-33f4-48db-a1c9-9f5751b190a4",
   "metadata": {},
   "outputs": [
    {
     "name": "stdout",
     "output_type": "stream",
     "text": [
      "sedan has a seating capacity of 5 passengers.\n"
     ]
    }
   ],
   "source": [
    "#Q2.  Create a child class car from the vehicle class created in Que 1, which will inherit the vehicle class. \n",
    "#Create a method named seating_capacity which takes capacity as an argument and returns the name of \n",
    "#the vehicle and its seating capacity.\n",
    "\n",
    "#solution\n",
    "\n",
    "class car(vehicle):\n",
    "    pass\n",
    "\n",
    "sedan = car(\"sedan\",106,55)\n",
    "print(sedan.seating_capacity(5))\n",
    "        "
   ]
  },
  {
   "cell_type": "code",
   "execution_count": 30,
   "id": "26564165-14db-4d9e-a326-304ff4c05276",
   "metadata": {},
   "outputs": [
    {
     "name": "stdout",
     "output_type": "stream",
     "text": [
      "Thar has a seating capacity of 7 passengers.\n"
     ]
    }
   ],
   "source": [
    "SUV = car(\"Thar\",125,43)\n",
    "print(SUV.seating_capacity(7))"
   ]
  },
  {
   "cell_type": "code",
   "execution_count": 9,
   "id": "c8f4d7c0-e7ea-4794-b3b2-108f8911b648",
   "metadata": {},
   "outputs": [],
   "source": [
    "#Q3 What is multiple inheritance? Write a python code to demonstrate multiple inheritance\n",
    "\n",
    "#Solution\n",
    "\"\"\"\n",
    "Multiple inheritance:\n",
    "When a class is derived from more than one base class it is called multiple Inheritance.\"\"\"\n",
    "\n",
    "class gender:\n",
    "    def getgender(gen):\n",
    "        return gen\n",
    "class height:\n",
    "    def getheight(length):\n",
    "        return length\n",
    "class name:\n",
    "    def getname(nam):\n",
    "        return nam\n",
    "class student(gender,height,name):\n",
    "    pass"
   ]
  },
  {
   "cell_type": "code",
   "execution_count": 10,
   "id": "db430876-d681-4cf5-9557-72db746221b2",
   "metadata": {},
   "outputs": [
    {
     "data": {
      "text/plain": [
       "'Male'"
      ]
     },
     "execution_count": 10,
     "metadata": {},
     "output_type": "execute_result"
    }
   ],
   "source": [
    "Ayush = student\n",
    "Ayush.getgender('Male')"
   ]
  },
  {
   "cell_type": "code",
   "execution_count": 11,
   "id": "fa4d6cfc-e8e4-4c34-9dbd-f2f5fc6e3955",
   "metadata": {},
   "outputs": [
    {
     "data": {
      "text/plain": [
       "'175 cm'"
      ]
     },
     "execution_count": 11,
     "metadata": {},
     "output_type": "execute_result"
    }
   ],
   "source": [
    "Ayush.getheight('175 cm')"
   ]
  },
  {
   "cell_type": "code",
   "execution_count": 12,
   "id": "02f6d425-f716-43e5-8271-d5eb22ec0267",
   "metadata": {},
   "outputs": [
    {
     "data": {
      "text/plain": [
       "'Ayush Sharma'"
      ]
     },
     "execution_count": 12,
     "metadata": {},
     "output_type": "execute_result"
    }
   ],
   "source": [
    "Ayush.getname('Ayush Sharma')"
   ]
  },
  {
   "cell_type": "code",
   "execution_count": 1,
   "id": "52318f02-75de-4756-9332-e00fdc32d475",
   "metadata": {},
   "outputs": [],
   "source": [
    "#Q3 What are getter and setter in python? Create a class and create a getter and a setter method in this \n",
    "#class.\n",
    "\n",
    "#solution\n",
    "\"\"\"\n",
    "In Python, getters and setters are methods used to retrieve (get) and update\n",
    "(set) the values of instance variables of a class. They are also known as accessor\n",
    "and mutator methods respectively.\"\"\"\n",
    "\n",
    "class car:\n",
    "    def __init__(self,model,average,launch_year):\n",
    "        self.__model = model\n",
    "        self.__average = average\n",
    "        self.__launch_year = launch_year\n",
    "    #setter\n",
    "    def set_model(self,m):\n",
    "        self.__model = m\n",
    "    def set_average(self,a):\n",
    "        self.__average = a\n",
    "    def set_launch_year(self,l):\n",
    "        self.__launch_year = l\n",
    "    #getter\n",
    "    def get_model(self):\n",
    "        return self.__model\n",
    "    def get_average(self):\n",
    "        return self.__average\n",
    "    def get_launch_year(self):\n",
    "        return self.__launch_year"
   ]
  },
  {
   "cell_type": "code",
   "execution_count": 2,
   "id": "438deb36-ecd0-4617-bcb6-eead52832760",
   "metadata": {},
   "outputs": [],
   "source": [
    "bmw = car(\"Range Rover\",19,2006)"
   ]
  },
  {
   "cell_type": "code",
   "execution_count": 6,
   "id": "70d0807f-0bd8-4b99-b536-58a68a921b24",
   "metadata": {},
   "outputs": [
    {
     "data": {
      "text/plain": [
       "'Range Rover'"
      ]
     },
     "execution_count": 6,
     "metadata": {},
     "output_type": "execute_result"
    }
   ],
   "source": [
    "bmw.get_model()"
   ]
  },
  {
   "cell_type": "code",
   "execution_count": 7,
   "id": "ca3acf50-07ba-4f7b-a5d0-d1ff9d445087",
   "metadata": {},
   "outputs": [
    {
     "data": {
      "text/plain": [
       "2006"
      ]
     },
     "execution_count": 7,
     "metadata": {},
     "output_type": "execute_result"
    }
   ],
   "source": [
    "bmw.get_launch_year()"
   ]
  },
  {
   "cell_type": "code",
   "execution_count": 9,
   "id": "2afb5e66-4c0a-4407-bf48-de18b9ef374b",
   "metadata": {},
   "outputs": [
    {
     "data": {
      "text/plain": [
       "19"
      ]
     },
     "execution_count": 9,
     "metadata": {},
     "output_type": "execute_result"
    }
   ],
   "source": [
    "bmw.get_average()"
   ]
  },
  {
   "cell_type": "code",
   "execution_count": 10,
   "id": "7df5f7c1-0046-440c-a932-e161b913296d",
   "metadata": {},
   "outputs": [],
   "source": [
    "bmw.set_model('R15')"
   ]
  },
  {
   "cell_type": "code",
   "execution_count": 11,
   "id": "1bdb1fd7-bfb4-4199-a835-ecd891e2f8f1",
   "metadata": {},
   "outputs": [
    {
     "data": {
      "text/plain": [
       "'R15'"
      ]
     },
     "execution_count": 11,
     "metadata": {},
     "output_type": "execute_result"
    }
   ],
   "source": [
    "bmw.get_model()"
   ]
  },
  {
   "cell_type": "code",
   "execution_count": 13,
   "id": "f03d71fc-aab6-43d1-97df-aaba24b0e3f6",
   "metadata": {},
   "outputs": [],
   "source": [
    "#Q5.What is method overriding in python? Write a python code to demonstrate method overriding.\n",
    "\n",
    "#Solution\n",
    "\"\"\"\n",
    "Method overriding in Python refers to the process of defining a method in a child\n",
    "class that already exists in the parent class. When a child class defines a method\n",
    "with the same name, same parameters, and same return type as a method in its parent\n",
    "class, it is said to be method overriding.\"\"\"\n",
    "\n",
    "class kingdom:\n",
    "    def __init__(self,name):\n",
    "        self.name = name\n",
    "    def role(self):\n",
    "        print(\"Their role\")\n",
    "class king(kingdom):\n",
    "    def role(self):\n",
    "        print(\"I'm the boss\")\n",
    "class soldier(kingdom):\n",
    "    def role(self):\n",
    "        print(\"I'm loyal to the king\")\n",
    "class prince(kingdom):\n",
    "    def role(self):\n",
    "        print(\"I'm the future\")"
   ]
  },
  {
   "cell_type": "code",
   "execution_count": 16,
   "id": "ddebb12d-1ad9-4fdd-a55b-aeaf5b3b49e0",
   "metadata": {},
   "outputs": [
    {
     "name": "stdout",
     "output_type": "stream",
     "text": [
      "I'm the boss\n"
     ]
    }
   ],
   "source": [
    "Pratap = king(\"Raj Pratap\")\n",
    "Pratap.role()"
   ]
  },
  {
   "cell_type": "code",
   "execution_count": 17,
   "id": "f1d70da5-a599-4219-b497-fbdc0a544b33",
   "metadata": {},
   "outputs": [
    {
     "name": "stdout",
     "output_type": "stream",
     "text": [
      "I'm the future\n"
     ]
    }
   ],
   "source": [
    "chetan = prince(\"Chetan Raj\")\n",
    "chetan.role()"
   ]
  },
  {
   "cell_type": "code",
   "execution_count": 18,
   "id": "ddc3266d-4077-42b3-9f55-a32b8fb344a0",
   "metadata": {},
   "outputs": [
    {
     "name": "stdout",
     "output_type": "stream",
     "text": [
      "I'm loyal to the king\n"
     ]
    }
   ],
   "source": [
    "shoorveer = soldier(\"Shoorveer\")\n",
    "shoorveer.role()"
   ]
  },
  {
   "cell_type": "code",
   "execution_count": null,
   "id": "a849320f-8fa2-49a7-9413-c548077a5645",
   "metadata": {},
   "outputs": [],
   "source": []
  }
 ],
 "metadata": {
  "kernelspec": {
   "display_name": "Python 3 (ipykernel)",
   "language": "python",
   "name": "python3"
  },
  "language_info": {
   "codemirror_mode": {
    "name": "ipython",
    "version": 3
   },
   "file_extension": ".py",
   "mimetype": "text/x-python",
   "name": "python",
   "nbconvert_exporter": "python",
   "pygments_lexer": "ipython3",
   "version": "3.10.8"
  }
 },
 "nbformat": 4,
 "nbformat_minor": 5
}
