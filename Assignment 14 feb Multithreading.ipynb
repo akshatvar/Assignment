{
 "cells": [
  {
   "cell_type": "code",
   "execution_count": 1,
   "id": "0d53103e-1b24-4bb9-8b58-ab116856c7bd",
   "metadata": {},
   "outputs": [],
   "source": [
    "# What is multithreading in python? why is it used? Name the module used to handle threads in python\n",
    "\n",
    "#Solution\n",
    "\"\"\"\n",
    "Multithreading in Python is a popular technique that enables multiple tasks to be executed\n",
    "simultaneously. In simple words, the ability of a processor to execute multiple threads\n",
    "simultaneously is known as multithreading.\n",
    "\n",
    "It gives the illusion that they are running parallelly, but they work in a concurrent manner.\n",
    "\n",
    "threading module is used for multithreading\n",
    "\"\"\"\n",
    "import threading"
   ]
  },
  {
   "cell_type": "code",
   "execution_count": 2,
   "id": "00d272af-ec05-4d76-bba5-41eb3a6e69c6",
   "metadata": {},
   "outputs": [],
   "source": [
    "def test(id):\n",
    "    print(\"The id is %d\"%id)"
   ]
  },
  {
   "cell_type": "code",
   "execution_count": 9,
   "id": "e2e26581-affd-4b3d-a539-bd9384d3945d",
   "metadata": {},
   "outputs": [],
   "source": [
    "thread1 = [threading.Thread(target=test , args = (i,)) for i in range(10)]"
   ]
  },
  {
   "cell_type": "code",
   "execution_count": 10,
   "id": "9b64ed78-835e-422f-baca-300b902ce5b5",
   "metadata": {},
   "outputs": [
    {
     "name": "stdout",
     "output_type": "stream",
     "text": [
      "The id is 0\n",
      "The id is 1\n",
      "The id is 2\n",
      "The id is 3\n",
      "The id is 4\n",
      "The id is 5\n",
      "The id is 6\n",
      "The id is 7\n",
      "The id is 8\n",
      "The id is 9\n"
     ]
    }
   ],
   "source": [
    "for t in thread1:\n",
    "    t.start()"
   ]
  },
  {
   "cell_type": "code",
   "execution_count": 11,
   "id": "68b0aeb9-3b86-49c9-b3c4-c05dbf19d4e4",
   "metadata": {},
   "outputs": [
    {
     "data": {
      "text/plain": [
       "[<Thread(Thread-25 (test), stopped 139711981016640)>,\n",
       " <Thread(Thread-26 (test), stopped 139711981016640)>,\n",
       " <Thread(Thread-27 (test), stopped 139711981016640)>,\n",
       " <Thread(Thread-28 (test), stopped 139711981016640)>,\n",
       " <Thread(Thread-29 (test), stopped 139711981016640)>,\n",
       " <Thread(Thread-30 (test), stopped 139711981016640)>,\n",
       " <Thread(Thread-31 (test), stopped 139711981016640)>,\n",
       " <Thread(Thread-32 (test), stopped 139711981016640)>,\n",
       " <Thread(Thread-33 (test), stopped 139711981016640)>,\n",
       " <Thread(Thread-34 (test), stopped 139711981016640)>]"
      ]
     },
     "execution_count": 11,
     "metadata": {},
     "output_type": "execute_result"
    }
   ],
   "source": [
    "thread1"
   ]
  },
  {
   "cell_type": "code",
   "execution_count": 12,
   "id": "d8cb9709-ab12-4f13-b7af-8f110864bb77",
   "metadata": {},
   "outputs": [],
   "source": [
    "#why threading module used? write the use of the following functions\n",
    "#1.activeCount\n",
    "#2.currentThread\n",
    "#3.enumerate\n",
    "\n",
    "#Solution\n",
    "\"\"\"\n",
    "activecount():-active_count() is an inbuilt method of the threading module in Python.\n",
    "It is used to return the number of Thread objects that are active at any instant.\n",
    "\n",
    "currentthread:-current_thread() is an inbuilt method of the threading module in Python.\n",
    "It is used to return the current Thread object, which corresponds to the caller's thread of control.\n",
    "\n",
    "enumerate:-the enumerate function takes as input, an iterable and adds a counter to each\n",
    "iterable element, and returns an enumerate object.\n",
    "\"\"\""
   ]
  },
  {
   "cell_type": "code",
   "execution_count": 13,
   "id": "b75359e5-06b6-4a7a-a556-4b58593b3884",
   "metadata": {},
   "outputs": [],
   "source": [
    "# Write a python program to create two threads. Thread one must print the list of squares and thread \n",
    "# two must print the list of cubes\n",
    "\n",
    "#solution\n",
    "import threading"
   ]
  },
  {
   "cell_type": "code",
   "execution_count": 2,
   "id": "0ab4fc15-6498-4b2e-8431-d1ccbe64a247",
   "metadata": {},
   "outputs": [],
   "source": [
    "def square(num):\n",
    "    print(num**2)"
   ]
  },
  {
   "cell_type": "code",
   "execution_count": 3,
   "id": "b7e4bbb4-687c-4b5a-9f6a-7583f82b403e",
   "metadata": {},
   "outputs": [],
   "source": [
    "def cube(num):\n",
    "    print(num**3)"
   ]
  },
  {
   "cell_type": "code",
   "execution_count": 18,
   "id": "e322bc10-4c8c-4529-af3d-d8950301ac32",
   "metadata": {},
   "outputs": [],
   "source": [
    "thread2 = [threading.Thread(target = square, args = (i,)) for i in range(10)]\n",
    "thread3 = [threading.Thread(target = cube, args = (i,)) for i in range(10)]"
   ]
  },
  {
   "cell_type": "code",
   "execution_count": 15,
   "id": "6c1f5e81-d770-4f15-8cef-95aa0725b2d5",
   "metadata": {},
   "outputs": [
    {
     "name": "stdout",
     "output_type": "stream",
     "text": [
      "0\n",
      "1\n",
      "4\n",
      "9\n",
      "16\n",
      "25\n",
      "36\n",
      "49\n",
      "64\n",
      "81\n"
     ]
    }
   ],
   "source": [
    "for  t in thread2:\n",
    "    t.start()"
   ]
  },
  {
   "cell_type": "code",
   "execution_count": 19,
   "id": "13b0ec67-4669-4ec9-ad12-c61334009963",
   "metadata": {},
   "outputs": [
    {
     "name": "stdout",
     "output_type": "stream",
     "text": [
      "0\n",
      "1\n",
      "8\n",
      "27\n",
      "64\n",
      "125\n",
      "216\n",
      "343\n",
      "512\n",
      "729\n"
     ]
    }
   ],
   "source": [
    "for t in thread3:\n",
    "    t.start()"
   ]
  },
  {
   "cell_type": "code",
   "execution_count": null,
   "id": "7a5c8fab-381e-4a2f-858e-7983f7bf93b7",
   "metadata": {},
   "outputs": [],
   "source": [
    "# State advantages and disadvantages of multithreading\n",
    "\n",
    "#Solution\n",
    "\"\"\"\n",
    "Advantages\n",
    "Improved performance and concurrency\n",
    "For certain applications, performance and concurrency can be improved by using multithreading.\n",
    "In other applications, performance can be unaffected or even degraded by using multithreading.\n",
    "How performance is affected depends on your application.\n",
    "\n",
    "Simplified coding of remote procedure calls and conversations\n",
    "In some applications it is easier to code different remote procedure calls and conversations\n",
    "in separate threads than to manage them from the same thread.\n",
    "\n",
    "Simultaneous access to multiple applications\n",
    "Your BEA Tuxedo clients can be connected to more than one application at a time.\n",
    "\n",
    "Reduced number of required servers\n",
    "Because one server can dispatch multiple service threads, the number of servers to start for\n",
    "your application is reduced. This capability for multiple dispatched threads is especially\n",
    "useful for conversational servers, which otherwise must be dedicated to one client for the\n",
    "entire duration of a conversation.\n",
    "\n",
    "\n",
    "Disadvantages\n",
    "Difficulty of writing code\n",
    "Multithreaded applications are not easy to write. Only experienced programmers should undertake \n",
    "coding for these types of applications.\n",
    "\n",
    "Difficulty of debugging\n",
    "It is much harder to replicate an error in a multithreaded or multicontexted application than\n",
    "it is to do so in a single-threaded, single-contexted application. As a result, it is more difficult,\n",
    "in the former case, to identify and verify root causes when errors occur.\n",
    "\n",
    "Difficulty of managing concurrency\n",
    "The task of managing concurrency among threads is difficult and has the potential to introduce\n",
    "new problems into an application.\n",
    "\n",
    "Difficulty of testing\n",
    "Testing a multithreaded application is more difficult than testing a single-threaded application\n",
    "because defects are often timing-related and more difficult to reproduce.\n",
    "\n",
    "Difficulty of porting existing code\n",
    "Existing code often requires significant re-architecting to take advantage of multithreading and\n",
    "multicontexting. Programmers need to:\n",
    "Remove static variables\n",
    "Replace any function calls that are not thread-safe\n",
    "Replace any other code that is not thread-safe\n",
    "\"\"\""
   ]
  },
  {
   "cell_type": "code",
   "execution_count": null,
   "id": "504f1a31-81f6-43c7-899f-5441c7ac4532",
   "metadata": {},
   "outputs": [],
   "source": [
    "#Explain deadlocks and race conditions.\n",
    "\n",
    "#Solution\n",
    "\"\"\"\n",
    "A race condition occurs when two threads access a shared variable at the same time.\n",
    "The first thread reads the variable, and the second thread reads the same value from the\n",
    "variable. Then the first thread and second thread perform their operations on the value,\n",
    "and they race to see which thread can write the value last to the shared variable.\n",
    "The value of the thread that writes its value last is preserved, because the thread is\n",
    "writing over the value that the previous thread wrote.\n",
    "\"\"\"\n",
    "\n",
    "\"\"\"\n",
    "A deadlock occurs when two threads each lock a different variable at the same time and then \n",
    "try to lock the variable that the other thread already locked. As a result, each thread stops\n",
    "executing and waits for the other thread to release the variable. Because each thread is holding\n",
    "the variable that the other thread wants, nothing occurs, and the threads remain deadlocked.\n",
    "\"\"\""
   ]
  },
  {
   "cell_type": "code",
   "execution_count": null,
   "id": "02221b58-58ce-451d-a32c-7dc2121d07cf",
   "metadata": {},
   "outputs": [],
   "source": [
    "#Explain the following functions\n",
    "#run()\n",
    "#start()\n",
    "#join()\n",
    "#isAlive()\n",
    "\n",
    "#Solution\n",
    "\"\"\"\n",
    "run() − The run() method is the entry point for a thread.\n",
    "\n",
    "start() − The start() method starts a thread by calling the run method.\n",
    "\n",
    "join([time]) − The join() waits for threads to terminate.\n",
    "\n",
    "isAlive() − The isAlive() method checks whether a thread is still executing.\n",
    "\n",
    "\"\"\""
   ]
  }
 ],
 "metadata": {
  "kernelspec": {
   "display_name": "Python 3 (ipykernel)",
   "language": "python",
   "name": "python3"
  },
  "language_info": {
   "codemirror_mode": {
    "name": "ipython",
    "version": 3
   },
   "file_extension": ".py",
   "mimetype": "text/x-python",
   "name": "python",
   "nbconvert_exporter": "python",
   "pygments_lexer": "ipython3",
   "version": "3.10.8"
  }
 },
 "nbformat": 4,
 "nbformat_minor": 5
}
