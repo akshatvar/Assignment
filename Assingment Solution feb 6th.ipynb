{
 "cells": [
  {
   "cell_type": "code",
   "execution_count": 2,
   "id": "3ed840c9-3b68-4a90-8843-11b03d0d0489",
   "metadata": {},
   "outputs": [
    {
     "name": "stdout",
     "output_type": "stream",
     "text": [
      "List [1, 2, 3, 4, [44, 55, 66, True], False, (34, 56, 78, 89, 34), {1, 2, 3}, {1: 34, 'key2': [55, 67, 78, 89], 4: (45, 22, 61, 34)}, [56, 'data science'], 'Machine Learning']\n",
      "Flat list [1, 2, 3, 4, [44, 55, 66, True], False, (34, 56, 78, 89, 34), {1, 2, 3}, {1: 34, 'key2': [55, 67, 78, 89], 4: (45, 22, 61, 34)}, [56, 'data science'], 'Machine Learning']\n"
     ]
    }
   ],
   "source": [
    "#Create a function which will take a list as an argument and return the product of all the numbers \n",
    "#after creating a flat list\n",
    "\n",
    "def flat(list):\n",
    "    list1 = []\n",
    "    for i in list:\n",
    "        if type(i) is list:\n",
    "            for j in i:\n",
    "                list1.append(j)\n",
    "        else:\n",
    "            list1.append(i)\n",
    "    return list1\n",
    "\n",
    "list =  [1,2,3,4, [44,55,66, True], False, (34,56,78,89,34), {1,2,3,3,2,1}, {1:34, \"key2\": [55, 67, 78, 89], 4: (45, 22, 61, 34)}, [56, 'data science'], 'Machine Learning']\n",
    "\n",
    "print(\"List\",list)\n",
    "print(\"Flat list\",flat(list))"
   ]
  },
  {
   "cell_type": "code",
   "execution_count": 6,
   "id": "442b4d68-b1c8-449e-9e8c-5c9764fd79af",
   "metadata": {},
   "outputs": [
    {
     "name": "stdout",
     "output_type": "stream",
     "text": [
      "sentence:- I want to become a Data Scientist\n",
      "Encrypted Sentence:- I$wznt$to$yexome$z$Dztz$Sxientist\n"
     ]
    }
   ],
   "source": [
    "# Write a python program for encrypting a message sent to you by your friend. The logic of encryption \n",
    "# should be such that, for a the output should be z. For b, the output should be y. For c, the output should \n",
    "# be x respectively. Also, the whitespace should be replaced with a dollar sign. Keep the punctuation \n",
    "# marks unchanged.\n",
    "# Input Sentence: I want to become a Data Scientist.\n",
    "# Encrypt the above input sentence using the program you just created.\n",
    "\n",
    "#Solution\n",
    "\n",
    "def encryption(string):\n",
    "    string=string.replace('a','z')\n",
    "    string=string.replace('b','y')\n",
    "    string=string.replace('c','x')\n",
    "    string=string.replace(' ','$')\n",
    "    return string\n",
    "sentence = 'I want to become a Data Scientist'\n",
    "print('sentence:-',sentence)\n",
    "print('Encrypted Sentence:-',encryption(sentence))"
   ]
  },
  {
   "cell_type": "code",
   "execution_count": null,
   "id": "684de056-0c4c-430e-9f67-ae097522be25",
   "metadata": {},
   "outputs": [],
   "source": []
  }
 ],
 "metadata": {
  "kernelspec": {
   "display_name": "Python 3 (ipykernel)",
   "language": "python",
   "name": "python3"
  },
  "language_info": {
   "codemirror_mode": {
    "name": "ipython",
    "version": 3
   },
   "file_extension": ".py",
   "mimetype": "text/x-python",
   "name": "python",
   "nbconvert_exporter": "python",
   "pygments_lexer": "ipython3",
   "version": "3.10.8"
  }
 },
 "nbformat": 4,
 "nbformat_minor": 5
}
