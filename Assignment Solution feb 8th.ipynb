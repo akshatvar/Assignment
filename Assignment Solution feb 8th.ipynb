{
 "cells": [
  {
   "cell_type": "code",
   "execution_count": 4,
   "id": "20f35e47-2b3d-4faa-aa6f-11649f662d9e",
   "metadata": {},
   "outputs": [],
   "source": [
    "# What is Abstraction in OOps? Explain with an example\n",
    "\n",
    "#solution\n",
    "\"\"\"\n",
    "Abstraction:- It is an act of representing only the essential things without including background\n",
    "details. Like we are providing only method declaration in interface not method body.\"\"\"\n",
    "\n",
    "class car:\n",
    "    def __init__(self,name,year,average):\n",
    "        self.__name = name\n",
    "        self.__year = year\n",
    "        self.__average = average\n",
    "    def getmodelname(self):\n",
    "        return self.__name\n",
    "    def getlanchedyear(self):\n",
    "        return self.__year\n",
    "    def getverage(self):\n",
    "        return self.__average\n",
    "    \n",
    "maruti = car('Swift',2015,22)"
   ]
  },
  {
   "cell_type": "code",
   "execution_count": 6,
   "id": "bb385a0d-2355-44ac-80e0-adcc0474e0e1",
   "metadata": {},
   "outputs": [
    {
     "data": {
      "text/plain": [
       "'Swift'"
      ]
     },
     "execution_count": 6,
     "metadata": {},
     "output_type": "execute_result"
    }
   ],
   "source": [
    "maruti.getmodelname()"
   ]
  },
  {
   "cell_type": "code",
   "execution_count": 8,
   "id": "ef2dc567-5a93-4224-afb8-54b15f21b11d",
   "metadata": {},
   "outputs": [
    {
     "data": {
      "text/plain": [
       "22"
      ]
     },
     "execution_count": 8,
     "metadata": {},
     "output_type": "execute_result"
    }
   ],
   "source": [
    "maruti.getverage()"
   ]
  },
  {
   "cell_type": "code",
   "execution_count": 9,
   "id": "6da1deb6-65c1-4ada-a9a0-0352b2d54ee8",
   "metadata": {},
   "outputs": [
    {
     "data": {
      "text/plain": [
       "2015"
      ]
     },
     "execution_count": 9,
     "metadata": {},
     "output_type": "execute_result"
    }
   ],
   "source": [
    "maruti.getlanchedyear()"
   ]
  },
  {
   "cell_type": "code",
   "execution_count": 10,
   "id": "d18dda44-4322-496a-b633-c696c4906dac",
   "metadata": {},
   "outputs": [
    {
     "data": {
      "text/plain": [
       "'Baleno'"
      ]
     },
     "execution_count": 10,
     "metadata": {},
     "output_type": "execute_result"
    }
   ],
   "source": [
    "#Differentiate between Abstraction and Encapsulation. Explain with an example\n",
    "\n",
    "#Solution\n",
    "\"\"\"\n",
    "Encapsulation has two faces; data abstraction and information hiding. Data abstraction is a type\n",
    "seen from the outside. Information hiding is a type seen from the inside.\n",
    "Encapsulation (information hiding ) prevents clients from seeing its inside view, where the\n",
    "behavior of the abstraction is implemented\n",
    "Simply, Abstraction means Giving only essential things and hiding unnecessary details.\n",
    "Encapsulation means binding the data members and methods together in a capsule form to\n",
    "avoid accidental changes to data from external users.\"\"\"\n",
    "\n",
    "class car:\n",
    "    def __init__(self,name,year,average):\n",
    "        self.__name = name\n",
    "        self.__year = year\n",
    "        self.__average = average\n",
    "    def getmodelname(self):\n",
    "        return self.__name\n",
    "    def getlanchedyear(self):\n",
    "        return self.__year\n",
    "    def getverage(self):\n",
    "        return self.__average\n",
    "    \n",
    "maruti = car('Baleno',2017,21)\n",
    "\n",
    "\"\"\"\n",
    "In, the above example user can't change the value of name, average ,year of the car\n",
    "because these value should be hidden from the user.\"\"\"\n",
    "\n",
    "maruti.getmodelname()"
   ]
  },
  {
   "cell_type": "code",
   "execution_count": 12,
   "id": "d7f86ec0-8d9f-4e78-96db-cb46b50a6791",
   "metadata": {},
   "outputs": [
    {
     "name": "stdout",
     "output_type": "stream",
     "text": [
      "Area of square 25\n",
      "Perimeter of square 20\n"
     ]
    }
   ],
   "source": [
    "# What is abc module in python? Why is it used?\n",
    "\n",
    "#Solution\n",
    "\"\"\"\n",
    "An abstract base class is a class from which we want to create subclasses,\n",
    "but the base class is not something we can instantiate (create). \n",
    "\n",
    "Let's take an example of abstract class\n",
    "\n",
    "Shape is a abstract class and square is a subclass since all the abstractmethod of base class is\n",
    "present in the subclass.\"\"\"\n",
    "\n",
    "from abc import ABC, abstractmethod\n",
    "\n",
    "class Shape(ABC):\n",
    "    \"\"\"Shape is a Base class\"\"\"\n",
    "    @abstractmethod\n",
    "    def area(self): pass\n",
    "    @abstractmethod\n",
    "    def perimeter(self): pass\n",
    "class square(Shape):\n",
    "    def __init__(self,side):\n",
    "        self.__side = side\n",
    "    def area(self):\n",
    "        return self.__side*self.__side\n",
    "    def perimeter(self):\n",
    "        return self.__side*4\n",
    "sq = square(5)\n",
    "print(\"Area of square\",sq.area())\n",
    "print(\"Perimeter of square\",sq.perimeter())"
   ]
  },
  {
   "cell_type": "code",
   "execution_count": 13,
   "id": "ab6027dc-fcf3-423f-a5a1-140569ca5ed4",
   "metadata": {},
   "outputs": [
    {
     "data": {
      "text/plain": [
       "\"In Python, abstraction can be achieved by having/using abstract classes and methods in our programs.\\nlet's take an example\""
      ]
     },
     "execution_count": 13,
     "metadata": {},
     "output_type": "execute_result"
    }
   ],
   "source": [
    "# How can we achieve data abstraction\n",
    "\n",
    "#Solution\n",
    "\"\"\"In Python, abstraction can be achieved by having/using abstract classes and methods in our programs.\n",
    "let's take an example\"\"\""
   ]
  },
  {
   "cell_type": "code",
   "execution_count": null,
   "id": "d73d842c-74d8-44e3-aea3-de312ac5b2f0",
   "metadata": {},
   "outputs": [],
   "source": [
    "#. Can we create an instance of an abstract class? Explain your answer\n",
    "\n",
    "#Solution\n",
    "\"\"\"\n",
    "Abstract classes cannot be instantiated, but they can be subclassed. When an abstract class is\n",
    "subclassed, the subclass usually provides implementations for all of the abstract methods in its\n",
    "parent class. However, if it does not, then the subclass must also be declared abstract.\"\"\""
   ]
  }
 ],
 "metadata": {
  "kernelspec": {
   "display_name": "Python 3 (ipykernel)",
   "language": "python",
   "name": "python3"
  },
  "language_info": {
   "codemirror_mode": {
    "name": "ipython",
    "version": 3
   },
   "file_extension": ".py",
   "mimetype": "text/x-python",
   "name": "python",
   "nbconvert_exporter": "python",
   "pygments_lexer": "ipython3",
   "version": "3.10.8"
  }
 },
 "nbformat": 4,
 "nbformat_minor": 5
}
