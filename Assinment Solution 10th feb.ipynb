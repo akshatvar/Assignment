{
 "cells": [
  {
   "cell_type": "code",
   "execution_count": 1,
   "id": "7beb920b-3ee6-483a-85a4-df8961c5fad3",
   "metadata": {},
   "outputs": [],
   "source": [
    "# Which function is used to open a file? What are the different modes of opening a file? Explain each mode \n",
    "#of file opening.\n",
    "\n",
    "#Solution\n",
    "\"\"\"\n",
    "open() function is used to open a file the different mode of opening a file are given below\n",
    "r\tOpen a file for reading. (default)\n",
    "w\tOpen a file for writing. Creates a new file if it does not exist or truncates the file if it exists.\n",
    "x\tOpen a file for exclusive creation. If the file already exists, the operation fails.\n",
    "a\tOpen a file for appending at the end of the file without truncating it. Creates a new file if it does not exist.\n",
    "t\tOpen in text mode. (default)\n",
    "b\tOpen in binary mode.\n",
    "+\tOpen a file for updating (reading and writing)\n",
    "\"\"\"\n",
    "#create a file and open in 'w' mode\n",
    "file = open(\"test.txt\",'w')\n",
    "file.write(\"Hey!, there how are you\")\n",
    "file.close()"
   ]
  },
  {
   "cell_type": "code",
   "execution_count": 2,
   "id": "dea8ab43-3253-450b-94a1-4d8076f255c9",
   "metadata": {},
   "outputs": [],
   "source": [
    "file = open(\"test.txt\",'r')"
   ]
  },
  {
   "cell_type": "code",
   "execution_count": 3,
   "id": "74083fff-777d-42af-b5f7-92367000f983",
   "metadata": {},
   "outputs": [
    {
     "data": {
      "text/plain": [
       "'Hey!, there how are you'"
      ]
     },
     "execution_count": 3,
     "metadata": {},
     "output_type": "execute_result"
    }
   ],
   "source": [
    "#read the file\n",
    "file.read()"
   ]
  },
  {
   "cell_type": "code",
   "execution_count": 4,
   "id": "b4029741-65d5-4d25-b2bb-1d9a20e11eef",
   "metadata": {},
   "outputs": [],
   "source": [
    "#open a file in 'a' mode\n",
    "file = open(\"test.txt\",'a')"
   ]
  },
  {
   "cell_type": "code",
   "execution_count": 5,
   "id": "013625eb-2e95-4c66-9a7e-886aeef30a9e",
   "metadata": {},
   "outputs": [
    {
     "data": {
      "text/plain": [
       "27"
      ]
     },
     "execution_count": 5,
     "metadata": {},
     "output_type": "execute_result"
    }
   ],
   "source": [
    "file.write(\", I hope you are doing good\")"
   ]
  },
  {
   "cell_type": "code",
   "execution_count": 6,
   "id": "86b9fc04-71b0-49af-93c7-82055e87b43b",
   "metadata": {},
   "outputs": [],
   "source": [
    "file.close()"
   ]
  },
  {
   "cell_type": "code",
   "execution_count": 7,
   "id": "dd0bd11e-b7bc-4b0c-bd21-5eb4b12d3576",
   "metadata": {},
   "outputs": [
    {
     "data": {
      "text/plain": [
       "'Hey!, there how are you, I hope you are doing good'"
      ]
     },
     "execution_count": 7,
     "metadata": {},
     "output_type": "execute_result"
    }
   ],
   "source": [
    "file = open(\"test.txt\",'r')\n",
    "file.read()"
   ]
  },
  {
   "cell_type": "code",
   "execution_count": 9,
   "id": "f3d9a1db-6188-47f5-806f-790fca583c6a",
   "metadata": {},
   "outputs": [],
   "source": [
    "#create a file with 'x' mode\n",
    "file1 = open(\"test1.txt\",'x')"
   ]
  },
  {
   "cell_type": "code",
   "execution_count": 10,
   "id": "50355187-d066-47f3-bd69-41f12f0574ef",
   "metadata": {},
   "outputs": [
    {
     "data": {
      "text/plain": [
       "22"
      ]
     },
     "execution_count": 10,
     "metadata": {},
     "output_type": "execute_result"
    }
   ],
   "source": [
    "file1.write(\"This is my second file\")"
   ]
  },
  {
   "cell_type": "code",
   "execution_count": 11,
   "id": "15014624-78e0-4e74-8e78-a8f15888645b",
   "metadata": {},
   "outputs": [
    {
     "data": {
      "text/plain": [
       "16"
      ]
     },
     "execution_count": 11,
     "metadata": {},
     "output_type": "execute_result"
    }
   ],
   "source": [
    "file1.write(\" and how is that\")"
   ]
  },
  {
   "cell_type": "code",
   "execution_count": 12,
   "id": "070c43ec-deea-4107-b851-6f8bd014dcea",
   "metadata": {},
   "outputs": [],
   "source": [
    "file1.close()"
   ]
  },
  {
   "cell_type": "code",
   "execution_count": 13,
   "id": "b701d849-2fa5-4db5-8f89-8bb3a076b975",
   "metadata": {},
   "outputs": [],
   "source": [
    "#create a csv file\n",
    "import csv"
   ]
  },
  {
   "cell_type": "code",
   "execution_count": 23,
   "id": "04ebfec8-1154-4402-bcef-a805731793a9",
   "metadata": {},
   "outputs": [],
   "source": [
    "data = [[\"Emp_ID\",\"Name\",\"rating_out_of_5\"],\n",
    "        [\"02012001\",\"Boto Dada\",\"4.3\"],\n",
    "        [\"02012002\",\"Don Boss\",\"4.5\"],\n",
    "        [\"02012003\",\"Dr. Deng\",\"4.1\"],\n",
    "        [\"02012004\",\"Queen Bai\",\"4.8\"],\n",
    "        [\"02012005\",\"Joker Boss\",\"3.9\"],\n",
    "        [\"02012006\",\"Mark Bhau\",\"4.1\"],]"
   ]
  },
  {
   "cell_type": "code",
   "execution_count": 24,
   "id": "2c31bd5a-d653-423f-815b-07ce32079bd3",
   "metadata": {},
   "outputs": [],
   "source": [
    "with open('data.csv','w') as f:   \n",
    "    writer = csv.writer(f)\n",
    "    for row in data:\n",
    "            writer.writerow(row)"
   ]
  },
  {
   "cell_type": "code",
   "execution_count": 25,
   "id": "f264e85a-d024-4283-8b54-0e3ab6c190fe",
   "metadata": {},
   "outputs": [
    {
     "name": "stdout",
     "output_type": "stream",
     "text": [
      "['Emp_ID', 'Name', 'rating_out_of_5']\n",
      "['02012001', 'Boto Dada', '4.3']\n",
      "['02012002', 'Don Boss', '4.5']\n",
      "['02012003', 'Dr. Deng', '4.1']\n",
      "['02012004', 'Queen Bai', '4.8']\n",
      "['02012005', 'Joker Boss', '3.9']\n",
      "['02012006', 'Mark Bhau', '4.1']\n"
     ]
    }
   ],
   "source": [
    "with open('data.csv','r') as f:\n",
    "    reader = csv.reader(f)\n",
    "    for row in reader:\n",
    "        print(row)"
   ]
  },
  {
   "cell_type": "code",
   "execution_count": 1,
   "id": "1ca4d92b-045e-424c-b7f7-75508add3ec6",
   "metadata": {},
   "outputs": [],
   "source": [
    "#create a binary file\n",
    "\n",
    "with open(\"testbin.bin\",'w+b') as f:\n",
    "    f.write(b\"\\x01\\x02\\x03\")"
   ]
  },
  {
   "cell_type": "code",
   "execution_count": 2,
   "id": "52c53107-7854-43e8-9694-3a1365f21939",
   "metadata": {},
   "outputs": [
    {
     "name": "stdout",
     "output_type": "stream",
     "text": [
      "b'\\x01\\x02\\x03'\n"
     ]
    }
   ],
   "source": [
    "with open(\"testbin.bin\",'r+b') as f:\n",
    "    print(f.read())"
   ]
  },
  {
   "cell_type": "code",
   "execution_count": null,
   "id": "1c8e898b-fc45-4071-8a0a-9aa98f127ca3",
   "metadata": {},
   "outputs": [],
   "source": [
    "# Why close() function is used? Why is it important to close a file?\n",
    "\n",
    "#solution\n",
    "\"\"\"\n",
    "It ensures that any pending writes that might be in a cache are completed and committed to\n",
    "the file, and also frees up memory that the operating system has been using to keep track\n",
    "of file information so that it can read and write to it efficiently, ensure that other programs\n",
    "don’t try to write to it at the same time\n",
    "\"\"\""
   ]
  },
  {
   "cell_type": "code",
   "execution_count": 4,
   "id": "b4aac995-9abe-485c-9f30-76bcc99e3817",
   "metadata": {},
   "outputs": [],
   "source": [
    "# Write a python program to create a text file. Write ‘I want to become a Data Scientist’ in that file. Then \n",
    "#close the file. Open this file and read the content of the file.\n",
    "\n",
    "#solution\n",
    "testfile = open(\"test3.txt\",'w')"
   ]
  },
  {
   "cell_type": "code",
   "execution_count": 5,
   "id": "131495f9-3690-49a9-ae62-5fb68e020ce3",
   "metadata": {},
   "outputs": [
    {
     "data": {
      "text/plain": [
       "33"
      ]
     },
     "execution_count": 5,
     "metadata": {},
     "output_type": "execute_result"
    }
   ],
   "source": [
    "testfile.write(\"I want to become a Data Scientist\")"
   ]
  },
  {
   "cell_type": "code",
   "execution_count": 6,
   "id": "6c96702f-7904-4575-98a2-e3c2ed405427",
   "metadata": {},
   "outputs": [],
   "source": [
    "testfile.close()"
   ]
  },
  {
   "cell_type": "code",
   "execution_count": 7,
   "id": "d71a6cf6-f728-47a2-9292-5440fef96ef9",
   "metadata": {},
   "outputs": [],
   "source": [
    "testfile = open(\"test3.txt\",'r')"
   ]
  },
  {
   "cell_type": "code",
   "execution_count": 8,
   "id": "caa35999-6137-4ae3-b440-2e30b0bf7b98",
   "metadata": {},
   "outputs": [
    {
     "data": {
      "text/plain": [
       "'I want to become a Data Scientist'"
      ]
     },
     "execution_count": 8,
     "metadata": {},
     "output_type": "execute_result"
    }
   ],
   "source": [
    "testfile.read()"
   ]
  },
  {
   "cell_type": "code",
   "execution_count": 1,
   "id": "231443e1-d176-4c1e-9981-5cd79bffde9a",
   "metadata": {},
   "outputs": [],
   "source": [
    "# Explain the following with python code: read(), readline() and readlines()\n",
    "\n",
    "#solution\n",
    "\"\"\"\n",
    "read()\n",
    "Python file method read() reads at most size bytes from the file.\n",
    "If the read hits EOF before obtaining size bytes, then it reads only available bytes.\n",
    "\n",
    "readlines()\n",
    "This method will read the entire content of the file at a time.\n",
    "This method reads all the file content and stores it in the list.\n",
    "This method reads up to the end of the line with readline () and returns a list.\n",
    "\n",
    "readline()\n",
    "This method will read one line in a file.\n",
    "A new line character is left at the string end and is ignored for the last line provided the file does not finish in a new line.\n",
    "This method reads up to the end of the line with readline() and returns a list.\n",
    "\"\"\"\n",
    "\n",
    "testRead = open(\"test4.txt\",'w')"
   ]
  },
  {
   "cell_type": "code",
   "execution_count": 2,
   "id": "66d20df9-339f-438e-b045-c580d082a61d",
   "metadata": {},
   "outputs": [
    {
     "data": {
      "text/plain": [
       "2229"
      ]
     },
     "execution_count": 2,
     "metadata": {},
     "output_type": "execute_result"
    }
   ],
   "source": [
    "testRead.write(\"Set in Kasukabe, Saitama Prefecture, Japan,\\n the series follows the adventures of the five-year-old Shinnosuke 'Shin' Nohara and his parents, baby sister, dog, neighbours, and best friends. Most of the plot is about Shin-chan's daily life, but it is also often interspersed with a lot of fantastic and incredible elements.Many of the jokes in the series stem from Shin-chans occasionally weird, unnatural and inappropriate use of language, as well as from his mischievous behaviour. Consequently, non-Japanese readers and \\nsome viewers may find it difficult to understand his jokes. Some gags may require an understanding of Japanese culture and/or language to be fully appreciated; for example, his Mr. Elephant impression, while being\\n transparently obvious as a physical gag, also has a deeper resonance with contemporary Japanese culture since it refers to the popular Japanese childrens song Zou-san (ぞうさん). But after modest translation, it is popular in the rest of Asia due to cultural compatibility. It also contains many sarcastic jokes and stereotype humor.The series is mainly in comedy style with a lot of sexual innuendo. However due to its popularity, its also stylistically as family-friendly as possible, although it may not apply to anywhere. Most of episodes are about the importance of family and friends. On rare occasions, it also has some darker episodes like Miss Matsuzakas boyfriend passing away in the manga, due to this circumstance it was not adapted into an anime episode.It also includes several horror adaption for example 'The Line of no End', 'The Horrible Elevator', 'The Kindergarten Stairs', etc.Shin-chan regularly becomes besotted with pretty female characters who are much older than him, and an additional source of humor is derived from his childlike attempts at wooing these characters, such as by asking them (inappropriately, on several levels) Do you like green peppers? (ピーマン好き?) (because he hates green peppers so much). He continually displays a lack of tact when talking to adults, asking questions such as How many times did you go to the police? to tough-looking men or How old are you? to elderly people. He is often shown with bare buttocks to emphasize the nonsensical jokes.\")"
   ]
  },
  {
   "cell_type": "code",
   "execution_count": 3,
   "id": "53afb9d7-786f-483c-b812-570f668c444a",
   "metadata": {},
   "outputs": [],
   "source": [
    "testRead.close()"
   ]
  },
  {
   "cell_type": "code",
   "execution_count": 4,
   "id": "d13926f7-298d-44ed-b63a-0201e563464a",
   "metadata": {},
   "outputs": [],
   "source": [
    "testRead = open(\"test4.txt\",'r')"
   ]
  },
  {
   "cell_type": "code",
   "execution_count": 5,
   "id": "2ecab98c-bd23-4f45-9b85-8456a2458e17",
   "metadata": {},
   "outputs": [
    {
     "data": {
      "text/plain": [
       "\"Set in Kasukabe, Saitama Prefecture, Japan,\\n the series follows the adventures of the five-year-old Shinnosuke 'Shin' Nohara and his parents, baby sister, dog, neighbours, and best friends. Most of the plot is about Shin-chan's daily life, but it is also often interspersed with a lot of fantastic and incredible elements.Many of the jokes in the series stem from Shin-chans occasionally weird, unnatural and inappropriate use of language, as well as from his mischievous behaviour. Consequently, non-Japanese readers and \\nsome viewers may find it difficult to understand his jokes. Some gags may require an understanding of Japanese culture and/or language to be fully appreciated; for example, his Mr. Elephant impression, while being\\n transparently obvious as a physical gag, also has a deeper resonance with contemporary Japanese culture since it refers to the popular Japanese childrens song Zou-san (ぞうさん). But after modest translation, it is popular in the rest of Asia due to cultural compatibility. It also contains many sarcastic jokes and stereotype humor.The series is mainly in comedy style with a lot of sexual innuendo. However due to its popularity, its also stylistically as family-friendly as possible, although it may not apply to anywhere. Most of episodes are about the importance of family and friends. On rare occasions, it also has some darker episodes like Miss Matsuzakas boyfriend passing away in the manga, due to this circumstance it was not adapted into an anime episode.It also includes several horror adaption for example 'The Line of no End', 'The Horrible Elevator', 'The Kindergarten Stairs', etc.Shin-chan regularly becomes besotted with pretty female characters who are much older than him, and an additional source of humor is derived from his childlike attempts at wooing these characters, such as by asking them (inappropriately, on several levels) Do you like green peppers? (ピーマン好き?) (because he hates green peppers so much). He continually displays a lack of tact when talking to adults, asking questions such as How many times did you go to the police? to tough-looking men or How old are you? to elderly people. He is often shown with bare buttocks to emphasize the nonsensical jokes.\""
      ]
     },
     "execution_count": 5,
     "metadata": {},
     "output_type": "execute_result"
    }
   ],
   "source": [
    "testRead.read()"
   ]
  },
  {
   "cell_type": "code",
   "execution_count": 6,
   "id": "825c8287-8584-4281-9c83-17417b8cfc5e",
   "metadata": {},
   "outputs": [
    {
     "data": {
      "text/plain": [
       "0"
      ]
     },
     "execution_count": 6,
     "metadata": {},
     "output_type": "execute_result"
    }
   ],
   "source": [
    "testRead.seek(0)"
   ]
  },
  {
   "cell_type": "code",
   "execution_count": 7,
   "id": "df38a49c-8a98-4a56-9fee-5beb281f82b5",
   "metadata": {},
   "outputs": [
    {
     "data": {
      "text/plain": [
       "'Set in Kasukabe, Saitama Prefecture, Japan,\\n'"
      ]
     },
     "execution_count": 7,
     "metadata": {},
     "output_type": "execute_result"
    }
   ],
   "source": [
    "testRead.readline()"
   ]
  },
  {
   "cell_type": "code",
   "execution_count": 8,
   "id": "bd45081b-c795-439f-bc2a-42075e17cc7b",
   "metadata": {},
   "outputs": [
    {
     "data": {
      "text/plain": [
       "0"
      ]
     },
     "execution_count": 8,
     "metadata": {},
     "output_type": "execute_result"
    }
   ],
   "source": [
    "testRead.seek(0)"
   ]
  },
  {
   "cell_type": "code",
   "execution_count": 9,
   "id": "235bcbff-38b4-4a55-8645-305e605f8539",
   "metadata": {},
   "outputs": [
    {
     "data": {
      "text/plain": [
       "['Set in Kasukabe, Saitama Prefecture, Japan,\\n',\n",
       " \" the series follows the adventures of the five-year-old Shinnosuke 'Shin' Nohara and his parents, baby sister, dog, neighbours, and best friends. Most of the plot is about Shin-chan's daily life, but it is also often interspersed with a lot of fantastic and incredible elements.Many of the jokes in the series stem from Shin-chans occasionally weird, unnatural and inappropriate use of language, as well as from his mischievous behaviour. Consequently, non-Japanese readers and \\n\",\n",
       " 'some viewers may find it difficult to understand his jokes. Some gags may require an understanding of Japanese culture and/or language to be fully appreciated; for example, his Mr. Elephant impression, while being\\n',\n",
       " \" transparently obvious as a physical gag, also has a deeper resonance with contemporary Japanese culture since it refers to the popular Japanese childrens song Zou-san (ぞうさん). But after modest translation, it is popular in the rest of Asia due to cultural compatibility. It also contains many sarcastic jokes and stereotype humor.The series is mainly in comedy style with a lot of sexual innuendo. However due to its popularity, its also stylistically as family-friendly as possible, although it may not apply to anywhere. Most of episodes are about the importance of family and friends. On rare occasions, it also has some darker episodes like Miss Matsuzakas boyfriend passing away in the manga, due to this circumstance it was not adapted into an anime episode.It also includes several horror adaption for example 'The Line of no End', 'The Horrible Elevator', 'The Kindergarten Stairs', etc.Shin-chan regularly becomes besotted with pretty female characters who are much older than him, and an additional source of humor is derived from his childlike attempts at wooing these characters, such as by asking them (inappropriately, on several levels) Do you like green peppers? (ピーマン好き?) (because he hates green peppers so much). He continually displays a lack of tact when talking to adults, asking questions such as How many times did you go to the police? to tough-looking men or How old are you? to elderly people. He is often shown with bare buttocks to emphasize the nonsensical jokes.\"]"
      ]
     },
     "execution_count": 9,
     "metadata": {},
     "output_type": "execute_result"
    }
   ],
   "source": [
    "testRead.readlines()"
   ]
  },
  {
   "cell_type": "code",
   "execution_count": 13,
   "id": "4fff38b9-9005-4552-9910-cc131f22679d",
   "metadata": {},
   "outputs": [
    {
     "data": {
      "text/plain": [
       "'\\nIn Python, the with statement is used in combination with the open() function to ensure proper\\nhandling of file resources. When you open a file using the open() function, you must also close\\nthe file when you are finished with it to avoid resource leaks and ensure that all data is written to the file.\\n\\nThe with statement simplifies this process by automatically handling the opening and closing\\nof the file for you. When you use the with statement, the file is automatically closed when the block\\nof code inside the with statement is exited, even if an exception is raised. This is known as a context manager\\n\\n'"
      ]
     },
     "execution_count": 13,
     "metadata": {},
     "output_type": "execute_result"
    }
   ],
   "source": [
    "#Explain why with statement is used with open(). What is the advantage of using with statement and \n",
    "#open() together?\n",
    "\n",
    "#solution\n",
    "\"\"\"\n",
    "In Python, the with statement is used in combination with the open() function to ensure proper\n",
    "handling of file resources. When you open a file using the open() function, you must also close\n",
    "the file when you are finished with it to avoid resource leaks and ensure that all data is written to the file.\n",
    "\n",
    "The with statement simplifies this process by automatically handling the opening and closing\n",
    "of the file for you. When you use the with statement, the file is automatically closed when the block\n",
    "of code inside the with statement is exited, even if an exception is raised. This is known as a context manager\n",
    "\n",
    "\"\"\""
   ]
  },
  {
   "cell_type": "code",
   "execution_count": 14,
   "id": "8350d751-0556-478b-81f9-93e70cd8b01f",
   "metadata": {},
   "outputs": [],
   "source": [
    "#Explain the write() and writelines() functions. Give a suitable example\n",
    "\n",
    "#Solution\n",
    "\"\"\"\n",
    "The write() function is used to write a single string to a file. It returns the number of\n",
    "characters written. If the file doesn't exist, it will be created. If it exists, the data\n",
    "will be overwritten.\n",
    "\"\"\"\n",
    "with open('example.txt', 'w') as sy:\n",
    "    sy.write('Hello, World!\\n')\n",
    "    sy.write('How are you?\\n')\n"
   ]
  },
  {
   "cell_type": "code",
   "execution_count": 15,
   "id": "9a37da56-54ce-49d2-b418-ab7c5e46fba6",
   "metadata": {},
   "outputs": [],
   "source": [
    "\"\"\"\n",
    "The writelines() function is used to write a list of strings to a file.\n",
    "Each string in the list is written to the file as a separate line. Here's an example:\n",
    "\"\"\"\n",
    "lines = ['apple\\n', 'banana\\n', 'cherry\\n']\n",
    "\n",
    "with open('example.txt', 'w') as file:\n",
    "    file.writelines(lines)\n"
   ]
  },
  {
   "cell_type": "code",
   "execution_count": null,
   "id": "cc1ac1de-1903-416e-afa6-2ce8d26bfad6",
   "metadata": {},
   "outputs": [],
   "source": []
  }
 ],
 "metadata": {
  "kernelspec": {
   "display_name": "Python 3 (ipykernel)",
   "language": "python",
   "name": "python3"
  },
  "language_info": {
   "codemirror_mode": {
    "name": "ipython",
    "version": 3
   },
   "file_extension": ".py",
   "mimetype": "text/x-python",
   "name": "python",
   "nbconvert_exporter": "python",
   "pygments_lexer": "ipython3",
   "version": "3.10.8"
  }
 },
 "nbformat": 4,
 "nbformat_minor": 5
}
