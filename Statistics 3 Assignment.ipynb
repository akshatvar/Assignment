{
 "cells": [
  {
   "cell_type": "code",
   "execution_count": null,
   "id": "0a42e485-fd83-424f-9d4e-7beb62aec1f3",
   "metadata": {},
   "outputs": [],
   "source": [
    "#Q1. What is the Probability density function?\n",
    "\n",
    "#Solution\n",
    "\"\"\"\n",
    "A Probability Density Function (PDF) is a concept from probability and statistics that is used to describe\n",
    "the likelihood of a continuous random variable taking on a particular value within a certain interval. In\n",
    "simpler terms, it provides a way to represent the distribution of probabilities over a continuous range of values.\n",
    "\"\"\""
   ]
  },
  {
   "cell_type": "code",
   "execution_count": null,
   "id": "5eefe6bb-d446-4c26-bdcf-155b729773f5",
   "metadata": {},
   "outputs": [],
   "source": [
    "#Q2. What are the types of Probability distribution?\n",
    "\n",
    "#Solution\n",
    "\"\"\"\n",
    "Normal/Gaussian Distribution\n",
    "Bernoulli Distribution\n",
    "Uniform Distribution\n",
    "Poission Distriution\n",
    "Log Normal Distribution\n",
    "Binomial Distribution\n",
    "\"\"\""
   ]
  },
  {
   "cell_type": "code",
   "execution_count": 1,
   "id": "a456934f-e440-485d-b739-7ae7be5dcf2d",
   "metadata": {},
   "outputs": [],
   "source": [
    "import math"
   ]
  },
  {
   "cell_type": "code",
   "execution_count": 2,
   "id": "5f9ff92b-b56d-4046-95a3-15f032317f64",
   "metadata": {},
   "outputs": [
    {
     "name": "stdout",
     "output_type": "stream",
     "text": [
      "0.12951759566589174\n"
     ]
    }
   ],
   "source": [
    "# #Q3. Write a Python function to calculate the probability density function of a normal distribution with \n",
    "# given mean and standard deviation at a given point.\n",
    "\n",
    "# Solution\n",
    "def probabilityDensityFunction(x,mu,sigma):\n",
    "    coeff1 = 1/(sigma*math.sqrt(2*math.pi))\n",
    "    coeff2 = math.exp((-1/2)*((x-mu)/sigma)**2)\n",
    "    pdf = coeff1*coeff2\n",
    "    return pdf\n",
    "\n",
    "print(probabilityDensityFunction(1.5,0,1))"
   ]
  },
  {
   "cell_type": "code",
   "execution_count": null,
   "id": "06d65833-cc4c-47ce-bdb2-5fd3171cf906",
   "metadata": {},
   "outputs": [],
   "source": [
    "# Q4. What are the properties of Binomial distribution? Give two examples of events where binomial \n",
    "# distribution can be applied.\n",
    "\n",
    "#Solution\n",
    "\"\"\"\n",
    "The Binomial distribution is a discrete probability distribution that models the number of successes in a fixed number\n",
    "of independent Bernoulli trials, where each trial has only two possible outcomes: success (usually denoted as 1) or\n",
    "failure (usually denoted as 0)\n",
    "example \n",
    "Rolling a dice\n",
    "tossing a coin\n",
    "Covid 19 test\n",
    "\"\"\""
   ]
  },
  {
   "cell_type": "code",
   "execution_count": 3,
   "id": "6887aa15-3952-42c5-bb66-a4f0c710efe2",
   "metadata": {},
   "outputs": [],
   "source": [
    "import numpy as np\n",
    "import matplotlib.pyplot as plt"
   ]
  },
  {
   "cell_type": "code",
   "execution_count": 4,
   "id": "ff5c3a74-8b7a-4990-88b4-f7114d6b7cb1",
   "metadata": {},
   "outputs": [
    {
     "data": {
      "image/png": "[encoded data removed]",
      "text/plain": [
       "<Figure size 640x480 with 1 Axes>"
      ]
     },
     "metadata": {},
     "output_type": "display_data"
    }
   ],
   "source": [
    "#Q5. Generate a random sample of size 1000 from a binomial distribution with probability of success 0.4 \n",
    "#and plot a histogram of the results using matplotlib.\n",
    "\n",
    "#Solution\n",
    "number_of_trial = 10\n",
    "probability_of_sucess = 0.4\n",
    "sample_size = 1000\n",
    "\n",
    "random_sample = np.random.binomial(number_of_trial,probability_of_sucess,sample_size)\n",
    "\n",
    "plt.hist(random_sample, bins=20, density=True, color='blue', alpha=0.7)\n",
    "plt.grid(True)\n",
    "plt.show()"
   ]
  },
  {
   "cell_type": "code",
   "execution_count": 5,
   "id": "64b4c216-f122-40e2-9733-63a86c1ae538",
   "metadata": {},
   "outputs": [
    {
     "name": "stdout",
     "output_type": "stream",
     "text": [
      "0.8576135530957782\n"
     ]
    }
   ],
   "source": [
    "# Q6. Write a Python function to calculate the cumulative distribution function of a Poisson distribution \n",
    "# with given mean at a given point.\n",
    "\n",
    "# Solution\n",
    "def cdf_poission(k,mu):\n",
    "    cdf = 0\n",
    "    for i in range(k+1):\n",
    "        cdf = cdf+(math.exp(-mu)*mu**i)/math.factorial(i)\n",
    "    return cdf\n",
    "\n",
    "print(cdf_poission(5,3.5))"
   ]
  },
  {
   "cell_type": "code",
   "execution_count": null,
   "id": "54ca7486-5867-40dc-8fdf-ecd77f628993",
   "metadata": {},
   "outputs": [],
   "source": [
    "#Q7. How Binomial distribution different from Poisson distribution?\n",
    "\n",
    "#Solution\n",
    "\"\"\"\n",
    "The Binomial distribution is used for a fixed number of trials with two outcomes (success or failure),\n",
    "while the Poisson distribution is used for counting events occurring in a fixed interval.\n",
    "The Binomial distribution requires specifying both the number of trials 'n' and the probability of success 'p',\n",
    "whereas the Poisson distribution requires specifying only the average rate 'λ'.\n",
    "The Poisson distribution is often used in situations where the average rate of occurrences is relatively low,\n",
    "while the Binomial distribution is more appropriate when the number of trials is moderate and the probability of\n",
    "success is not extremely high or low.\n",
    "\"\"\""
   ]
  },
  {
   "cell_type": "code",
   "execution_count": 7,
   "id": "c0b3c036-dc5c-4b12-824c-e088c10ce1a2",
   "metadata": {},
   "outputs": [
    {
     "name": "stdout",
     "output_type": "stream",
     "text": [
      "mean 5.022\n",
      "varince 5.429516\n"
     ]
    }
   ],
   "source": [
    "# Q8. Generate a random sample of size 1000 from a Poisson distribution with mean 5 and calculate the \n",
    "# sample mean and variance\n",
    "\n",
    "# Solution\n",
    "mean = 5\n",
    "poission_size = 1000\n",
    "poission_sample = np.random.poisson(mean,poission_size)\n",
    "poission_mean = np.mean(poission_sample)\n",
    "poission_var = np.var(poission_sample)\n",
    "print(\"mean\",poission_mean)\n",
    "print(\"varince\",poission_var)"
   ]
  },
  {
   "cell_type": "code",
   "execution_count": null,
   "id": "3ec56298-fcb3-41a4-939a-d92f44389eba",
   "metadata": {},
   "outputs": [],
   "source": [
    "#Q9. How mean and variance are related in Binomial distribution and Poisson distribution?\n",
    "\n",
    "#Solution\n",
    "\"\"\"\n",
    "Binomial Distribution\n",
    "mean = n*p\n",
    "variance = n*p*q\n",
    "\n",
    "Poission Distribution\n",
    "mean = average\n",
    "varince = average\n",
    "\n",
    "n = number of trial\n",
    "p = probability of success of each trial\n",
    "q = 1-p or probability of failuer of each trial"
   ]
  },
  {
   "cell_type": "code",
   "execution_count": null,
   "id": "0faaaff2-a48e-4c0c-8b38-5432fa38d9ce",
   "metadata": {},
   "outputs": [],
   "source": [
    "#Q10. In normal distribution with respect to mean position, where does the least frequent data appear?\n",
    "\n",
    "#Solution\n",
    "\"\"\"\n",
    "In a normal distribution, also known as a Gaussian distribution or bell curve, the least frequent data points appear\n",
    "in the tails of the distribution, farthest away from the mean. The normal distribution is symmetric, with the mean,\n",
    "median, and mode all coinciding at its center.\n",
    "\"\"\""
   ]
  }
 ],
 "metadata": {
  "kernelspec": {
   "display_name": "Python 3 (ipykernel)",
   "language": "python",
   "name": "python3"
  },
  "language_info": {
   "codemirror_mode": {
    "name": "ipython",
    "version": 3
   },
   "file_extension": ".py",
   "mimetype": "text/x-python",
   "name": "python",
   "nbconvert_exporter": "python",
   "pygments_lexer": "ipython3",
   "version": "3.10.8"
  }
 },
 "nbformat": 4,
 "nbformat_minor": 5
}
