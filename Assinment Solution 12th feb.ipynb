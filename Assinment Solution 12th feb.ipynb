{
 "cells": [
  {
   "cell_type": "code",
   "execution_count": 1,
   "id": "75057bc3-a1a6-44fd-a72c-56c257c17335",
   "metadata": {},
   "outputs": [
    {
     "data": {
      "text/plain": [
       "'\\nthe above syntax is invalid and an example of syntax error'"
      ]
     },
     "execution_count": 1,
     "metadata": {},
     "output_type": "execute_result"
    }
   ],
   "source": [
    "# What is an Exception in python? Write the difference between Exceptions and syntax\n",
    "# errors\n",
    "\n",
    "#solution\n",
    "\"\"\"\n",
    "Syntax Error\n",
    "A syntax error occurs when the structure of a program does not conform to the rules of\n",
    "the programming language. Syntax errors are usually detected by the compiler or interpreter when\n",
    "the program is being compiled or executed, and they prevent the program from running.\n",
    "Syntax errors are usually caused by mistakes in the source code, such as typos, omissions,\n",
    "or incorrect use of syntax.\n",
    "\n",
    "Let's take an Example\n",
    "\"\"\"\n",
    "#while True print('Hello world')\n",
    "\"\"\"\n",
    "the above syntax is invalid and an example of syntax error\"\"\""
   ]
  },
  {
   "cell_type": "code",
   "execution_count": 2,
   "id": "938a0cd4-9dc3-461c-abde-4ee0145ae4cb",
   "metadata": {},
   "outputs": [
    {
     "name": "stdout",
     "output_type": "stream",
     "text": [
      "Error occur at Try 1 [Errno 2] No such file or directory: 'testexception1.txt'\n",
      "Finally excecuted all time\n"
     ]
    }
   ],
   "source": [
    "\"\"\"\n",
    "Exception\n",
    "An exception is an abnormal event that occurs during the execution of a program. Exceptions are\n",
    "usually caused by runtime errors, such as dividing by zero, trying to access an element in an\n",
    "array with an out-of-bounds index, or trying to access a file that does not exist. Exceptions\n",
    "are not syntax errors, but they can still prevent the program from running if they are not\n",
    "handled properly.\n",
    "\n",
    "Let's take an example\n",
    "\"\"\"\n",
    "try:\n",
    "    f = open(\"testexception1.txt\",'r')\n",
    "    f.write(\"this should be written\")\n",
    "except Exception as e:\n",
    "    print(\"Error occur at Try 1\",e)\n",
    "else:\n",
    "    print(\"Try 1 excecuted Sucessfully\")\n",
    "    f.close()\n",
    "finally:\n",
    "    print(\"Finally excecuted all time\")"
   ]
  },
  {
   "cell_type": "code",
   "execution_count": 3,
   "id": "1795e5dd-5f1c-4d1c-8d91-915ad4bd4eaf",
   "metadata": {},
   "outputs": [],
   "source": [
    "# What happens when exception is not handled? Explain with an example\n",
    "\n",
    "#Solution\n",
    "\"\"\"\n",
    "we create a class inherit the Exception and extend their property\n",
    "\"\"\"\n",
    "class validage(Exception):\n",
    "    def __init__(self,age):\n",
    "        self.age = age"
   ]
  },
  {
   "cell_type": "code",
   "execution_count": 4,
   "id": "7e4119a7-0302-42d3-8359-ef4ee489a095",
   "metadata": {},
   "outputs": [],
   "source": [
    "def checkage(age):\n",
    "    if age < 0:\n",
    "        raise validage(\"Entered age is negative\")\n",
    "    elif age > 200:\n",
    "        raise validage(\"Entered age is very high\")\n",
    "    else:\n",
    "        print(\"Age is valid\")"
   ]
  },
  {
   "cell_type": "code",
   "execution_count": 5,
   "id": "0cd92263-d047-4007-9d21-df765b90ad18",
   "metadata": {},
   "outputs": [
    {
     "name": "stdin",
     "output_type": "stream",
     "text": [
      "Enter age -45\n"
     ]
    },
    {
     "name": "stdout",
     "output_type": "stream",
     "text": [
      "Entered age is negative\n"
     ]
    }
   ],
   "source": [
    "try:\n",
    "    age = int(input(\"Enter age\"))\n",
    "    checkage(age)\n",
    "    print(age+1)\n",
    "except Exception as e:\n",
    "    print(e)"
   ]
  },
  {
   "cell_type": "code",
   "execution_count": 6,
   "id": "1d76e185-9f32-471a-af52-337f377fb43c",
   "metadata": {},
   "outputs": [
    {
     "name": "stdin",
     "output_type": "stream",
     "text": [
      "Enter the first number 34\n",
      "Enter the Second number 0\n"
     ]
    },
    {
     "name": "stdout",
     "output_type": "stream",
     "text": [
      "num2 can't be zero division by zero\n",
      "Rest programme will be excecuted\n"
     ]
    }
   ],
   "source": [
    "#Which Python statements are used to catch and handle exceptions? Explain with an example \n",
    "\n",
    "#solution\n",
    "\"\"\"\n",
    "The try and except block in Python is used to catch and handle exceptions. Python executes\n",
    "code following the try statement as a “normal” part of the program. The code that follows\n",
    "the except statement is the program’s response to any exceptions in the preceding try clause\n",
    "\"\"\"\n",
    "num1 = int(input(\"Enter the first number\"))\n",
    "num2 = int(input(\"Enter the Second number\"))\n",
    "\n",
    "try:\n",
    "    num3 = num1/num2\n",
    "    print(num3)\n",
    "except Exception as e:\n",
    "    print(\"num2 can't be zero\",e)\n",
    "\n",
    "print(\"Rest programme will be excecuted\")"
   ]
  },
  {
   "cell_type": "code",
   "execution_count": 7,
   "id": "81f0fb22-28db-4b7d-ba17-1764583ac392",
   "metadata": {},
   "outputs": [
    {
     "name": "stdout",
     "output_type": "stream",
     "text": [
      "Error occur at Try 1 [Errno 2] No such file or directory: 'testexception1.txt'\n",
      "Finally excecuted all time\n"
     ]
    }
   ],
   "source": [
    "# Explain with an example\n",
    "# try and else\n",
    "# finally\n",
    "# raise\n",
    "\n",
    "#Solution\n",
    "\"\"\"\n",
    "Try: This block will test the excepted error to occur\n",
    "Except:  Here you can handle the error\n",
    "Else: If there is no exception then this block will be executed\n",
    "Finally: Finally block always gets executed either exception is generated or not\n",
    "\"\"\"\n",
    "try:\n",
    "    f = open(\"testexception1.txt\",'r')\n",
    "    f.write(\"this should be written\")\n",
    "except Exception as e:\n",
    "    print(\"Error occur at Try 1\",e)\n",
    "else:\n",
    "    print(\"Try 1 excecuted Sucessfully\")\n",
    "    f.close()\n",
    "finally:\n",
    "    print(\"Finally excecuted all time\")"
   ]
  },
  {
   "cell_type": "code",
   "execution_count": 8,
   "id": "30d9d01d-47f7-4c1a-b895-fbb92a667174",
   "metadata": {},
   "outputs": [],
   "source": [
    "# What are Custom Exceptions in python? Why do we need Custom Exceptions? Explain\n",
    "# with an example\n",
    "\n",
    "# Solution\n",
    "\"\"\"\n",
    "Exceptions need to be derived from the Exception class, either directly or indirectly.\n",
    "Although not mandatory, most of the exceptions are named as names that end in “Error”\n",
    "similar to the naming of the standard exceptions in python. For example,\n",
    "\"\"\"\n",
    "\n",
    "class minimum_wages(Exception):\n",
    "    def __init__(self,wages):\n",
    "        self.wages = wages\n",
    "\n",
    "def check_minimun_wages(wages,catagory):\n",
    "    if catagory == 'skilled':\n",
    "        if wages < 8000:\n",
    "            raise minimum_wages(\"Minimun wages criteria for skilled labour is Rs.8000\")\n",
    "        else:\n",
    "            print(\"Annual income of labour\")\n",
    "    elif category == 'unskilled':\n",
    "        if wages < 5000:\n",
    "            raise minimum_wages(\"Minimun wages criteria for unskilled labour is Rs.5000\")\n",
    "        else:\n",
    "            print(\"Annual income of labour\")\n",
    "    else:\n",
    "        raise minimum_wages(\"Please enter correct catagory of labour\")"
   ]
  },
  {
   "cell_type": "code",
   "execution_count": 10,
   "id": "baecfc7c-7666-4682-84cc-7928e9cb4ba9",
   "metadata": {},
   "outputs": [],
   "source": [
    "class labour(Exception):\n",
    "    def __init__(self,opt):\n",
    "        self.opt = opt"
   ]
  },
  {
   "cell_type": "code",
   "execution_count": 22,
   "id": "43a88f90-fa22-44b6-b46a-eb051f208e94",
   "metadata": {},
   "outputs": [],
   "source": [
    "def check_labour_opt(opt):\n",
    "    if opt == 1:\n",
    "        return 'skilled'\n",
    "    elif opt == 2:\n",
    "        return 'unskilled'\n",
    "    else:\n",
    "        raise labour(\"please select the option '1' or '2' for correct labour category\")"
   ]
  },
  {
   "cell_type": "code",
   "execution_count": 23,
   "id": "791828b6-641f-4287-868a-7dfc8a991d1a",
   "metadata": {},
   "outputs": [
    {
     "name": "stdin",
     "output_type": "stream",
     "text": [
      "Select the category of labour: '1' for skilled or '2' for unskilled:- 4\n"
     ]
    },
    {
     "name": "stdout",
     "output_type": "stream",
     "text": [
      "please select the option '1' or '2' for correct labour category\n"
     ]
    }
   ],
   "source": [
    "try:\n",
    "    def labour_category(opt):\n",
    "        category = check_labour_opt(opt)\n",
    "        return category\n",
    "            \n",
    "    category_option = int(input(\"Select the category of labour: '1' for skilled or '2' for unskilled:-\"))\n",
    "    category = labour_category(category_option)\n",
    "    wages = int(input(\"Enter the wages of labour\"))\n",
    "    check_minimun_wages(wages,category)\n",
    "    print(wages*12)\n",
    "except Exception as e:\n",
    "    print(e)"
   ]
  },
  {
   "cell_type": "code",
   "execution_count": 26,
   "id": "4457ac25-94b9-4626-8e03-36941396ed4d",
   "metadata": {},
   "outputs": [],
   "source": [
    "#Create a custom exception class. Use this class to handle an exception.\n",
    "\n",
    "class minnor(Exception):\n",
    "    def  __init__(self,min_age):\n",
    "        self.min_age = min_age\n",
    "def check_minnor(age):\n",
    "    if age < 18:\n",
    "        raise minnor(\"This person is not eligible\")\n",
    "    else:\n",
    "        print(\"This person is eligible\")"
   ]
  },
  {
   "cell_type": "code",
   "execution_count": 29,
   "id": "5a511284-bcb2-4140-aa51-0ea928396dc9",
   "metadata": {},
   "outputs": [
    {
     "name": "stdin",
     "output_type": "stream",
     "text": [
      "Enter age 3\n"
     ]
    },
    {
     "name": "stdout",
     "output_type": "stream",
     "text": [
      "You only own Aadhar card\n",
      "This person is not eligible\n"
     ]
    }
   ],
   "source": [
    "try:\n",
    "    age = int(input(\"Enter age\"))\n",
    "    check_minnor(age)\n",
    "    print(\"You can now own your Passport,driving licence,voter ID card\")\n",
    "except Exception as e:\n",
    "    print(\"You only own Aadhar card\")\n",
    "    print(e)"
   ]
  },
  {
   "cell_type": "code",
   "execution_count": null,
   "id": "a2b324e8-b2fa-422f-8228-7928b5f075be",
   "metadata": {},
   "outputs": [],
   "source": []
  }
 ],
 "metadata": {
  "kernelspec": {
   "display_name": "Python 3 (ipykernel)",
   "language": "python",
   "name": "python3"
  },
  "language_info": {
   "codemirror_mode": {
    "name": "ipython",
    "version": 3
   },
   "file_extension": ".py",
   "mimetype": "text/x-python",
   "name": "python",
   "nbconvert_exporter": "python",
   "pygments_lexer": "ipython3",
   "version": "3.10.8"
  }
 },
 "nbformat": 4,
 "nbformat_minor": 5
}
